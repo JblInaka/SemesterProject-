{
 "cells": [
  {
   "cell_type": "code",
   "execution_count": 1,
   "metadata": {},
   "outputs": [],
   "source": [
    "import pandas as pd\n",
    "import numpy as np"
   ]
  },
  {
   "cell_type": "code",
   "execution_count": 13,
   "metadata": {},
   "outputs": [],
   "source": [
    "premier =(df1[\"day\"] > \"2019-12-18\")"
   ]
  },
  {
   "cell_type": "code",
   "execution_count": 11,
   "metadata": {},
   "outputs": [
    {
     "data": {
      "text/plain": [
       "callsign         object\n",
       "number           object\n",
       "icao24           object\n",
       "registration     object\n",
       "typecode         object\n",
       "origin           object\n",
       "destination      object\n",
       "firstseen        object\n",
       "lastseen         object\n",
       "day              object\n",
       "latitude_1      float64\n",
       "longitude_1     float64\n",
       "altitude_1      float64\n",
       "latitude_2      float64\n",
       "longitude_2     float64\n",
       "altitude_2      float64\n",
       "dtype: object"
      ]
     },
     "execution_count": 11,
     "metadata": {},
     "output_type": "execute_result"
    }
   ],
   "source": [
    "df1.dtypes"
   ]
  },
  {
   "cell_type": "code",
   "execution_count": 16,
   "metadata": {},
   "outputs": [],
   "source": [
    "covid_new = df1_new.append(df2, ignore_index=True)"
   ]
  },
  {
   "cell_type": "code",
   "execution_count": 20,
   "metadata": {},
   "outputs": [],
   "source": [
    "covid_new.drop([\"callsign\",\"number\", \"icao24\" ,\"registration\", \"typecode\"], axis = 1, inplace = True )"
   ]
  },
  {
   "cell_type": "code",
   "execution_count": 22,
   "metadata": {},
   "outputs": [],
   "source": [
    "# Origin par China  et filtrer ( ZUCK, ZGSZ)\n",
    "# destination, find china and remove / \n",
    "# drop china na destination "
   ]
  },
  {
   "cell_type": "code",
   "execution_count": 23,
   "metadata": {},
   "outputs": [],
   "source": [
    "covid_new.replace(to_replace =[\"VHHH\", \"ZGGG\", \"VMMC\", \"ZGOW\", \"ZGSD\", \"ZGSZ\", \"ZSAM\", \"ZSWZ\", \"ZUCK\", \"ZYHE\"], \n",
    "                            value =\"CHINA\", inplace = True)"
   ]
  },
  {
   "cell_type": "code",
   "execution_count": 25,
   "metadata": {},
   "outputs": [],
   "source": [
    "covid_new.to_csv(r'C:\\Users\\UTILISATEUR\\Desktop\\Borel\\C2.csv', index = False)"
   ]
  },
  {
   "cell_type": "code",
   "execution_count": 26,
   "metadata": {},
   "outputs": [],
   "source": [
    "# drop les valeurs qui ne sont pas chine dans la colonnes origin\n",
    "cond = covid_new[\"origin\"] != 'CHINA'\n",
    "covid_new.drop(covid_new[cond].index, inplace = True)"
   ]
  },
  {
   "cell_type": "code",
   "execution_count": 27,
   "metadata": {},
   "outputs": [
    {
     "data": {
      "text/plain": [
       "(68915, 5)"
      ]
     },
     "execution_count": 27,
     "metadata": {},
     "output_type": "execute_result"
    }
   ],
   "source": [
    "covid_new.shape #a ce stade nous avons 68915 partant de la chine vers d'autre pays "
   ]
  },
  {
   "cell_type": "code",
   "execution_count": 28,
   "metadata": {},
   "outputs": [],
   "source": [
    "# drop china dans destination"
   ]
  },
  {
   "cell_type": "code",
   "execution_count": 29,
   "metadata": {},
   "outputs": [],
   "source": [
    "cond2 = covid_new[\"destination\"] == 'CHINA'\n",
    "covid_new.drop(covid_new[cond2].index, inplace = True)"
   ]
  },
  {
   "cell_type": "code",
   "execution_count": 31,
   "metadata": {},
   "outputs": [],
   "source": [
    "# clean missing and NAN values \n",
    "# change Day type \n",
    "# destination par kombo\n",
    "# Merge Covid ( confirm case) file a partir ya country na date \n"
   ]
  },
  {
   "cell_type": "code",
   "execution_count": 32,
   "metadata": {},
   "outputs": [],
   "source": [
    "# clean missing and NAN values \n",
    "covid_new.dropna(axis=0, inplace=True)\n",
    "# change Day type "
   ]
  },
  {
   "cell_type": "code",
   "execution_count": 36,
   "metadata": {},
   "outputs": [],
   "source": [
    "# after cleaning the remaining rows is 29021"
   ]
  },
  {
   "cell_type": "code",
   "execution_count": 37,
   "metadata": {},
   "outputs": [],
   "source": [
    "# creation des valeurs uniques pour tirer les origines et destinations\n",
    "df_ac = pd.DataFrame(list(set().union(covid_new.origin.unique(), covid_new.destination.unique())))"
   ]
  },
  {
   "cell_type": "code",
   "execution_count": 38,
   "metadata": {},
   "outputs": [],
   "source": [
    "# Creation des valeurs uniques des destinations\n",
    "df_ab = pd.DataFrame(list(covid_new.destination.unique()))"
   ]
  },
  {
   "cell_type": "code",
   "execution_count": 2,
   "metadata": {},
   "outputs": [
    {
     "data": {
      "text/html": [
       "<div>\n",
       "<style scoped>\n",
       "    .dataframe tbody tr th:only-of-type {\n",
       "        vertical-align: middle;\n",
       "    }\n",
       "\n",
       "    .dataframe tbody tr th {\n",
       "        vertical-align: top;\n",
       "    }\n",
       "\n",
       "    .dataframe thead th {\n",
       "        text-align: right;\n",
       "    }\n",
       "</style>\n",
       "<table border=\"1\" class=\"dataframe\">\n",
       "  <thead>\n",
       "    <tr style=\"text-align: right;\">\n",
       "      <th></th>\n",
       "      <th>Date</th>\n",
       "      <th>Country/Region</th>\n",
       "      <th>Province/State</th>\n",
       "      <th>Confirmed</th>\n",
       "      <th>Recovered</th>\n",
       "      <th>Deaths</th>\n",
       "    </tr>\n",
       "  </thead>\n",
       "  <tbody>\n",
       "    <tr>\n",
       "      <th>181995</th>\n",
       "      <td>2021-10-28</td>\n",
       "      <td>Zimbabwe</td>\n",
       "      <td>NaN</td>\n",
       "      <td>132880</td>\n",
       "      <td>0.0</td>\n",
       "      <td>4675</td>\n",
       "    </tr>\n",
       "    <tr>\n",
       "      <th>181996</th>\n",
       "      <td>2021-10-29</td>\n",
       "      <td>Zimbabwe</td>\n",
       "      <td>NaN</td>\n",
       "      <td>132926</td>\n",
       "      <td>0.0</td>\n",
       "      <td>4675</td>\n",
       "    </tr>\n",
       "    <tr>\n",
       "      <th>181997</th>\n",
       "      <td>2021-10-30</td>\n",
       "      <td>Zimbabwe</td>\n",
       "      <td>NaN</td>\n",
       "      <td>132926</td>\n",
       "      <td>0.0</td>\n",
       "      <td>4675</td>\n",
       "    </tr>\n",
       "    <tr>\n",
       "      <th>181998</th>\n",
       "      <td>2021-10-31</td>\n",
       "      <td>Zimbabwe</td>\n",
       "      <td>NaN</td>\n",
       "      <td>132977</td>\n",
       "      <td>0.0</td>\n",
       "      <td>4678</td>\n",
       "    </tr>\n",
       "    <tr>\n",
       "      <th>181999</th>\n",
       "      <td>2021-11-01</td>\n",
       "      <td>Zimbabwe</td>\n",
       "      <td>NaN</td>\n",
       "      <td>133007</td>\n",
       "      <td>0.0</td>\n",
       "      <td>4679</td>\n",
       "    </tr>\n",
       "  </tbody>\n",
       "</table>\n",
       "</div>"
      ],
      "text/plain": [
       "              Date Country/Region Province/State  Confirmed  Recovered  Deaths\n",
       "181995  2021-10-28       Zimbabwe            NaN     132880        0.0    4675\n",
       "181996  2021-10-29       Zimbabwe            NaN     132926        0.0    4675\n",
       "181997  2021-10-30       Zimbabwe            NaN     132926        0.0    4675\n",
       "181998  2021-10-31       Zimbabwe            NaN     132977        0.0    4678\n",
       "181999  2021-11-01       Zimbabwe            NaN     133007        0.0    4679"
      ]
     },
     "execution_count": 2,
     "metadata": {},
     "output_type": "execute_result"
    }
   ],
   "source": [
    "# tout commence ici\n",
    "covid_19 =  pd.read_csv(\"/home/jbl/Documents/livre unil/Project SOAR/COVID-19-global-data.csv\")\n",
    "covid_19.tail() #covid record start from 22 Janv 2020"
   ]
  },
  {
   "cell_type": "code",
   "execution_count": 14,
   "metadata": {},
   "outputs": [
    {
     "data": {
      "text/plain": [
       "(182000, 6)"
      ]
     },
     "execution_count": 14,
     "metadata": {},
     "output_type": "execute_result"
    }
   ],
   "source": [
    "covid_19.shape"
   ]
  },
  {
   "cell_type": "code",
   "execution_count": 3,
   "metadata": {},
   "outputs": [
    {
     "data": {
      "text/plain": [
       "array(['Afghanistan', 'Albania', 'Algeria', 'Andorra', 'Angola',\n",
       "       'Antigua and Barbuda', 'Argentina', 'Armenia', 'Australia',\n",
       "       'Austria', 'Azerbaijan', 'Bahamas', 'Bahrain', 'Bangladesh',\n",
       "       'Barbados', 'Belarus', 'Belgium', 'Belize', 'Benin', 'Bhutan',\n",
       "       'Bolivia', 'Bosnia and Herzegovina', 'Botswana', 'Brazil',\n",
       "       'Brunei', 'Bulgaria', 'Burkina Faso', 'Burma', 'Burundi',\n",
       "       'Cabo Verde', 'Cambodia', 'Cameroon', 'Canada',\n",
       "       'Central African Republic', 'Chad', 'Chile', 'China', 'Colombia',\n",
       "       'Comoros', 'Congo (Brazzaville)', 'Congo (Kinshasa)', 'Costa Rica',\n",
       "       \"Cote d'Ivoire\", 'Croatia', 'Cuba', 'Cyprus', 'Czechia', 'Denmark',\n",
       "       'Diamond Princess', 'Djibouti', 'Dominica', 'Dominican Republic',\n",
       "       'Ecuador', 'Egypt', 'El Salvador', 'Equatorial Guinea', 'Eritrea',\n",
       "       'Estonia', 'Eswatini', 'Ethiopia', 'Fiji', 'Finland', 'France',\n",
       "       'Gabon', 'Gambia', 'Georgia', 'Germany', 'Ghana', 'Greece',\n",
       "       'Grenada', 'Guatemala', 'Guinea', 'Guinea-Bissau', 'Guyana',\n",
       "       'Haiti', 'Holy See', 'Honduras', 'Hungary', 'Iceland', 'India',\n",
       "       'Indonesia', 'Iran', 'Iraq', 'Ireland', 'Israel', 'Italy',\n",
       "       'Jamaica', 'Japan', 'Jordan', 'Kazakhstan', 'Kenya', 'Kiribati',\n",
       "       'Korea, South', 'Kosovo', 'Kuwait', 'Kyrgyzstan', 'Laos', 'Latvia',\n",
       "       'Lebanon', 'Lesotho', 'Liberia', 'Libya', 'Liechtenstein',\n",
       "       'Lithuania', 'Luxembourg', 'MS Zaandam', 'Madagascar', 'Malawi',\n",
       "       'Malaysia', 'Maldives', 'Mali', 'Malta', 'Marshall Islands',\n",
       "       'Mauritania', 'Mauritius', 'Mexico', 'Micronesia', 'Moldova',\n",
       "       'Monaco', 'Mongolia', 'Montenegro', 'Morocco', 'Mozambique',\n",
       "       'Namibia', 'Nepal', 'Netherlands', 'New Zealand', 'Nicaragua',\n",
       "       'Niger', 'Nigeria', 'North Macedonia', 'Norway', 'Oman',\n",
       "       'Pakistan', 'Palau', 'Panama', 'Papua New Guinea', 'Paraguay',\n",
       "       'Peru', 'Philippines', 'Poland', 'Portugal', 'Qatar', 'Romania',\n",
       "       'Russia', 'Rwanda', 'Saint Kitts and Nevis', 'Saint Lucia',\n",
       "       'Saint Vincent and the Grenadines', 'Samoa', 'San Marino',\n",
       "       'Sao Tome and Principe', 'Saudi Arabia', 'Senegal', 'Serbia',\n",
       "       'Seychelles', 'Sierra Leone', 'Singapore', 'Slovakia', 'Slovenia',\n",
       "       'Solomon Islands', 'Somalia', 'South Africa', 'South Sudan',\n",
       "       'Spain', 'Sri Lanka', 'Sudan', 'Summer Olympics 2020', 'Suriname',\n",
       "       'Sweden', 'Switzerland', 'Syria', 'Taiwan*', 'Tajikistan',\n",
       "       'Tanzania', 'Thailand', 'Timor-Leste', 'Togo', 'Tonga',\n",
       "       'Trinidad and Tobago', 'Tunisia', 'Turkey', 'US', 'Uganda',\n",
       "       'Ukraine', 'United Arab Emirates', 'United Kingdom', 'Uruguay',\n",
       "       'Uzbekistan', 'Vanuatu', 'Venezuela', 'Vietnam',\n",
       "       'West Bank and Gaza', 'Yemen', 'Zambia', 'Zimbabwe'], dtype=object)"
      ]
     },
     "execution_count": 3,
     "metadata": {},
     "output_type": "execute_result"
    }
   ],
   "source": [
    "covid_19['Country/Region'].unique()"
   ]
  },
  {
   "cell_type": "code",
   "execution_count": 11,
   "metadata": {},
   "outputs": [
    {
     "data": {
      "text/html": [
       "<div>\n",
       "<style scoped>\n",
       "    .dataframe tbody tr th:only-of-type {\n",
       "        vertical-align: middle;\n",
       "    }\n",
       "\n",
       "    .dataframe tbody tr th {\n",
       "        vertical-align: top;\n",
       "    }\n",
       "\n",
       "    .dataframe thead th {\n",
       "        text-align: right;\n",
       "    }\n",
       "</style>\n",
       "<table border=\"1\" class=\"dataframe\">\n",
       "  <thead>\n",
       "    <tr style=\"text-align: right;\">\n",
       "      <th></th>\n",
       "      <th>Date</th>\n",
       "      <th>Country/Region</th>\n",
       "      <th>Province/State</th>\n",
       "      <th>Confirmed</th>\n",
       "      <th>Recovered</th>\n",
       "      <th>Deaths</th>\n",
       "    </tr>\n",
       "  </thead>\n",
       "  <tbody>\n",
       "    <tr>\n",
       "      <th>87153</th>\n",
       "      <td>2020-03-15</td>\n",
       "      <td>Germany</td>\n",
       "      <td>NaN</td>\n",
       "      <td>5795</td>\n",
       "      <td>46.0</td>\n",
       "      <td>11</td>\n",
       "    </tr>\n",
       "  </tbody>\n",
       "</table>\n",
       "</div>"
      ],
      "text/plain": [
       "             Date Country/Region Province/State  Confirmed  Recovered  Deaths\n",
       "87153  2020-03-15        Germany            NaN       5795       46.0      11"
      ]
     },
     "execution_count": 11,
     "metadata": {},
     "output_type": "execute_result"
    }
   ],
   "source": [
    "# Germany number of cases by 15/03/20 => germany is a country; country -> is a column;\n",
    "# so there is a need for a condition  \n",
    "# confirmed cases is also a column (it is cumulative sum); =>  \n",
    "covid_19[(covid_19['Country/Region'] == 'Germany') & (covid_19['Date'] == '2020-03-15')]"
   ]
  },
  {
   "cell_type": "code",
   "execution_count": 32,
   "metadata": {},
   "outputs": [],
   "source": [
    "# we need to limit the date to 15th March 2020\n",
    "# let's make a condition for that \n",
    "# and then remove all the records whose dates are beyond "
   ]
  },
  {
   "cell_type": "code",
   "execution_count": 12,
   "metadata": {},
   "outputs": [
    {
     "data": {
      "text/html": [
       "<div>\n",
       "<style scoped>\n",
       "    .dataframe tbody tr th:only-of-type {\n",
       "        vertical-align: middle;\n",
       "    }\n",
       "\n",
       "    .dataframe tbody tr th {\n",
       "        vertical-align: top;\n",
       "    }\n",
       "\n",
       "    .dataframe thead th {\n",
       "        text-align: right;\n",
       "    }\n",
       "</style>\n",
       "<table border=\"1\" class=\"dataframe\">\n",
       "  <thead>\n",
       "    <tr style=\"text-align: right;\">\n",
       "      <th></th>\n",
       "      <th>Date</th>\n",
       "      <th>Country/Region</th>\n",
       "      <th>Province/State</th>\n",
       "      <th>Confirmed</th>\n",
       "      <th>Recovered</th>\n",
       "      <th>Deaths</th>\n",
       "    </tr>\n",
       "  </thead>\n",
       "  <tbody>\n",
       "    <tr>\n",
       "      <th>181399</th>\n",
       "      <td>2020-03-11</td>\n",
       "      <td>Zimbabwe</td>\n",
       "      <td>NaN</td>\n",
       "      <td>0</td>\n",
       "      <td>0.0</td>\n",
       "      <td>0</td>\n",
       "    </tr>\n",
       "    <tr>\n",
       "      <th>181400</th>\n",
       "      <td>2020-03-12</td>\n",
       "      <td>Zimbabwe</td>\n",
       "      <td>NaN</td>\n",
       "      <td>0</td>\n",
       "      <td>0.0</td>\n",
       "      <td>0</td>\n",
       "    </tr>\n",
       "    <tr>\n",
       "      <th>181401</th>\n",
       "      <td>2020-03-13</td>\n",
       "      <td>Zimbabwe</td>\n",
       "      <td>NaN</td>\n",
       "      <td>0</td>\n",
       "      <td>0.0</td>\n",
       "      <td>0</td>\n",
       "    </tr>\n",
       "    <tr>\n",
       "      <th>181402</th>\n",
       "      <td>2020-03-14</td>\n",
       "      <td>Zimbabwe</td>\n",
       "      <td>NaN</td>\n",
       "      <td>0</td>\n",
       "      <td>0.0</td>\n",
       "      <td>0</td>\n",
       "    </tr>\n",
       "    <tr>\n",
       "      <th>181403</th>\n",
       "      <td>2020-03-15</td>\n",
       "      <td>Zimbabwe</td>\n",
       "      <td>NaN</td>\n",
       "      <td>0</td>\n",
       "      <td>0.0</td>\n",
       "      <td>0</td>\n",
       "    </tr>\n",
       "  </tbody>\n",
       "</table>\n",
       "</div>"
      ],
      "text/plain": [
       "              Date Country/Region Province/State  Confirmed  Recovered  Deaths\n",
       "181399  2020-03-11       Zimbabwe            NaN          0        0.0       0\n",
       "181400  2020-03-12       Zimbabwe            NaN          0        0.0       0\n",
       "181401  2020-03-13       Zimbabwe            NaN          0        0.0       0\n",
       "181402  2020-03-14       Zimbabwe            NaN          0        0.0       0\n",
       "181403  2020-03-15       Zimbabwe            NaN          0        0.0       0"
      ]
     },
     "execution_count": 12,
     "metadata": {},
     "output_type": "execute_result"
    }
   ],
   "source": [
    "noLockdown = covid_19['Date'] < \"2020-03-16\"\n",
    "covid_19_noLockdown = covid_19[noLockdown]\n",
    "covid_19_noLockdown.tail()"
   ]
  },
  {
   "cell_type": "code",
   "execution_count": 13,
   "metadata": {},
   "outputs": [
    {
     "data": {
      "text/plain": [
       "(15120, 6)"
      ]
     },
     "execution_count": 13,
     "metadata": {},
     "output_type": "execute_result"
    }
   ],
   "source": [
    "covid_19_noLockdown.shape #15 K records upto 15 March 20"
   ]
  },
  {
   "cell_type": "code",
   "execution_count": 14,
   "metadata": {},
   "outputs": [
    {
     "data": {
      "text/html": [
       "<div>\n",
       "<style scoped>\n",
       "    .dataframe tbody tr th:only-of-type {\n",
       "        vertical-align: middle;\n",
       "    }\n",
       "\n",
       "    .dataframe tbody tr th {\n",
       "        vertical-align: top;\n",
       "    }\n",
       "\n",
       "    .dataframe thead th {\n",
       "        text-align: right;\n",
       "    }\n",
       "</style>\n",
       "<table border=\"1\" class=\"dataframe\">\n",
       "  <thead>\n",
       "    <tr style=\"text-align: right;\">\n",
       "      <th></th>\n",
       "      <th>Date</th>\n",
       "      <th>Country/Region</th>\n",
       "      <th>Province/State</th>\n",
       "      <th>Confirmed</th>\n",
       "      <th>Recovered</th>\n",
       "      <th>Deaths</th>\n",
       "    </tr>\n",
       "  </thead>\n",
       "  <tbody>\n",
       "    <tr>\n",
       "      <th>87153</th>\n",
       "      <td>2020-03-15</td>\n",
       "      <td>Germany</td>\n",
       "      <td>NaN</td>\n",
       "      <td>5795</td>\n",
       "      <td>46.0</td>\n",
       "      <td>11</td>\n",
       "    </tr>\n",
       "  </tbody>\n",
       "</table>\n",
       "</div>"
      ],
      "text/plain": [
       "             Date Country/Region Province/State  Confirmed  Recovered  Deaths\n",
       "87153  2020-03-15        Germany            NaN       5795       46.0      11"
      ]
     },
     "execution_count": 14,
     "metadata": {},
     "output_type": "execute_result"
    }
   ],
   "source": [
    "covid_19_noLockdown[(covid_19_noLockdown['Country/Region'] == 'Germany') & (covid_19_noLockdown['Date'] == '2020-03-15')]"
   ]
  },
  {
   "cell_type": "code",
   "execution_count": 15,
   "metadata": {},
   "outputs": [
    {
     "data": {
      "text/plain": [
       "Date               object\n",
       "Country/Region     object\n",
       "Province/State     object\n",
       "Confirmed           int64\n",
       "Recovered         float64\n",
       "Deaths              int64\n",
       "dtype: object"
      ]
     },
     "execution_count": 15,
     "metadata": {},
     "output_type": "execute_result"
    }
   ],
   "source": [
    "covid_19_noLockdown.dtypes #date format a changer et uniformiser les deux dataframes  / province à drop / "
   ]
  },
  {
   "cell_type": "code",
   "execution_count": 16,
   "metadata": {},
   "outputs": [
    {
     "data": {
      "text/plain": [
       "0   2020-01-22\n",
       "1   2020-01-23\n",
       "2   2020-01-24\n",
       "3   2020-01-25\n",
       "4   2020-01-26\n",
       "Name: Date, dtype: datetime64[ns]"
      ]
     },
     "execution_count": 16,
     "metadata": {},
     "output_type": "execute_result"
    }
   ],
   "source": [
    "covid_19['Date'] = pd.to_datetime(covid_19['Date'], infer_datetime_format=True)\n",
    "covid_19['Date'].head() #Date formatted "
   ]
  },
  {
   "cell_type": "code",
   "execution_count": 17,
   "metadata": {},
   "outputs": [],
   "source": [
    "# Air traffic loading\n",
    "air_traffic = pd.read_csv(\"/home/jbl/Documents/livre unil/Project SOAR/Air.csv\")"
   ]
  },
  {
   "cell_type": "code",
   "execution_count": 18,
   "metadata": {},
   "outputs": [
    {
     "data": {
      "text/html": [
       "<div>\n",
       "<style scoped>\n",
       "    .dataframe tbody tr th:only-of-type {\n",
       "        vertical-align: middle;\n",
       "    }\n",
       "\n",
       "    .dataframe tbody tr th {\n",
       "        vertical-align: top;\n",
       "    }\n",
       "\n",
       "    .dataframe thead th {\n",
       "        text-align: right;\n",
       "    }\n",
       "</style>\n",
       "<table border=\"1\" class=\"dataframe\">\n",
       "  <thead>\n",
       "    <tr style=\"text-align: right;\">\n",
       "      <th></th>\n",
       "      <th>Origin</th>\n",
       "      <th>Country/Region</th>\n",
       "      <th>Firstseen</th>\n",
       "      <th>Lastseen</th>\n",
       "      <th>Date Air_traffic</th>\n",
       "    </tr>\n",
       "  </thead>\n",
       "  <tbody>\n",
       "    <tr>\n",
       "      <th>29017</th>\n",
       "      <td>China</td>\n",
       "      <td>Hungary</td>\n",
       "      <td>3/29/2020 16:07</td>\n",
       "      <td>3/30/2020 5:51</td>\n",
       "      <td>3/30/2020 2:00</td>\n",
       "    </tr>\n",
       "    <tr>\n",
       "      <th>29018</th>\n",
       "      <td>China</td>\n",
       "      <td>Sri Lanka</td>\n",
       "      <td>3/30/2020 3:30</td>\n",
       "      <td>3/30/2020 8:17</td>\n",
       "      <td>3/30/2020 2:00</td>\n",
       "    </tr>\n",
       "    <tr>\n",
       "      <th>29019</th>\n",
       "      <td>China</td>\n",
       "      <td>Turkey</td>\n",
       "      <td>3/30/2020 6:33</td>\n",
       "      <td>3/30/2020 16:58</td>\n",
       "      <td>3/30/2020 2:00</td>\n",
       "    </tr>\n",
       "    <tr>\n",
       "      <th>29020</th>\n",
       "      <td>China</td>\n",
       "      <td>Bahrain</td>\n",
       "      <td>3/30/2020 23:53</td>\n",
       "      <td>3/31/2020 8:29</td>\n",
       "      <td>3/31/2020 2:00</td>\n",
       "    </tr>\n",
       "    <tr>\n",
       "      <th>29021</th>\n",
       "      <td>China</td>\n",
       "      <td>Czech Republic</td>\n",
       "      <td>3/31/2020 0:13</td>\n",
       "      <td>3/31/2020 18:34</td>\n",
       "      <td>3/31/2020 2:00</td>\n",
       "    </tr>\n",
       "  </tbody>\n",
       "</table>\n",
       "</div>"
      ],
      "text/plain": [
       "      Origin  Country/Region        Firstseen         Lastseen  \\\n",
       "29017  China         Hungary  3/29/2020 16:07   3/30/2020 5:51   \n",
       "29018  China       Sri Lanka   3/30/2020 3:30   3/30/2020 8:17   \n",
       "29019  China          Turkey   3/30/2020 6:33  3/30/2020 16:58   \n",
       "29020  China         Bahrain  3/30/2020 23:53   3/31/2020 8:29   \n",
       "29021  China  Czech Republic   3/31/2020 0:13  3/31/2020 18:34   \n",
       "\n",
       "      Date Air_traffic  \n",
       "29017   3/30/2020 2:00  \n",
       "29018   3/30/2020 2:00  \n",
       "29019   3/30/2020 2:00  \n",
       "29020   3/31/2020 2:00  \n",
       "29021   3/31/2020 2:00  "
      ]
     },
     "execution_count": 18,
     "metadata": {},
     "output_type": "execute_result"
    }
   ],
   "source": [
    "air_traffic.tail() #let's limit to 15 March"
   ]
  },
  {
   "cell_type": "code",
   "execution_count": 19,
   "metadata": {},
   "outputs": [
    {
     "data": {
      "text/plain": [
       "(29022, 5)"
      ]
     },
     "execution_count": 19,
     "metadata": {},
     "output_type": "execute_result"
    }
   ],
   "source": [
    "air_traffic.shape"
   ]
  },
  {
   "cell_type": "code",
   "execution_count": 20,
   "metadata": {},
   "outputs": [
    {
     "data": {
      "text/html": [
       "<div>\n",
       "<style scoped>\n",
       "    .dataframe tbody tr th:only-of-type {\n",
       "        vertical-align: middle;\n",
       "    }\n",
       "\n",
       "    .dataframe tbody tr th {\n",
       "        vertical-align: top;\n",
       "    }\n",
       "\n",
       "    .dataframe thead th {\n",
       "        text-align: right;\n",
       "    }\n",
       "</style>\n",
       "<table border=\"1\" class=\"dataframe\">\n",
       "  <thead>\n",
       "    <tr style=\"text-align: right;\">\n",
       "      <th></th>\n",
       "      <th>Origin</th>\n",
       "      <th>Country/Region</th>\n",
       "      <th>Firstseen</th>\n",
       "      <th>Lastseen</th>\n",
       "      <th>Date Air_traffic</th>\n",
       "    </tr>\n",
       "  </thead>\n",
       "  <tbody>\n",
       "    <tr>\n",
       "      <th>28978</th>\n",
       "      <td>China</td>\n",
       "      <td>Austria</td>\n",
       "      <td>3/14/2020 2:33</td>\n",
       "      <td>3/14/2020 15:57</td>\n",
       "      <td>3/14/2020 1:00</td>\n",
       "    </tr>\n",
       "    <tr>\n",
       "      <th>28979</th>\n",
       "      <td>China</td>\n",
       "      <td>Turkey</td>\n",
       "      <td>3/14/2020 11:36</td>\n",
       "      <td>3/14/2020 22:39</td>\n",
       "      <td>3/14/2020 1:00</td>\n",
       "    </tr>\n",
       "    <tr>\n",
       "      <th>28980</th>\n",
       "      <td>China</td>\n",
       "      <td>Sri Lanka</td>\n",
       "      <td>3/14/2020 13:22</td>\n",
       "      <td>3/14/2020 18:38</td>\n",
       "      <td>3/14/2020 1:00</td>\n",
       "    </tr>\n",
       "    <tr>\n",
       "      <th>28981</th>\n",
       "      <td>China</td>\n",
       "      <td>Bahrain</td>\n",
       "      <td>3/14/2020 22:00</td>\n",
       "      <td>3/15/2020 6:49</td>\n",
       "      <td>3/15/2020 1:00</td>\n",
       "    </tr>\n",
       "    <tr>\n",
       "      <th>28982</th>\n",
       "      <td>China</td>\n",
       "      <td>Bahrain</td>\n",
       "      <td>3/14/2020 23:19</td>\n",
       "      <td>3/15/2020 8:02</td>\n",
       "      <td>3/15/2020 1:00</td>\n",
       "    </tr>\n",
       "  </tbody>\n",
       "</table>\n",
       "</div>"
      ],
      "text/plain": [
       "      Origin Country/Region        Firstseen         Lastseen Date Air_traffic\n",
       "28978  China        Austria   3/14/2020 2:33  3/14/2020 15:57   3/14/2020 1:00\n",
       "28979  China         Turkey  3/14/2020 11:36  3/14/2020 22:39   3/14/2020 1:00\n",
       "28980  China      Sri Lanka  3/14/2020 13:22  3/14/2020 18:38   3/14/2020 1:00\n",
       "28981  China        Bahrain  3/14/2020 22:00   3/15/2020 6:49   3/15/2020 1:00\n",
       "28982  China        Bahrain  3/14/2020 23:19   3/15/2020 8:02   3/15/2020 1:00"
      ]
     },
     "execution_count": 20,
     "metadata": {},
     "output_type": "execute_result"
    }
   ],
   "source": [
    "noLockdown = air_traffic['Date Air_traffic'] < \"3/16/2020\"\n",
    "air_traffic_noLockdown = air_traffic[noLockdown]\n",
    "air_traffic_noLockdown.tail()"
   ]
  },
  {
   "cell_type": "code",
   "execution_count": 21,
   "metadata": {},
   "outputs": [
    {
     "data": {
      "text/plain": [
       "(25459, 5)"
      ]
     },
     "execution_count": 21,
     "metadata": {},
     "output_type": "execute_result"
    }
   ],
   "source": [
    "air_traffic_noLockdown.shape #24 k flights"
   ]
  },
  {
   "cell_type": "code",
   "execution_count": 22,
   "metadata": {},
   "outputs": [
    {
     "data": {
      "text/plain": [
       "Origin              object\n",
       "Country/Region      object\n",
       "Firstseen           object\n",
       "Lastseen            object\n",
       "Date Air_traffic    object\n",
       "dtype: object"
      ]
     },
     "execution_count": 22,
     "metadata": {},
     "output_type": "execute_result"
    }
   ],
   "source": [
    "air_traffic_noLockdown.dtypes"
   ]
  },
  {
   "cell_type": "code",
   "execution_count": 23,
   "metadata": {},
   "outputs": [
    {
     "name": "stderr",
     "output_type": "stream",
     "text": [
      "<ipython-input-23-821f615b5315>:1: SettingWithCopyWarning: \n",
      "A value is trying to be set on a copy of a slice from a DataFrame.\n",
      "Try using .loc[row_indexer,col_indexer] = value instead\n",
      "\n",
      "See the caveats in the documentation: https://pandas.pydata.org/pandas-docs/stable/user_guide/indexing.html#returning-a-view-versus-a-copy\n",
      "  air_traffic_noLockdown['Date Air_traffic'] = pd.to_datetime(air_traffic_noLockdown['Date Air_traffic'], infer_datetime_format=True)\n"
     ]
    }
   ],
   "source": [
    "air_traffic_noLockdown['Date Air_traffic'] = pd.to_datetime(air_traffic_noLockdown['Date Air_traffic'], infer_datetime_format=True)"
   ]
  },
  {
   "cell_type": "code",
   "execution_count": 24,
   "metadata": {},
   "outputs": [
    {
     "name": "stderr",
     "output_type": "stream",
     "text": [
      "<ipython-input-24-86932f970f8a>:1: SettingWithCopyWarning: \n",
      "A value is trying to be set on a copy of a slice from a DataFrame.\n",
      "Try using .loc[row_indexer,col_indexer] = value instead\n",
      "\n",
      "See the caveats in the documentation: https://pandas.pydata.org/pandas-docs/stable/user_guide/indexing.html#returning-a-view-versus-a-copy\n",
      "  air_traffic_noLockdown['Date'] = air_traffic_noLockdown['Date Air_traffic'].dt.date\n"
     ]
    },
    {
     "data": {
      "text/plain": [
       "28978    2020-03-14\n",
       "28979    2020-03-14\n",
       "28980    2020-03-14\n",
       "28981    2020-03-15\n",
       "28982    2020-03-15\n",
       "Name: Date, dtype: object"
      ]
     },
     "execution_count": 24,
     "metadata": {},
     "output_type": "execute_result"
    }
   ],
   "source": [
    "air_traffic_noLockdown['Date'] = air_traffic_noLockdown['Date Air_traffic'].dt.date\n",
    "air_traffic_noLockdown['Date'].tail()"
   ]
  },
  {
   "cell_type": "code",
   "execution_count": 25,
   "metadata": {},
   "outputs": [
    {
     "data": {
      "text/html": [
       "<div>\n",
       "<style scoped>\n",
       "    .dataframe tbody tr th:only-of-type {\n",
       "        vertical-align: middle;\n",
       "    }\n",
       "\n",
       "    .dataframe tbody tr th {\n",
       "        vertical-align: top;\n",
       "    }\n",
       "\n",
       "    .dataframe thead th {\n",
       "        text-align: right;\n",
       "    }\n",
       "</style>\n",
       "<table border=\"1\" class=\"dataframe\">\n",
       "  <thead>\n",
       "    <tr style=\"text-align: right;\">\n",
       "      <th></th>\n",
       "      <th>Date</th>\n",
       "      <th>Date Air_traffic</th>\n",
       "    </tr>\n",
       "  </thead>\n",
       "  <tbody>\n",
       "    <tr>\n",
       "      <th>0</th>\n",
       "      <td>2019-12-20</td>\n",
       "      <td>2019-12-20 01:00:00</td>\n",
       "    </tr>\n",
       "    <tr>\n",
       "      <th>1</th>\n",
       "      <td>2019-12-20</td>\n",
       "      <td>2019-12-20 01:00:00</td>\n",
       "    </tr>\n",
       "    <tr>\n",
       "      <th>2</th>\n",
       "      <td>2019-12-20</td>\n",
       "      <td>2019-12-20 01:00:00</td>\n",
       "    </tr>\n",
       "    <tr>\n",
       "      <th>3</th>\n",
       "      <td>2019-12-20</td>\n",
       "      <td>2019-12-20 01:00:00</td>\n",
       "    </tr>\n",
       "    <tr>\n",
       "      <th>4</th>\n",
       "      <td>2019-12-20</td>\n",
       "      <td>2019-12-20 01:00:00</td>\n",
       "    </tr>\n",
       "  </tbody>\n",
       "</table>\n",
       "</div>"
      ],
      "text/plain": [
       "         Date    Date Air_traffic\n",
       "0  2019-12-20 2019-12-20 01:00:00\n",
       "1  2019-12-20 2019-12-20 01:00:00\n",
       "2  2019-12-20 2019-12-20 01:00:00\n",
       "3  2019-12-20 2019-12-20 01:00:00\n",
       "4  2019-12-20 2019-12-20 01:00:00"
      ]
     },
     "execution_count": 25,
     "metadata": {},
     "output_type": "execute_result"
    }
   ],
   "source": [
    "air_traffic_noLockdown[['Date','Date Air_traffic']].head()"
   ]
  },
  {
   "cell_type": "code",
   "execution_count": 24,
   "metadata": {},
   "outputs": [],
   "source": [
    "air_copy = air_traffic_noLockdown.copy()"
   ]
  },
  {
   "cell_type": "code",
   "execution_count": 26,
   "metadata": {},
   "outputs": [
    {
     "name": "stderr",
     "output_type": "stream",
     "text": [
      "<ipython-input-26-97322caae21a>:1: SettingWithCopyWarning: \n",
      "A value is trying to be set on a copy of a slice from a DataFrame.\n",
      "Try using .loc[row_indexer,col_indexer] = value instead\n",
      "\n",
      "See the caveats in the documentation: https://pandas.pydata.org/pandas-docs/stable/user_guide/indexing.html#returning-a-view-versus-a-copy\n",
      "  air_traffic_noLockdown['Date'] = pd.to_datetime(air_traffic_noLockdown['Date'], infer_datetime_format=True)\n"
     ]
    },
    {
     "data": {
      "text/plain": [
       "28978   2020-03-14\n",
       "28979   2020-03-14\n",
       "28980   2020-03-14\n",
       "28981   2020-03-15\n",
       "28982   2020-03-15\n",
       "Name: Date, dtype: datetime64[ns]"
      ]
     },
     "execution_count": 26,
     "metadata": {},
     "output_type": "execute_result"
    }
   ],
   "source": [
    "air_traffic_noLockdown['Date'] = pd.to_datetime(air_traffic_noLockdown['Date'], infer_datetime_format=True)\n",
    "air_traffic_noLockdown['Date'].tail()"
   ]
  },
  {
   "cell_type": "code",
   "execution_count": 27,
   "metadata": {},
   "outputs": [
    {
     "data": {
      "text/html": [
       "<div>\n",
       "<style scoped>\n",
       "    .dataframe tbody tr th:only-of-type {\n",
       "        vertical-align: middle;\n",
       "    }\n",
       "\n",
       "    .dataframe tbody tr th {\n",
       "        vertical-align: top;\n",
       "    }\n",
       "\n",
       "    .dataframe thead th {\n",
       "        text-align: right;\n",
       "    }\n",
       "</style>\n",
       "<table border=\"1\" class=\"dataframe\">\n",
       "  <thead>\n",
       "    <tr style=\"text-align: right;\">\n",
       "      <th></th>\n",
       "      <th>Date</th>\n",
       "      <th>Country/Region</th>\n",
       "      <th>Confirmed</th>\n",
       "      <th>Recovered</th>\n",
       "      <th>Deaths</th>\n",
       "    </tr>\n",
       "  </thead>\n",
       "  <tbody>\n",
       "    <tr>\n",
       "      <th>0</th>\n",
       "      <td>2020-01-22</td>\n",
       "      <td>Afghanistan</td>\n",
       "      <td>0</td>\n",
       "      <td>0.0</td>\n",
       "      <td>0</td>\n",
       "    </tr>\n",
       "    <tr>\n",
       "      <th>1</th>\n",
       "      <td>2020-01-23</td>\n",
       "      <td>Afghanistan</td>\n",
       "      <td>0</td>\n",
       "      <td>0.0</td>\n",
       "      <td>0</td>\n",
       "    </tr>\n",
       "    <tr>\n",
       "      <th>2</th>\n",
       "      <td>2020-01-24</td>\n",
       "      <td>Afghanistan</td>\n",
       "      <td>0</td>\n",
       "      <td>0.0</td>\n",
       "      <td>0</td>\n",
       "    </tr>\n",
       "    <tr>\n",
       "      <th>3</th>\n",
       "      <td>2020-01-25</td>\n",
       "      <td>Afghanistan</td>\n",
       "      <td>0</td>\n",
       "      <td>0.0</td>\n",
       "      <td>0</td>\n",
       "    </tr>\n",
       "    <tr>\n",
       "      <th>4</th>\n",
       "      <td>2020-01-26</td>\n",
       "      <td>Afghanistan</td>\n",
       "      <td>0</td>\n",
       "      <td>0.0</td>\n",
       "      <td>0</td>\n",
       "    </tr>\n",
       "  </tbody>\n",
       "</table>\n",
       "</div>"
      ],
      "text/plain": [
       "         Date Country/Region  Confirmed  Recovered  Deaths\n",
       "0  2020-01-22    Afghanistan          0        0.0       0\n",
       "1  2020-01-23    Afghanistan          0        0.0       0\n",
       "2  2020-01-24    Afghanistan          0        0.0       0\n",
       "3  2020-01-25    Afghanistan          0        0.0       0\n",
       "4  2020-01-26    Afghanistan          0        0.0       0"
      ]
     },
     "execution_count": 27,
     "metadata": {},
     "output_type": "execute_result"
    }
   ],
   "source": [
    "# let's drop province\n",
    "covid_19_noLockdown = covid_19_noLockdown.drop(['Province/State'], inplace = False, axis=1)\n",
    "covid_19_noLockdown.head()"
   ]
  },
  {
   "cell_type": "code",
   "execution_count": 28,
   "metadata": {},
   "outputs": [
    {
     "data": {
      "text/html": [
       "<div>\n",
       "<style scoped>\n",
       "    .dataframe tbody tr th:only-of-type {\n",
       "        vertical-align: middle;\n",
       "    }\n",
       "\n",
       "    .dataframe tbody tr th {\n",
       "        vertical-align: top;\n",
       "    }\n",
       "\n",
       "    .dataframe thead th {\n",
       "        text-align: right;\n",
       "    }\n",
       "</style>\n",
       "<table border=\"1\" class=\"dataframe\">\n",
       "  <thead>\n",
       "    <tr style=\"text-align: right;\">\n",
       "      <th></th>\n",
       "      <th>Date</th>\n",
       "      <th>Country/Region</th>\n",
       "      <th>Confirmed</th>\n",
       "      <th>Recovered</th>\n",
       "      <th>Deaths</th>\n",
       "    </tr>\n",
       "  </thead>\n",
       "  <tbody>\n",
       "    <tr>\n",
       "      <th>181399</th>\n",
       "      <td>2020-03-11</td>\n",
       "      <td>Zimbabwe</td>\n",
       "      <td>0</td>\n",
       "      <td>0.0</td>\n",
       "      <td>0</td>\n",
       "    </tr>\n",
       "    <tr>\n",
       "      <th>181400</th>\n",
       "      <td>2020-03-12</td>\n",
       "      <td>Zimbabwe</td>\n",
       "      <td>0</td>\n",
       "      <td>0.0</td>\n",
       "      <td>0</td>\n",
       "    </tr>\n",
       "    <tr>\n",
       "      <th>181401</th>\n",
       "      <td>2020-03-13</td>\n",
       "      <td>Zimbabwe</td>\n",
       "      <td>0</td>\n",
       "      <td>0.0</td>\n",
       "      <td>0</td>\n",
       "    </tr>\n",
       "    <tr>\n",
       "      <th>181402</th>\n",
       "      <td>2020-03-14</td>\n",
       "      <td>Zimbabwe</td>\n",
       "      <td>0</td>\n",
       "      <td>0.0</td>\n",
       "      <td>0</td>\n",
       "    </tr>\n",
       "    <tr>\n",
       "      <th>181403</th>\n",
       "      <td>2020-03-15</td>\n",
       "      <td>Zimbabwe</td>\n",
       "      <td>0</td>\n",
       "      <td>0.0</td>\n",
       "      <td>0</td>\n",
       "    </tr>\n",
       "  </tbody>\n",
       "</table>\n",
       "</div>"
      ],
      "text/plain": [
       "              Date Country/Region  Confirmed  Recovered  Deaths\n",
       "181399  2020-03-11       Zimbabwe          0        0.0       0\n",
       "181400  2020-03-12       Zimbabwe          0        0.0       0\n",
       "181401  2020-03-13       Zimbabwe          0        0.0       0\n",
       "181402  2020-03-14       Zimbabwe          0        0.0       0\n",
       "181403  2020-03-15       Zimbabwe          0        0.0       0"
      ]
     },
     "execution_count": 28,
     "metadata": {},
     "output_type": "execute_result"
    }
   ],
   "source": [
    "covid_19_noLockdown.tail()"
   ]
  },
  {
   "cell_type": "code",
   "execution_count": 29,
   "metadata": {},
   "outputs": [
    {
     "data": {
      "text/plain": [
       "(15120, 5)"
      ]
     },
     "execution_count": 29,
     "metadata": {},
     "output_type": "execute_result"
    }
   ],
   "source": [
    "covid_19_noLockdown.shape"
   ]
  },
  {
   "cell_type": "code",
   "execution_count": 30,
   "metadata": {},
   "outputs": [
    {
     "data": {
      "text/plain": [
       "Date               object\n",
       "Country/Region     object\n",
       "Confirmed           int64\n",
       "Recovered         float64\n",
       "Deaths              int64\n",
       "dtype: object"
      ]
     },
     "execution_count": 30,
     "metadata": {},
     "output_type": "execute_result"
    }
   ],
   "source": [
    "covid_19_noLockdown.dtypes"
   ]
  },
  {
   "cell_type": "code",
   "execution_count": 31,
   "metadata": {},
   "outputs": [
    {
     "data": {
      "text/plain": [
       "0    2020-01-22\n",
       "Name: Date, dtype: object"
      ]
     },
     "execution_count": 31,
     "metadata": {},
     "output_type": "execute_result"
    }
   ],
   "source": [
    "covid_19_noLockdown['Date'].head(1)"
   ]
  },
  {
   "cell_type": "code",
   "execution_count": 32,
   "metadata": {},
   "outputs": [
    {
     "data": {
      "text/plain": [
       "0   2019-12-20\n",
       "Name: Date, dtype: datetime64[ns]"
      ]
     },
     "execution_count": 32,
     "metadata": {},
     "output_type": "execute_result"
    }
   ],
   "source": [
    "air_traffic_noLockdown['Date'].head(1)"
   ]
  },
  {
   "cell_type": "code",
   "execution_count": 33,
   "metadata": {},
   "outputs": [
    {
     "data": {
      "text/plain": [
       "181403   2020-03-15\n",
       "Name: Date, dtype: datetime64[ns]"
      ]
     },
     "execution_count": 33,
     "metadata": {},
     "output_type": "execute_result"
    }
   ],
   "source": [
    "covid_19_noLockdown['Date'] = pd.to_datetime(covid_19_noLockdown['Date'], infer_datetime_format=True)\n",
    "covid_19_noLockdown['Date'].tail(1)"
   ]
  },
  {
   "cell_type": "code",
   "execution_count": 30,
   "metadata": {},
   "outputs": [],
   "source": [
    "covid_19 = covid_19_noLockdown.copy()"
   ]
  },
  {
   "cell_type": "code",
   "execution_count": 35,
   "metadata": {},
   "outputs": [
    {
     "data": {
      "text/plain": [
       "Origin                      object\n",
       "Country/Region              object\n",
       "Firstseen                   object\n",
       "Lastseen                    object\n",
       "Date Air_traffic    datetime64[ns]\n",
       "Date                datetime64[ns]\n",
       "dtype: object"
      ]
     },
     "execution_count": 35,
     "metadata": {},
     "output_type": "execute_result"
    }
   ],
   "source": [
    "air_traffic_noLockdown.dtypes #datetime64[ns]"
   ]
  },
  {
   "cell_type": "code",
   "execution_count": 35,
   "metadata": {},
   "outputs": [
    {
     "data": {
      "text/html": [
       "<div>\n",
       "<style scoped>\n",
       "    .dataframe tbody tr th:only-of-type {\n",
       "        vertical-align: middle;\n",
       "    }\n",
       "\n",
       "    .dataframe tbody tr th {\n",
       "        vertical-align: top;\n",
       "    }\n",
       "\n",
       "    .dataframe thead th {\n",
       "        text-align: right;\n",
       "    }\n",
       "</style>\n",
       "<table border=\"1\" class=\"dataframe\">\n",
       "  <thead>\n",
       "    <tr style=\"text-align: right;\">\n",
       "      <th></th>\n",
       "      <th>Origin</th>\n",
       "      <th>Country/Region</th>\n",
       "      <th>Firstseen</th>\n",
       "      <th>Lastseen</th>\n",
       "      <th>Date Air_traffic</th>\n",
       "      <th>Date</th>\n",
       "      <th>Confirmed</th>\n",
       "      <th>Recovered</th>\n",
       "      <th>Deaths</th>\n",
       "    </tr>\n",
       "  </thead>\n",
       "  <tbody>\n",
       "    <tr>\n",
       "      <th>0</th>\n",
       "      <td>China</td>\n",
       "      <td>Taiwan</td>\n",
       "      <td>12/20/2019 0:43</td>\n",
       "      <td>12/20/2019 1:50</td>\n",
       "      <td>2019-12-20 01:00:00</td>\n",
       "      <td>2019-12-20</td>\n",
       "      <td>NaN</td>\n",
       "      <td>NaN</td>\n",
       "      <td>NaN</td>\n",
       "    </tr>\n",
       "    <tr>\n",
       "      <th>1</th>\n",
       "      <td>China</td>\n",
       "      <td>Taiwan</td>\n",
       "      <td>12/20/2019 1:02</td>\n",
       "      <td>12/20/2019 2:29</td>\n",
       "      <td>2019-12-20 01:00:00</td>\n",
       "      <td>2019-12-20</td>\n",
       "      <td>NaN</td>\n",
       "      <td>NaN</td>\n",
       "      <td>NaN</td>\n",
       "    </tr>\n",
       "    <tr>\n",
       "      <th>2</th>\n",
       "      <td>China</td>\n",
       "      <td>Taiwan</td>\n",
       "      <td>12/20/2019 1:26</td>\n",
       "      <td>12/20/2019 2:33</td>\n",
       "      <td>2019-12-20 01:00:00</td>\n",
       "      <td>2019-12-20</td>\n",
       "      <td>NaN</td>\n",
       "      <td>NaN</td>\n",
       "      <td>NaN</td>\n",
       "    </tr>\n",
       "    <tr>\n",
       "      <th>3</th>\n",
       "      <td>China</td>\n",
       "      <td>Taiwan</td>\n",
       "      <td>12/20/2019 1:46</td>\n",
       "      <td>12/20/2019 2:55</td>\n",
       "      <td>2019-12-20 01:00:00</td>\n",
       "      <td>2019-12-20</td>\n",
       "      <td>NaN</td>\n",
       "      <td>NaN</td>\n",
       "      <td>NaN</td>\n",
       "    </tr>\n",
       "    <tr>\n",
       "      <th>4</th>\n",
       "      <td>China</td>\n",
       "      <td>Taiwan</td>\n",
       "      <td>12/20/2019 2:05</td>\n",
       "      <td>12/20/2019 3:11</td>\n",
       "      <td>2019-12-20 01:00:00</td>\n",
       "      <td>2019-12-20</td>\n",
       "      <td>NaN</td>\n",
       "      <td>NaN</td>\n",
       "      <td>NaN</td>\n",
       "    </tr>\n",
       "  </tbody>\n",
       "</table>\n",
       "</div>"
      ],
      "text/plain": [
       "  Origin Country/Region        Firstseen         Lastseen    Date Air_traffic  \\\n",
       "0  China         Taiwan  12/20/2019 0:43  12/20/2019 1:50 2019-12-20 01:00:00   \n",
       "1  China         Taiwan  12/20/2019 1:02  12/20/2019 2:29 2019-12-20 01:00:00   \n",
       "2  China         Taiwan  12/20/2019 1:26  12/20/2019 2:33 2019-12-20 01:00:00   \n",
       "3  China         Taiwan  12/20/2019 1:46  12/20/2019 2:55 2019-12-20 01:00:00   \n",
       "4  China         Taiwan  12/20/2019 2:05  12/20/2019 3:11 2019-12-20 01:00:00   \n",
       "\n",
       "        Date  Confirmed  Recovered  Deaths  \n",
       "0 2019-12-20        NaN        NaN     NaN  \n",
       "1 2019-12-20        NaN        NaN     NaN  \n",
       "2 2019-12-20        NaN        NaN     NaN  \n",
       "3 2019-12-20        NaN        NaN     NaN  \n",
       "4 2019-12-20        NaN        NaN     NaN  "
      ]
     },
     "execution_count": 35,
     "metadata": {},
     "output_type": "execute_result"
    }
   ],
   "source": [
    "#merged_df = left_df.merge(right_df, \n",
    "\n",
    "covid_alpha = air_traffic_noLockdown.merge(covid_19_noLockdown, how = 'left', left_on=['Country/Region','Date'], right_on=['Country/Region','Date'])\n",
    "covid_alpha.head()"
   ]
  },
  {
   "cell_type": "code",
   "execution_count": 34,
   "metadata": {},
   "outputs": [
    {
     "data": {
      "text/html": [
       "<div>\n",
       "<style scoped>\n",
       "    .dataframe tbody tr th:only-of-type {\n",
       "        vertical-align: middle;\n",
       "    }\n",
       "\n",
       "    .dataframe tbody tr th {\n",
       "        vertical-align: top;\n",
       "    }\n",
       "\n",
       "    .dataframe thead th {\n",
       "        text-align: right;\n",
       "    }\n",
       "</style>\n",
       "<table border=\"1\" class=\"dataframe\">\n",
       "  <thead>\n",
       "    <tr style=\"text-align: right;\">\n",
       "      <th></th>\n",
       "      <th>Origin</th>\n",
       "      <th>Country/Region</th>\n",
       "      <th>Firstseen</th>\n",
       "      <th>Lastseen</th>\n",
       "      <th>Date Air_traffic</th>\n",
       "      <th>Date</th>\n",
       "      <th>Confirmed</th>\n",
       "      <th>Recovered</th>\n",
       "      <th>Deaths</th>\n",
       "    </tr>\n",
       "  </thead>\n",
       "  <tbody>\n",
       "    <tr>\n",
       "      <th>0</th>\n",
       "      <td>China</td>\n",
       "      <td>Thailand</td>\n",
       "      <td>1/22/2020 1:06</td>\n",
       "      <td>1/22/2020 3:40</td>\n",
       "      <td>2020-01-22 01:00:00</td>\n",
       "      <td>2020-01-22</td>\n",
       "      <td>4</td>\n",
       "      <td>2.0</td>\n",
       "      <td>0</td>\n",
       "    </tr>\n",
       "    <tr>\n",
       "      <th>1</th>\n",
       "      <td>China</td>\n",
       "      <td>Thailand</td>\n",
       "      <td>1/22/2020 1:07</td>\n",
       "      <td>1/22/2020 3:44</td>\n",
       "      <td>2020-01-22 01:00:00</td>\n",
       "      <td>2020-01-22</td>\n",
       "      <td>4</td>\n",
       "      <td>2.0</td>\n",
       "      <td>0</td>\n",
       "    </tr>\n",
       "    <tr>\n",
       "      <th>2</th>\n",
       "      <td>China</td>\n",
       "      <td>Thailand</td>\n",
       "      <td>1/22/2020 1:26</td>\n",
       "      <td>1/22/2020 4:13</td>\n",
       "      <td>2020-01-22 01:00:00</td>\n",
       "      <td>2020-01-22</td>\n",
       "      <td>4</td>\n",
       "      <td>2.0</td>\n",
       "      <td>0</td>\n",
       "    </tr>\n",
       "    <tr>\n",
       "      <th>3</th>\n",
       "      <td>China</td>\n",
       "      <td>Thailand</td>\n",
       "      <td>1/22/2020 2:30</td>\n",
       "      <td>1/22/2020 5:10</td>\n",
       "      <td>2020-01-22 01:00:00</td>\n",
       "      <td>2020-01-22</td>\n",
       "      <td>4</td>\n",
       "      <td>2.0</td>\n",
       "      <td>0</td>\n",
       "    </tr>\n",
       "    <tr>\n",
       "      <th>4</th>\n",
       "      <td>China</td>\n",
       "      <td>Thailand</td>\n",
       "      <td>1/22/2020 2:50</td>\n",
       "      <td>1/22/2020 5:19</td>\n",
       "      <td>2020-01-22 01:00:00</td>\n",
       "      <td>2020-01-22</td>\n",
       "      <td>4</td>\n",
       "      <td>2.0</td>\n",
       "      <td>0</td>\n",
       "    </tr>\n",
       "  </tbody>\n",
       "</table>\n",
       "</div>"
      ],
      "text/plain": [
       "  Origin Country/Region       Firstseen        Lastseen    Date Air_traffic  \\\n",
       "0  China       Thailand  1/22/2020 1:06  1/22/2020 3:40 2020-01-22 01:00:00   \n",
       "1  China       Thailand  1/22/2020 1:07  1/22/2020 3:44 2020-01-22 01:00:00   \n",
       "2  China       Thailand  1/22/2020 1:26  1/22/2020 4:13 2020-01-22 01:00:00   \n",
       "3  China       Thailand  1/22/2020 2:30  1/22/2020 5:10 2020-01-22 01:00:00   \n",
       "4  China       Thailand  1/22/2020 2:50  1/22/2020 5:19 2020-01-22 01:00:00   \n",
       "\n",
       "        Date  Confirmed  Recovered  Deaths  \n",
       "0 2020-01-22          4        2.0       0  \n",
       "1 2020-01-22          4        2.0       0  \n",
       "2 2020-01-22          4        2.0       0  \n",
       "3 2020-01-22          4        2.0       0  \n",
       "4 2020-01-22          4        2.0       0  "
      ]
     },
     "execution_count": 34,
     "metadata": {},
     "output_type": "execute_result"
    }
   ],
   "source": [
    "covid_alpha_1_new = air_traffic_noLockdown.merge(covid_19_noLockdown, how = 'inner', left_on=['Country/Region','Date'], right_on=['Country/Region','Date'])\n",
    "covid_alpha_1_new.head()"
   ]
  },
  {
   "cell_type": "code",
   "execution_count": 57,
   "metadata": {},
   "outputs": [
    {
     "data": {
      "text/html": [
       "<div>\n",
       "<style scoped>\n",
       "    .dataframe tbody tr th:only-of-type {\n",
       "        vertical-align: middle;\n",
       "    }\n",
       "\n",
       "    .dataframe tbody tr th {\n",
       "        vertical-align: top;\n",
       "    }\n",
       "\n",
       "    .dataframe thead th {\n",
       "        text-align: right;\n",
       "    }\n",
       "</style>\n",
       "<table border=\"1\" class=\"dataframe\">\n",
       "  <thead>\n",
       "    <tr style=\"text-align: right;\">\n",
       "      <th></th>\n",
       "      <th>Origin</th>\n",
       "      <th>Country/Region</th>\n",
       "      <th>Firstseen</th>\n",
       "      <th>Lastseen</th>\n",
       "      <th>Date Air_traffic</th>\n",
       "      <th>Date</th>\n",
       "      <th>Confirmed</th>\n",
       "      <th>Recovered</th>\n",
       "      <th>Deaths</th>\n",
       "    </tr>\n",
       "  </thead>\n",
       "  <tbody>\n",
       "    <tr>\n",
       "      <th>0</th>\n",
       "      <td>China</td>\n",
       "      <td>Taiwan</td>\n",
       "      <td>12/20/2019 0:43</td>\n",
       "      <td>12/20/2019 1:50</td>\n",
       "      <td>2019-12-20 01:00:00</td>\n",
       "      <td>2019-12-20</td>\n",
       "      <td>NaN</td>\n",
       "      <td>NaN</td>\n",
       "      <td>NaN</td>\n",
       "    </tr>\n",
       "    <tr>\n",
       "      <th>1</th>\n",
       "      <td>China</td>\n",
       "      <td>Taiwan</td>\n",
       "      <td>12/20/2019 1:02</td>\n",
       "      <td>12/20/2019 2:29</td>\n",
       "      <td>2019-12-20 01:00:00</td>\n",
       "      <td>2019-12-20</td>\n",
       "      <td>NaN</td>\n",
       "      <td>NaN</td>\n",
       "      <td>NaN</td>\n",
       "    </tr>\n",
       "    <tr>\n",
       "      <th>2</th>\n",
       "      <td>China</td>\n",
       "      <td>Taiwan</td>\n",
       "      <td>12/20/2019 1:26</td>\n",
       "      <td>12/20/2019 2:33</td>\n",
       "      <td>2019-12-20 01:00:00</td>\n",
       "      <td>2019-12-20</td>\n",
       "      <td>NaN</td>\n",
       "      <td>NaN</td>\n",
       "      <td>NaN</td>\n",
       "    </tr>\n",
       "    <tr>\n",
       "      <th>3</th>\n",
       "      <td>China</td>\n",
       "      <td>Taiwan</td>\n",
       "      <td>12/20/2019 1:46</td>\n",
       "      <td>12/20/2019 2:55</td>\n",
       "      <td>2019-12-20 01:00:00</td>\n",
       "      <td>2019-12-20</td>\n",
       "      <td>NaN</td>\n",
       "      <td>NaN</td>\n",
       "      <td>NaN</td>\n",
       "    </tr>\n",
       "    <tr>\n",
       "      <th>4</th>\n",
       "      <td>China</td>\n",
       "      <td>Taiwan</td>\n",
       "      <td>12/20/2019 2:05</td>\n",
       "      <td>12/20/2019 3:11</td>\n",
       "      <td>2019-12-20 01:00:00</td>\n",
       "      <td>2019-12-20</td>\n",
       "      <td>NaN</td>\n",
       "      <td>NaN</td>\n",
       "      <td>NaN</td>\n",
       "    </tr>\n",
       "  </tbody>\n",
       "</table>\n",
       "</div>"
      ],
      "text/plain": [
       "  Origin Country/Region        Firstseen         Lastseen    Date Air_traffic  \\\n",
       "0  China         Taiwan  12/20/2019 0:43  12/20/2019 1:50 2019-12-20 01:00:00   \n",
       "1  China         Taiwan  12/20/2019 1:02  12/20/2019 2:29 2019-12-20 01:00:00   \n",
       "2  China         Taiwan  12/20/2019 1:26  12/20/2019 2:33 2019-12-20 01:00:00   \n",
       "3  China         Taiwan  12/20/2019 1:46  12/20/2019 2:55 2019-12-20 01:00:00   \n",
       "4  China         Taiwan  12/20/2019 2:05  12/20/2019 3:11 2019-12-20 01:00:00   \n",
       "\n",
       "        Date  Confirmed  Recovered  Deaths  \n",
       "0 2019-12-20        NaN        NaN     NaN  \n",
       "1 2019-12-20        NaN        NaN     NaN  \n",
       "2 2019-12-20        NaN        NaN     NaN  \n",
       "3 2019-12-20        NaN        NaN     NaN  \n",
       "4 2019-12-20        NaN        NaN     NaN  "
      ]
     },
     "execution_count": 57,
     "metadata": {},
     "output_type": "execute_result"
    }
   ],
   "source": [
    "covid_alpha_2_new = air_traffic_noLockdown.merge(covid_19_noLockdown, how = 'outer', left_on=['Country/Region','Date'], right_on=['Country/Region','Date'])\n",
    "covid_alpha_2_new.head()"
   ]
  },
  {
   "cell_type": "code",
   "execution_count": 37,
   "metadata": {},
   "outputs": [
    {
     "data": {
      "text/html": [
       "<div>\n",
       "<style scoped>\n",
       "    .dataframe tbody tr th:only-of-type {\n",
       "        vertical-align: middle;\n",
       "    }\n",
       "\n",
       "    .dataframe tbody tr th {\n",
       "        vertical-align: top;\n",
       "    }\n",
       "\n",
       "    .dataframe thead th {\n",
       "        text-align: right;\n",
       "    }\n",
       "</style>\n",
       "<table border=\"1\" class=\"dataframe\">\n",
       "  <thead>\n",
       "    <tr style=\"text-align: right;\">\n",
       "      <th></th>\n",
       "      <th>Origin</th>\n",
       "      <th>Country/Region</th>\n",
       "      <th>Firstseen</th>\n",
       "      <th>Lastseen</th>\n",
       "      <th>Date Air_traffic</th>\n",
       "      <th>Date</th>\n",
       "      <th>Confirmed</th>\n",
       "      <th>Recovered</th>\n",
       "      <th>Deaths</th>\n",
       "    </tr>\n",
       "  </thead>\n",
       "  <tbody>\n",
       "    <tr>\n",
       "      <th>38815</th>\n",
       "      <td>China</td>\n",
       "      <td>Austria</td>\n",
       "      <td>3/14/2020 2:33</td>\n",
       "      <td>3/14/2020 15:57</td>\n",
       "      <td>2020-03-14 01:00:00</td>\n",
       "      <td>2020-03-14</td>\n",
       "      <td>655.0</td>\n",
       "      <td>6.0</td>\n",
       "      <td>1.0</td>\n",
       "    </tr>\n",
       "    <tr>\n",
       "      <th>38816</th>\n",
       "      <td>China</td>\n",
       "      <td>Turkey</td>\n",
       "      <td>3/14/2020 11:36</td>\n",
       "      <td>3/14/2020 22:39</td>\n",
       "      <td>2020-03-14 01:00:00</td>\n",
       "      <td>2020-03-14</td>\n",
       "      <td>5.0</td>\n",
       "      <td>0.0</td>\n",
       "      <td>0.0</td>\n",
       "    </tr>\n",
       "    <tr>\n",
       "      <th>38817</th>\n",
       "      <td>China</td>\n",
       "      <td>Sri Lanka</td>\n",
       "      <td>3/14/2020 13:22</td>\n",
       "      <td>3/14/2020 18:38</td>\n",
       "      <td>2020-03-14 01:00:00</td>\n",
       "      <td>2020-03-14</td>\n",
       "      <td>10.0</td>\n",
       "      <td>1.0</td>\n",
       "      <td>0.0</td>\n",
       "    </tr>\n",
       "    <tr>\n",
       "      <th>38818</th>\n",
       "      <td>China</td>\n",
       "      <td>Bahrain</td>\n",
       "      <td>3/14/2020 22:00</td>\n",
       "      <td>3/15/2020 6:49</td>\n",
       "      <td>2020-03-15 01:00:00</td>\n",
       "      <td>2020-03-15</td>\n",
       "      <td>214.0</td>\n",
       "      <td>60.0</td>\n",
       "      <td>0.0</td>\n",
       "    </tr>\n",
       "    <tr>\n",
       "      <th>38819</th>\n",
       "      <td>China</td>\n",
       "      <td>Bahrain</td>\n",
       "      <td>3/14/2020 23:19</td>\n",
       "      <td>3/15/2020 8:02</td>\n",
       "      <td>2020-03-15 01:00:00</td>\n",
       "      <td>2020-03-15</td>\n",
       "      <td>214.0</td>\n",
       "      <td>60.0</td>\n",
       "      <td>0.0</td>\n",
       "    </tr>\n",
       "  </tbody>\n",
       "</table>\n",
       "</div>"
      ],
      "text/plain": [
       "      Origin Country/Region        Firstseen         Lastseen  \\\n",
       "38815  China        Austria   3/14/2020 2:33  3/14/2020 15:57   \n",
       "38816  China         Turkey  3/14/2020 11:36  3/14/2020 22:39   \n",
       "38817  China      Sri Lanka  3/14/2020 13:22  3/14/2020 18:38   \n",
       "38818  China        Bahrain  3/14/2020 22:00   3/15/2020 6:49   \n",
       "38819  China        Bahrain  3/14/2020 23:19   3/15/2020 8:02   \n",
       "\n",
       "         Date Air_traffic       Date  Confirmed  Recovered  Deaths  \n",
       "38815 2020-03-14 01:00:00 2020-03-14      655.0        6.0     1.0  \n",
       "38816 2020-03-14 01:00:00 2020-03-14        5.0        0.0     0.0  \n",
       "38817 2020-03-14 01:00:00 2020-03-14       10.0        1.0     0.0  \n",
       "38818 2020-03-15 01:00:00 2020-03-15      214.0       60.0     0.0  \n",
       "38819 2020-03-15 01:00:00 2020-03-15      214.0       60.0     0.0  "
      ]
     },
     "execution_count": 37,
     "metadata": {},
     "output_type": "execute_result"
    }
   ],
   "source": [
    "covid_alpha.tail()"
   ]
  },
  {
   "cell_type": "code",
   "execution_count": 36,
   "metadata": {},
   "outputs": [
    {
     "data": {
      "text/html": [
       "<div>\n",
       "<style scoped>\n",
       "    .dataframe tbody tr th:only-of-type {\n",
       "        vertical-align: middle;\n",
       "    }\n",
       "\n",
       "    .dataframe tbody tr th {\n",
       "        vertical-align: top;\n",
       "    }\n",
       "\n",
       "    .dataframe thead th {\n",
       "        text-align: right;\n",
       "    }\n",
       "</style>\n",
       "<table border=\"1\" class=\"dataframe\">\n",
       "  <thead>\n",
       "    <tr style=\"text-align: right;\">\n",
       "      <th></th>\n",
       "      <th>Origin</th>\n",
       "      <th>Country/Region</th>\n",
       "      <th>Firstseen</th>\n",
       "      <th>Lastseen</th>\n",
       "      <th>Date Air_traffic</th>\n",
       "      <th>Date</th>\n",
       "      <th>Confirmed</th>\n",
       "      <th>Recovered</th>\n",
       "      <th>Deaths</th>\n",
       "    </tr>\n",
       "  </thead>\n",
       "  <tbody>\n",
       "    <tr>\n",
       "      <th>20471</th>\n",
       "      <td>China</td>\n",
       "      <td>Austria</td>\n",
       "      <td>3/14/2020 2:33</td>\n",
       "      <td>3/14/2020 15:57</td>\n",
       "      <td>2020-03-14 01:00:00</td>\n",
       "      <td>2020-03-14</td>\n",
       "      <td>655</td>\n",
       "      <td>6.0</td>\n",
       "      <td>1</td>\n",
       "    </tr>\n",
       "    <tr>\n",
       "      <th>20472</th>\n",
       "      <td>China</td>\n",
       "      <td>Turkey</td>\n",
       "      <td>3/14/2020 11:36</td>\n",
       "      <td>3/14/2020 22:39</td>\n",
       "      <td>2020-03-14 01:00:00</td>\n",
       "      <td>2020-03-14</td>\n",
       "      <td>5</td>\n",
       "      <td>0.0</td>\n",
       "      <td>0</td>\n",
       "    </tr>\n",
       "    <tr>\n",
       "      <th>20473</th>\n",
       "      <td>China</td>\n",
       "      <td>Sri Lanka</td>\n",
       "      <td>3/14/2020 13:22</td>\n",
       "      <td>3/14/2020 18:38</td>\n",
       "      <td>2020-03-14 01:00:00</td>\n",
       "      <td>2020-03-14</td>\n",
       "      <td>10</td>\n",
       "      <td>1.0</td>\n",
       "      <td>0</td>\n",
       "    </tr>\n",
       "    <tr>\n",
       "      <th>20474</th>\n",
       "      <td>China</td>\n",
       "      <td>Bahrain</td>\n",
       "      <td>3/14/2020 22:00</td>\n",
       "      <td>3/15/2020 6:49</td>\n",
       "      <td>2020-03-15 01:00:00</td>\n",
       "      <td>2020-03-15</td>\n",
       "      <td>214</td>\n",
       "      <td>60.0</td>\n",
       "      <td>0</td>\n",
       "    </tr>\n",
       "    <tr>\n",
       "      <th>20475</th>\n",
       "      <td>China</td>\n",
       "      <td>Bahrain</td>\n",
       "      <td>3/14/2020 23:19</td>\n",
       "      <td>3/15/2020 8:02</td>\n",
       "      <td>2020-03-15 01:00:00</td>\n",
       "      <td>2020-03-15</td>\n",
       "      <td>214</td>\n",
       "      <td>60.0</td>\n",
       "      <td>0</td>\n",
       "    </tr>\n",
       "  </tbody>\n",
       "</table>\n",
       "</div>"
      ],
      "text/plain": [
       "      Origin Country/Region        Firstseen         Lastseen  \\\n",
       "20471  China        Austria   3/14/2020 2:33  3/14/2020 15:57   \n",
       "20472  China         Turkey  3/14/2020 11:36  3/14/2020 22:39   \n",
       "20473  China      Sri Lanka  3/14/2020 13:22  3/14/2020 18:38   \n",
       "20474  China        Bahrain  3/14/2020 22:00   3/15/2020 6:49   \n",
       "20475  China        Bahrain  3/14/2020 23:19   3/15/2020 8:02   \n",
       "\n",
       "         Date Air_traffic       Date  Confirmed  Recovered  Deaths  \n",
       "20471 2020-03-14 01:00:00 2020-03-14        655        6.0       1  \n",
       "20472 2020-03-14 01:00:00 2020-03-14          5        0.0       0  \n",
       "20473 2020-03-14 01:00:00 2020-03-14         10        1.0       0  \n",
       "20474 2020-03-15 01:00:00 2020-03-15        214       60.0       0  \n",
       "20475 2020-03-15 01:00:00 2020-03-15        214       60.0       0  "
      ]
     },
     "execution_count": 36,
     "metadata": {},
     "output_type": "execute_result"
    }
   ],
   "source": [
    "covid_alpha_1_new.tail()"
   ]
  },
  {
   "cell_type": "code",
   "execution_count": 64,
   "metadata": {},
   "outputs": [
    {
     "data": {
      "text/html": [
       "<div>\n",
       "<style scoped>\n",
       "    .dataframe tbody tr th:only-of-type {\n",
       "        vertical-align: middle;\n",
       "    }\n",
       "\n",
       "    .dataframe tbody tr th {\n",
       "        vertical-align: top;\n",
       "    }\n",
       "\n",
       "    .dataframe thead th {\n",
       "        text-align: right;\n",
       "    }\n",
       "</style>\n",
       "<table border=\"1\" class=\"dataframe\">\n",
       "  <thead>\n",
       "    <tr style=\"text-align: right;\">\n",
       "      <th></th>\n",
       "      <th>Origin</th>\n",
       "      <th>Country/Region</th>\n",
       "      <th>Firstseen</th>\n",
       "      <th>Lastseen</th>\n",
       "      <th>Date Air_traffic</th>\n",
       "      <th>Date</th>\n",
       "      <th>Confirmed</th>\n",
       "      <th>Recovered</th>\n",
       "      <th>Deaths</th>\n",
       "    </tr>\n",
       "  </thead>\n",
       "  <tbody>\n",
       "    <tr>\n",
       "      <th>0</th>\n",
       "      <td>China</td>\n",
       "      <td>Taiwan</td>\n",
       "      <td>12/20/2019 0:43</td>\n",
       "      <td>12/20/2019 1:50</td>\n",
       "      <td>2019-12-20 01:00:00</td>\n",
       "      <td>2019-12-20</td>\n",
       "      <td>NaN</td>\n",
       "      <td>NaN</td>\n",
       "      <td>NaN</td>\n",
       "    </tr>\n",
       "    <tr>\n",
       "      <th>1</th>\n",
       "      <td>China</td>\n",
       "      <td>Taiwan</td>\n",
       "      <td>12/20/2019 1:02</td>\n",
       "      <td>12/20/2019 2:29</td>\n",
       "      <td>2019-12-20 01:00:00</td>\n",
       "      <td>2019-12-20</td>\n",
       "      <td>NaN</td>\n",
       "      <td>NaN</td>\n",
       "      <td>NaN</td>\n",
       "    </tr>\n",
       "    <tr>\n",
       "      <th>2</th>\n",
       "      <td>China</td>\n",
       "      <td>Taiwan</td>\n",
       "      <td>12/20/2019 1:26</td>\n",
       "      <td>12/20/2019 2:33</td>\n",
       "      <td>2019-12-20 01:00:00</td>\n",
       "      <td>2019-12-20</td>\n",
       "      <td>NaN</td>\n",
       "      <td>NaN</td>\n",
       "      <td>NaN</td>\n",
       "    </tr>\n",
       "    <tr>\n",
       "      <th>3</th>\n",
       "      <td>China</td>\n",
       "      <td>Taiwan</td>\n",
       "      <td>12/20/2019 1:46</td>\n",
       "      <td>12/20/2019 2:55</td>\n",
       "      <td>2019-12-20 01:00:00</td>\n",
       "      <td>2019-12-20</td>\n",
       "      <td>NaN</td>\n",
       "      <td>NaN</td>\n",
       "      <td>NaN</td>\n",
       "    </tr>\n",
       "    <tr>\n",
       "      <th>4</th>\n",
       "      <td>China</td>\n",
       "      <td>Taiwan</td>\n",
       "      <td>12/20/2019 2:05</td>\n",
       "      <td>12/20/2019 3:11</td>\n",
       "      <td>2019-12-20 01:00:00</td>\n",
       "      <td>2019-12-20</td>\n",
       "      <td>NaN</td>\n",
       "      <td>NaN</td>\n",
       "      <td>NaN</td>\n",
       "    </tr>\n",
       "    <tr>\n",
       "      <th>5</th>\n",
       "      <td>China</td>\n",
       "      <td>Taiwan</td>\n",
       "      <td>12/20/2019 2:11</td>\n",
       "      <td>12/20/2019 8:52</td>\n",
       "      <td>2019-12-20 01:00:00</td>\n",
       "      <td>2019-12-20</td>\n",
       "      <td>NaN</td>\n",
       "      <td>NaN</td>\n",
       "      <td>NaN</td>\n",
       "    </tr>\n",
       "    <tr>\n",
       "      <th>6</th>\n",
       "      <td>China</td>\n",
       "      <td>Taiwan</td>\n",
       "      <td>12/20/2019 2:37</td>\n",
       "      <td>12/20/2019 3:46</td>\n",
       "      <td>2019-12-20 01:00:00</td>\n",
       "      <td>2019-12-20</td>\n",
       "      <td>NaN</td>\n",
       "      <td>NaN</td>\n",
       "      <td>NaN</td>\n",
       "    </tr>\n",
       "    <tr>\n",
       "      <th>7</th>\n",
       "      <td>China</td>\n",
       "      <td>Taiwan</td>\n",
       "      <td>12/20/2019 2:38</td>\n",
       "      <td>12/20/2019 3:50</td>\n",
       "      <td>2019-12-20 01:00:00</td>\n",
       "      <td>2019-12-20</td>\n",
       "      <td>NaN</td>\n",
       "      <td>NaN</td>\n",
       "      <td>NaN</td>\n",
       "    </tr>\n",
       "    <tr>\n",
       "      <th>8</th>\n",
       "      <td>China</td>\n",
       "      <td>Taiwan</td>\n",
       "      <td>12/20/2019 2:40</td>\n",
       "      <td>12/20/2019 3:54</td>\n",
       "      <td>2019-12-20 01:00:00</td>\n",
       "      <td>2019-12-20</td>\n",
       "      <td>NaN</td>\n",
       "      <td>NaN</td>\n",
       "      <td>NaN</td>\n",
       "    </tr>\n",
       "    <tr>\n",
       "      <th>9</th>\n",
       "      <td>China</td>\n",
       "      <td>Taiwan</td>\n",
       "      <td>12/20/2019 3:19</td>\n",
       "      <td>12/20/2019 4:27</td>\n",
       "      <td>2019-12-20 01:00:00</td>\n",
       "      <td>2019-12-20</td>\n",
       "      <td>NaN</td>\n",
       "      <td>NaN</td>\n",
       "      <td>NaN</td>\n",
       "    </tr>\n",
       "    <tr>\n",
       "      <th>10</th>\n",
       "      <td>China</td>\n",
       "      <td>Taiwan</td>\n",
       "      <td>12/20/2019 3:38</td>\n",
       "      <td>12/20/2019 4:44</td>\n",
       "      <td>2019-12-20 01:00:00</td>\n",
       "      <td>2019-12-20</td>\n",
       "      <td>NaN</td>\n",
       "      <td>NaN</td>\n",
       "      <td>NaN</td>\n",
       "    </tr>\n",
       "    <tr>\n",
       "      <th>11</th>\n",
       "      <td>China</td>\n",
       "      <td>Taiwan</td>\n",
       "      <td>12/20/2019 4:02</td>\n",
       "      <td>12/20/2019 5:13</td>\n",
       "      <td>2019-12-20 01:00:00</td>\n",
       "      <td>2019-12-20</td>\n",
       "      <td>NaN</td>\n",
       "      <td>NaN</td>\n",
       "      <td>NaN</td>\n",
       "    </tr>\n",
       "    <tr>\n",
       "      <th>12</th>\n",
       "      <td>China</td>\n",
       "      <td>Taiwan</td>\n",
       "      <td>12/20/2019 4:14</td>\n",
       "      <td>12/20/2019 5:20</td>\n",
       "      <td>2019-12-20 01:00:00</td>\n",
       "      <td>2019-12-20</td>\n",
       "      <td>NaN</td>\n",
       "      <td>NaN</td>\n",
       "      <td>NaN</td>\n",
       "    </tr>\n",
       "    <tr>\n",
       "      <th>13</th>\n",
       "      <td>China</td>\n",
       "      <td>Taiwan</td>\n",
       "      <td>12/20/2019 4:30</td>\n",
       "      <td>12/20/2019 5:55</td>\n",
       "      <td>2019-12-20 01:00:00</td>\n",
       "      <td>2019-12-20</td>\n",
       "      <td>NaN</td>\n",
       "      <td>NaN</td>\n",
       "      <td>NaN</td>\n",
       "    </tr>\n",
       "    <tr>\n",
       "      <th>14</th>\n",
       "      <td>China</td>\n",
       "      <td>Taiwan</td>\n",
       "      <td>12/20/2019 4:32</td>\n",
       "      <td>12/20/2019 9:51</td>\n",
       "      <td>2019-12-20 01:00:00</td>\n",
       "      <td>2019-12-20</td>\n",
       "      <td>NaN</td>\n",
       "      <td>NaN</td>\n",
       "      <td>NaN</td>\n",
       "    </tr>\n",
       "    <tr>\n",
       "      <th>15</th>\n",
       "      <td>China</td>\n",
       "      <td>Taiwan</td>\n",
       "      <td>12/20/2019 4:49</td>\n",
       "      <td>12/20/2019 6:02</td>\n",
       "      <td>2019-12-20 01:00:00</td>\n",
       "      <td>2019-12-20</td>\n",
       "      <td>NaN</td>\n",
       "      <td>NaN</td>\n",
       "      <td>NaN</td>\n",
       "    </tr>\n",
       "    <tr>\n",
       "      <th>16</th>\n",
       "      <td>China</td>\n",
       "      <td>Taiwan</td>\n",
       "      <td>12/20/2019 4:53</td>\n",
       "      <td>12/20/2019 6:07</td>\n",
       "      <td>2019-12-20 01:00:00</td>\n",
       "      <td>2019-12-20</td>\n",
       "      <td>NaN</td>\n",
       "      <td>NaN</td>\n",
       "      <td>NaN</td>\n",
       "    </tr>\n",
       "    <tr>\n",
       "      <th>17</th>\n",
       "      <td>China</td>\n",
       "      <td>Taiwan</td>\n",
       "      <td>12/20/2019 5:01</td>\n",
       "      <td>12/20/2019 6:14</td>\n",
       "      <td>2019-12-20 01:00:00</td>\n",
       "      <td>2019-12-20</td>\n",
       "      <td>NaN</td>\n",
       "      <td>NaN</td>\n",
       "      <td>NaN</td>\n",
       "    </tr>\n",
       "    <tr>\n",
       "      <th>18</th>\n",
       "      <td>China</td>\n",
       "      <td>Taiwan</td>\n",
       "      <td>12/20/2019 5:04</td>\n",
       "      <td>12/20/2019 6:22</td>\n",
       "      <td>2019-12-20 01:00:00</td>\n",
       "      <td>2019-12-20</td>\n",
       "      <td>NaN</td>\n",
       "      <td>NaN</td>\n",
       "      <td>NaN</td>\n",
       "    </tr>\n",
       "    <tr>\n",
       "      <th>19</th>\n",
       "      <td>China</td>\n",
       "      <td>Taiwan</td>\n",
       "      <td>12/20/2019 5:17</td>\n",
       "      <td>12/20/2019 6:37</td>\n",
       "      <td>2019-12-20 01:00:00</td>\n",
       "      <td>2019-12-20</td>\n",
       "      <td>NaN</td>\n",
       "      <td>NaN</td>\n",
       "      <td>NaN</td>\n",
       "    </tr>\n",
       "    <tr>\n",
       "      <th>20</th>\n",
       "      <td>China</td>\n",
       "      <td>Taiwan</td>\n",
       "      <td>12/20/2019 5:31</td>\n",
       "      <td>12/20/2019 6:46</td>\n",
       "      <td>2019-12-20 01:00:00</td>\n",
       "      <td>2019-12-20</td>\n",
       "      <td>NaN</td>\n",
       "      <td>NaN</td>\n",
       "      <td>NaN</td>\n",
       "    </tr>\n",
       "    <tr>\n",
       "      <th>21</th>\n",
       "      <td>China</td>\n",
       "      <td>Taiwan</td>\n",
       "      <td>12/20/2019 5:37</td>\n",
       "      <td>12/20/2019 6:52</td>\n",
       "      <td>2019-12-20 01:00:00</td>\n",
       "      <td>2019-12-20</td>\n",
       "      <td>NaN</td>\n",
       "      <td>NaN</td>\n",
       "      <td>NaN</td>\n",
       "    </tr>\n",
       "    <tr>\n",
       "      <th>22</th>\n",
       "      <td>China</td>\n",
       "      <td>Taiwan</td>\n",
       "      <td>12/20/2019 6:09</td>\n",
       "      <td>12/20/2019 7:22</td>\n",
       "      <td>2019-12-20 01:00:00</td>\n",
       "      <td>2019-12-20</td>\n",
       "      <td>NaN</td>\n",
       "      <td>NaN</td>\n",
       "      <td>NaN</td>\n",
       "    </tr>\n",
       "    <tr>\n",
       "      <th>23</th>\n",
       "      <td>China</td>\n",
       "      <td>Taiwan</td>\n",
       "      <td>12/20/2019 6:16</td>\n",
       "      <td>12/20/2019 7:28</td>\n",
       "      <td>2019-12-20 01:00:00</td>\n",
       "      <td>2019-12-20</td>\n",
       "      <td>NaN</td>\n",
       "      <td>NaN</td>\n",
       "      <td>NaN</td>\n",
       "    </tr>\n",
       "    <tr>\n",
       "      <th>24</th>\n",
       "      <td>China</td>\n",
       "      <td>Taiwan</td>\n",
       "      <td>12/20/2019 6:39</td>\n",
       "      <td>12/20/2019 7:50</td>\n",
       "      <td>2019-12-20 01:00:00</td>\n",
       "      <td>2019-12-20</td>\n",
       "      <td>NaN</td>\n",
       "      <td>NaN</td>\n",
       "      <td>NaN</td>\n",
       "    </tr>\n",
       "    <tr>\n",
       "      <th>25</th>\n",
       "      <td>China</td>\n",
       "      <td>Taiwan</td>\n",
       "      <td>12/20/2019 6:49</td>\n",
       "      <td>12/20/2019 8:03</td>\n",
       "      <td>2019-12-20 01:00:00</td>\n",
       "      <td>2019-12-20</td>\n",
       "      <td>NaN</td>\n",
       "      <td>NaN</td>\n",
       "      <td>NaN</td>\n",
       "    </tr>\n",
       "    <tr>\n",
       "      <th>26</th>\n",
       "      <td>China</td>\n",
       "      <td>Taiwan</td>\n",
       "      <td>12/20/2019 7:05</td>\n",
       "      <td>12/20/2019 8:17</td>\n",
       "      <td>2019-12-20 01:00:00</td>\n",
       "      <td>2019-12-20</td>\n",
       "      <td>NaN</td>\n",
       "      <td>NaN</td>\n",
       "      <td>NaN</td>\n",
       "    </tr>\n",
       "    <tr>\n",
       "      <th>27</th>\n",
       "      <td>China</td>\n",
       "      <td>Taiwan</td>\n",
       "      <td>12/20/2019 7:14</td>\n",
       "      <td>12/20/2019 8:25</td>\n",
       "      <td>2019-12-20 01:00:00</td>\n",
       "      <td>2019-12-20</td>\n",
       "      <td>NaN</td>\n",
       "      <td>NaN</td>\n",
       "      <td>NaN</td>\n",
       "    </tr>\n",
       "    <tr>\n",
       "      <th>28</th>\n",
       "      <td>China</td>\n",
       "      <td>Taiwan</td>\n",
       "      <td>12/20/2019 7:40</td>\n",
       "      <td>12/20/2019 9:12</td>\n",
       "      <td>2019-12-20 01:00:00</td>\n",
       "      <td>2019-12-20</td>\n",
       "      <td>NaN</td>\n",
       "      <td>NaN</td>\n",
       "      <td>NaN</td>\n",
       "    </tr>\n",
       "    <tr>\n",
       "      <th>29</th>\n",
       "      <td>China</td>\n",
       "      <td>Taiwan</td>\n",
       "      <td>12/20/2019 8:09</td>\n",
       "      <td>12/20/2019 9:26</td>\n",
       "      <td>2019-12-20 01:00:00</td>\n",
       "      <td>2019-12-20</td>\n",
       "      <td>NaN</td>\n",
       "      <td>NaN</td>\n",
       "      <td>NaN</td>\n",
       "    </tr>\n",
       "    <tr>\n",
       "      <th>30</th>\n",
       "      <td>China</td>\n",
       "      <td>Taiwan</td>\n",
       "      <td>12/20/2019 8:47</td>\n",
       "      <td>12/20/2019 9:55</td>\n",
       "      <td>2019-12-20 01:00:00</td>\n",
       "      <td>2019-12-20</td>\n",
       "      <td>NaN</td>\n",
       "      <td>NaN</td>\n",
       "      <td>NaN</td>\n",
       "    </tr>\n",
       "    <tr>\n",
       "      <th>31</th>\n",
       "      <td>China</td>\n",
       "      <td>Taiwan</td>\n",
       "      <td>12/20/2019 9:04</td>\n",
       "      <td>12/20/2019 10:15</td>\n",
       "      <td>2019-12-20 01:00:00</td>\n",
       "      <td>2019-12-20</td>\n",
       "      <td>NaN</td>\n",
       "      <td>NaN</td>\n",
       "      <td>NaN</td>\n",
       "    </tr>\n",
       "    <tr>\n",
       "      <th>32</th>\n",
       "      <td>China</td>\n",
       "      <td>Taiwan</td>\n",
       "      <td>12/20/2019 10:06</td>\n",
       "      <td>12/20/2019 11:16</td>\n",
       "      <td>2019-12-20 01:00:00</td>\n",
       "      <td>2019-12-20</td>\n",
       "      <td>NaN</td>\n",
       "      <td>NaN</td>\n",
       "      <td>NaN</td>\n",
       "    </tr>\n",
       "    <tr>\n",
       "      <th>33</th>\n",
       "      <td>China</td>\n",
       "      <td>Taiwan</td>\n",
       "      <td>12/20/2019 10:31</td>\n",
       "      <td>12/20/2019 11:44</td>\n",
       "      <td>2019-12-20 01:00:00</td>\n",
       "      <td>2019-12-20</td>\n",
       "      <td>NaN</td>\n",
       "      <td>NaN</td>\n",
       "      <td>NaN</td>\n",
       "    </tr>\n",
       "    <tr>\n",
       "      <th>34</th>\n",
       "      <td>China</td>\n",
       "      <td>Taiwan</td>\n",
       "      <td>12/20/2019 10:38</td>\n",
       "      <td>12/20/2019 11:47</td>\n",
       "      <td>2019-12-20 01:00:00</td>\n",
       "      <td>2019-12-20</td>\n",
       "      <td>NaN</td>\n",
       "      <td>NaN</td>\n",
       "      <td>NaN</td>\n",
       "    </tr>\n",
       "    <tr>\n",
       "      <th>35</th>\n",
       "      <td>China</td>\n",
       "      <td>Taiwan</td>\n",
       "      <td>12/20/2019 10:46</td>\n",
       "      <td>12/20/2019 11:56</td>\n",
       "      <td>2019-12-20 01:00:00</td>\n",
       "      <td>2019-12-20</td>\n",
       "      <td>NaN</td>\n",
       "      <td>NaN</td>\n",
       "      <td>NaN</td>\n",
       "    </tr>\n",
       "    <tr>\n",
       "      <th>36</th>\n",
       "      <td>China</td>\n",
       "      <td>Taiwan</td>\n",
       "      <td>12/20/2019 11:08</td>\n",
       "      <td>12/20/2019 12:22</td>\n",
       "      <td>2019-12-20 01:00:00</td>\n",
       "      <td>2019-12-20</td>\n",
       "      <td>NaN</td>\n",
       "      <td>NaN</td>\n",
       "      <td>NaN</td>\n",
       "    </tr>\n",
       "    <tr>\n",
       "      <th>37</th>\n",
       "      <td>China</td>\n",
       "      <td>Taiwan</td>\n",
       "      <td>12/20/2019 11:30</td>\n",
       "      <td>12/20/2019 12:38</td>\n",
       "      <td>2019-12-20 01:00:00</td>\n",
       "      <td>2019-12-20</td>\n",
       "      <td>NaN</td>\n",
       "      <td>NaN</td>\n",
       "      <td>NaN</td>\n",
       "    </tr>\n",
       "    <tr>\n",
       "      <th>38</th>\n",
       "      <td>China</td>\n",
       "      <td>Taiwan</td>\n",
       "      <td>12/20/2019 11:43</td>\n",
       "      <td>12/20/2019 12:56</td>\n",
       "      <td>2019-12-20 01:00:00</td>\n",
       "      <td>2019-12-20</td>\n",
       "      <td>NaN</td>\n",
       "      <td>NaN</td>\n",
       "      <td>NaN</td>\n",
       "    </tr>\n",
       "    <tr>\n",
       "      <th>39</th>\n",
       "      <td>China</td>\n",
       "      <td>Taiwan</td>\n",
       "      <td>12/20/2019 12:21</td>\n",
       "      <td>12/20/2019 13:32</td>\n",
       "      <td>2019-12-20 01:00:00</td>\n",
       "      <td>2019-12-20</td>\n",
       "      <td>NaN</td>\n",
       "      <td>NaN</td>\n",
       "      <td>NaN</td>\n",
       "    </tr>\n",
       "    <tr>\n",
       "      <th>40</th>\n",
       "      <td>China</td>\n",
       "      <td>Taiwan</td>\n",
       "      <td>12/20/2019 12:22</td>\n",
       "      <td>12/20/2019 13:35</td>\n",
       "      <td>2019-12-20 01:00:00</td>\n",
       "      <td>2019-12-20</td>\n",
       "      <td>NaN</td>\n",
       "      <td>NaN</td>\n",
       "      <td>NaN</td>\n",
       "    </tr>\n",
       "    <tr>\n",
       "      <th>41</th>\n",
       "      <td>China</td>\n",
       "      <td>Taiwan</td>\n",
       "      <td>12/20/2019 12:28</td>\n",
       "      <td>12/20/2019 13:38</td>\n",
       "      <td>2019-12-20 01:00:00</td>\n",
       "      <td>2019-12-20</td>\n",
       "      <td>NaN</td>\n",
       "      <td>NaN</td>\n",
       "      <td>NaN</td>\n",
       "    </tr>\n",
       "    <tr>\n",
       "      <th>42</th>\n",
       "      <td>China</td>\n",
       "      <td>Taiwan</td>\n",
       "      <td>12/20/2019 12:36</td>\n",
       "      <td>12/20/2019 13:55</td>\n",
       "      <td>2019-12-20 01:00:00</td>\n",
       "      <td>2019-12-20</td>\n",
       "      <td>NaN</td>\n",
       "      <td>NaN</td>\n",
       "      <td>NaN</td>\n",
       "    </tr>\n",
       "    <tr>\n",
       "      <th>43</th>\n",
       "      <td>China</td>\n",
       "      <td>Taiwan</td>\n",
       "      <td>12/20/2019 12:51</td>\n",
       "      <td>12/20/2019 14:07</td>\n",
       "      <td>2019-12-20 01:00:00</td>\n",
       "      <td>2019-12-20</td>\n",
       "      <td>NaN</td>\n",
       "      <td>NaN</td>\n",
       "      <td>NaN</td>\n",
       "    </tr>\n",
       "    <tr>\n",
       "      <th>44</th>\n",
       "      <td>China</td>\n",
       "      <td>Taiwan</td>\n",
       "      <td>12/20/2019 12:54</td>\n",
       "      <td>12/20/2019 14:13</td>\n",
       "      <td>2019-12-20 01:00:00</td>\n",
       "      <td>2019-12-20</td>\n",
       "      <td>NaN</td>\n",
       "      <td>NaN</td>\n",
       "      <td>NaN</td>\n",
       "    </tr>\n",
       "    <tr>\n",
       "      <th>45</th>\n",
       "      <td>China</td>\n",
       "      <td>Taiwan</td>\n",
       "      <td>12/20/2019 12:56</td>\n",
       "      <td>12/20/2019 14:09</td>\n",
       "      <td>2019-12-20 01:00:00</td>\n",
       "      <td>2019-12-20</td>\n",
       "      <td>NaN</td>\n",
       "      <td>NaN</td>\n",
       "      <td>NaN</td>\n",
       "    </tr>\n",
       "    <tr>\n",
       "      <th>46</th>\n",
       "      <td>China</td>\n",
       "      <td>Taiwan</td>\n",
       "      <td>12/20/2019 13:24</td>\n",
       "      <td>12/20/2019 14:47</td>\n",
       "      <td>2019-12-20 01:00:00</td>\n",
       "      <td>2019-12-20</td>\n",
       "      <td>NaN</td>\n",
       "      <td>NaN</td>\n",
       "      <td>NaN</td>\n",
       "    </tr>\n",
       "    <tr>\n",
       "      <th>47</th>\n",
       "      <td>China</td>\n",
       "      <td>Taiwan</td>\n",
       "      <td>12/20/2019 13:36</td>\n",
       "      <td>12/20/2019 15:01</td>\n",
       "      <td>2019-12-20 01:00:00</td>\n",
       "      <td>2019-12-20</td>\n",
       "      <td>NaN</td>\n",
       "      <td>NaN</td>\n",
       "      <td>NaN</td>\n",
       "    </tr>\n",
       "    <tr>\n",
       "      <th>48</th>\n",
       "      <td>China</td>\n",
       "      <td>Taiwan</td>\n",
       "      <td>12/20/2019 13:40</td>\n",
       "      <td>12/20/2019 15:06</td>\n",
       "      <td>2019-12-20 01:00:00</td>\n",
       "      <td>2019-12-20</td>\n",
       "      <td>NaN</td>\n",
       "      <td>NaN</td>\n",
       "      <td>NaN</td>\n",
       "    </tr>\n",
       "    <tr>\n",
       "      <th>49</th>\n",
       "      <td>China</td>\n",
       "      <td>Taiwan</td>\n",
       "      <td>12/20/2019 13:52</td>\n",
       "      <td>12/20/2019 15:17</td>\n",
       "      <td>2019-12-20 01:00:00</td>\n",
       "      <td>2019-12-20</td>\n",
       "      <td>NaN</td>\n",
       "      <td>NaN</td>\n",
       "      <td>NaN</td>\n",
       "    </tr>\n",
       "  </tbody>\n",
       "</table>\n",
       "</div>"
      ],
      "text/plain": [
       "   Origin Country/Region         Firstseen          Lastseen  \\\n",
       "0   China         Taiwan   12/20/2019 0:43   12/20/2019 1:50   \n",
       "1   China         Taiwan   12/20/2019 1:02   12/20/2019 2:29   \n",
       "2   China         Taiwan   12/20/2019 1:26   12/20/2019 2:33   \n",
       "3   China         Taiwan   12/20/2019 1:46   12/20/2019 2:55   \n",
       "4   China         Taiwan   12/20/2019 2:05   12/20/2019 3:11   \n",
       "5   China         Taiwan   12/20/2019 2:11   12/20/2019 8:52   \n",
       "6   China         Taiwan   12/20/2019 2:37   12/20/2019 3:46   \n",
       "7   China         Taiwan   12/20/2019 2:38   12/20/2019 3:50   \n",
       "8   China         Taiwan   12/20/2019 2:40   12/20/2019 3:54   \n",
       "9   China         Taiwan   12/20/2019 3:19   12/20/2019 4:27   \n",
       "10  China         Taiwan   12/20/2019 3:38   12/20/2019 4:44   \n",
       "11  China         Taiwan   12/20/2019 4:02   12/20/2019 5:13   \n",
       "12  China         Taiwan   12/20/2019 4:14   12/20/2019 5:20   \n",
       "13  China         Taiwan   12/20/2019 4:30   12/20/2019 5:55   \n",
       "14  China         Taiwan   12/20/2019 4:32   12/20/2019 9:51   \n",
       "15  China         Taiwan   12/20/2019 4:49   12/20/2019 6:02   \n",
       "16  China         Taiwan   12/20/2019 4:53   12/20/2019 6:07   \n",
       "17  China         Taiwan   12/20/2019 5:01   12/20/2019 6:14   \n",
       "18  China         Taiwan   12/20/2019 5:04   12/20/2019 6:22   \n",
       "19  China         Taiwan   12/20/2019 5:17   12/20/2019 6:37   \n",
       "20  China         Taiwan   12/20/2019 5:31   12/20/2019 6:46   \n",
       "21  China         Taiwan   12/20/2019 5:37   12/20/2019 6:52   \n",
       "22  China         Taiwan   12/20/2019 6:09   12/20/2019 7:22   \n",
       "23  China         Taiwan   12/20/2019 6:16   12/20/2019 7:28   \n",
       "24  China         Taiwan   12/20/2019 6:39   12/20/2019 7:50   \n",
       "25  China         Taiwan   12/20/2019 6:49   12/20/2019 8:03   \n",
       "26  China         Taiwan   12/20/2019 7:05   12/20/2019 8:17   \n",
       "27  China         Taiwan   12/20/2019 7:14   12/20/2019 8:25   \n",
       "28  China         Taiwan   12/20/2019 7:40   12/20/2019 9:12   \n",
       "29  China         Taiwan   12/20/2019 8:09   12/20/2019 9:26   \n",
       "30  China         Taiwan   12/20/2019 8:47   12/20/2019 9:55   \n",
       "31  China         Taiwan   12/20/2019 9:04  12/20/2019 10:15   \n",
       "32  China         Taiwan  12/20/2019 10:06  12/20/2019 11:16   \n",
       "33  China         Taiwan  12/20/2019 10:31  12/20/2019 11:44   \n",
       "34  China         Taiwan  12/20/2019 10:38  12/20/2019 11:47   \n",
       "35  China         Taiwan  12/20/2019 10:46  12/20/2019 11:56   \n",
       "36  China         Taiwan  12/20/2019 11:08  12/20/2019 12:22   \n",
       "37  China         Taiwan  12/20/2019 11:30  12/20/2019 12:38   \n",
       "38  China         Taiwan  12/20/2019 11:43  12/20/2019 12:56   \n",
       "39  China         Taiwan  12/20/2019 12:21  12/20/2019 13:32   \n",
       "40  China         Taiwan  12/20/2019 12:22  12/20/2019 13:35   \n",
       "41  China         Taiwan  12/20/2019 12:28  12/20/2019 13:38   \n",
       "42  China         Taiwan  12/20/2019 12:36  12/20/2019 13:55   \n",
       "43  China         Taiwan  12/20/2019 12:51  12/20/2019 14:07   \n",
       "44  China         Taiwan  12/20/2019 12:54  12/20/2019 14:13   \n",
       "45  China         Taiwan  12/20/2019 12:56  12/20/2019 14:09   \n",
       "46  China         Taiwan  12/20/2019 13:24  12/20/2019 14:47   \n",
       "47  China         Taiwan  12/20/2019 13:36  12/20/2019 15:01   \n",
       "48  China         Taiwan  12/20/2019 13:40  12/20/2019 15:06   \n",
       "49  China         Taiwan  12/20/2019 13:52  12/20/2019 15:17   \n",
       "\n",
       "      Date Air_traffic       Date  Confirmed  Recovered  Deaths  \n",
       "0  2019-12-20 01:00:00 2019-12-20        NaN        NaN     NaN  \n",
       "1  2019-12-20 01:00:00 2019-12-20        NaN        NaN     NaN  \n",
       "2  2019-12-20 01:00:00 2019-12-20        NaN        NaN     NaN  \n",
       "3  2019-12-20 01:00:00 2019-12-20        NaN        NaN     NaN  \n",
       "4  2019-12-20 01:00:00 2019-12-20        NaN        NaN     NaN  \n",
       "5  2019-12-20 01:00:00 2019-12-20        NaN        NaN     NaN  \n",
       "6  2019-12-20 01:00:00 2019-12-20        NaN        NaN     NaN  \n",
       "7  2019-12-20 01:00:00 2019-12-20        NaN        NaN     NaN  \n",
       "8  2019-12-20 01:00:00 2019-12-20        NaN        NaN     NaN  \n",
       "9  2019-12-20 01:00:00 2019-12-20        NaN        NaN     NaN  \n",
       "10 2019-12-20 01:00:00 2019-12-20        NaN        NaN     NaN  \n",
       "11 2019-12-20 01:00:00 2019-12-20        NaN        NaN     NaN  \n",
       "12 2019-12-20 01:00:00 2019-12-20        NaN        NaN     NaN  \n",
       "13 2019-12-20 01:00:00 2019-12-20        NaN        NaN     NaN  \n",
       "14 2019-12-20 01:00:00 2019-12-20        NaN        NaN     NaN  \n",
       "15 2019-12-20 01:00:00 2019-12-20        NaN        NaN     NaN  \n",
       "16 2019-12-20 01:00:00 2019-12-20        NaN        NaN     NaN  \n",
       "17 2019-12-20 01:00:00 2019-12-20        NaN        NaN     NaN  \n",
       "18 2019-12-20 01:00:00 2019-12-20        NaN        NaN     NaN  \n",
       "19 2019-12-20 01:00:00 2019-12-20        NaN        NaN     NaN  \n",
       "20 2019-12-20 01:00:00 2019-12-20        NaN        NaN     NaN  \n",
       "21 2019-12-20 01:00:00 2019-12-20        NaN        NaN     NaN  \n",
       "22 2019-12-20 01:00:00 2019-12-20        NaN        NaN     NaN  \n",
       "23 2019-12-20 01:00:00 2019-12-20        NaN        NaN     NaN  \n",
       "24 2019-12-20 01:00:00 2019-12-20        NaN        NaN     NaN  \n",
       "25 2019-12-20 01:00:00 2019-12-20        NaN        NaN     NaN  \n",
       "26 2019-12-20 01:00:00 2019-12-20        NaN        NaN     NaN  \n",
       "27 2019-12-20 01:00:00 2019-12-20        NaN        NaN     NaN  \n",
       "28 2019-12-20 01:00:00 2019-12-20        NaN        NaN     NaN  \n",
       "29 2019-12-20 01:00:00 2019-12-20        NaN        NaN     NaN  \n",
       "30 2019-12-20 01:00:00 2019-12-20        NaN        NaN     NaN  \n",
       "31 2019-12-20 01:00:00 2019-12-20        NaN        NaN     NaN  \n",
       "32 2019-12-20 01:00:00 2019-12-20        NaN        NaN     NaN  \n",
       "33 2019-12-20 01:00:00 2019-12-20        NaN        NaN     NaN  \n",
       "34 2019-12-20 01:00:00 2019-12-20        NaN        NaN     NaN  \n",
       "35 2019-12-20 01:00:00 2019-12-20        NaN        NaN     NaN  \n",
       "36 2019-12-20 01:00:00 2019-12-20        NaN        NaN     NaN  \n",
       "37 2019-12-20 01:00:00 2019-12-20        NaN        NaN     NaN  \n",
       "38 2019-12-20 01:00:00 2019-12-20        NaN        NaN     NaN  \n",
       "39 2019-12-20 01:00:00 2019-12-20        NaN        NaN     NaN  \n",
       "40 2019-12-20 01:00:00 2019-12-20        NaN        NaN     NaN  \n",
       "41 2019-12-20 01:00:00 2019-12-20        NaN        NaN     NaN  \n",
       "42 2019-12-20 01:00:00 2019-12-20        NaN        NaN     NaN  \n",
       "43 2019-12-20 01:00:00 2019-12-20        NaN        NaN     NaN  \n",
       "44 2019-12-20 01:00:00 2019-12-20        NaN        NaN     NaN  \n",
       "45 2019-12-20 01:00:00 2019-12-20        NaN        NaN     NaN  \n",
       "46 2019-12-20 01:00:00 2019-12-20        NaN        NaN     NaN  \n",
       "47 2019-12-20 01:00:00 2019-12-20        NaN        NaN     NaN  \n",
       "48 2019-12-20 01:00:00 2019-12-20        NaN        NaN     NaN  \n",
       "49 2019-12-20 01:00:00 2019-12-20        NaN        NaN     NaN  "
      ]
     },
     "execution_count": 64,
     "metadata": {},
     "output_type": "execute_result"
    }
   ],
   "source": [
    "covid_alpha_2_new.head(50)"
   ]
  },
  {
   "cell_type": "code",
   "execution_count": 56,
   "metadata": {},
   "outputs": [
    {
     "data": {
      "text/html": [
       "<div>\n",
       "<style scoped>\n",
       "    .dataframe tbody tr th:only-of-type {\n",
       "        vertical-align: middle;\n",
       "    }\n",
       "\n",
       "    .dataframe tbody tr th {\n",
       "        vertical-align: top;\n",
       "    }\n",
       "\n",
       "    .dataframe thead th {\n",
       "        text-align: right;\n",
       "    }\n",
       "</style>\n",
       "<table border=\"1\" class=\"dataframe\">\n",
       "  <thead>\n",
       "    <tr style=\"text-align: right;\">\n",
       "      <th></th>\n",
       "      <th>Origin</th>\n",
       "      <th>Country/Region</th>\n",
       "      <th>Firstseen</th>\n",
       "      <th>Lastseen</th>\n",
       "      <th>Date</th>\n",
       "      <th>Confirmed</th>\n",
       "      <th>Recovered</th>\n",
       "      <th>Deaths</th>\n",
       "    </tr>\n",
       "  </thead>\n",
       "  <tbody>\n",
       "    <tr>\n",
       "      <th>20249</th>\n",
       "      <td>China</td>\n",
       "      <td>Italy</td>\n",
       "      <td>1/22/2020 18:06</td>\n",
       "      <td>1/23/2020 6:22</td>\n",
       "      <td>2020-01-23</td>\n",
       "      <td>0</td>\n",
       "      <td>0.0</td>\n",
       "      <td>0</td>\n",
       "    </tr>\n",
       "    <tr>\n",
       "      <th>20250</th>\n",
       "      <td>China</td>\n",
       "      <td>Italy</td>\n",
       "      <td>1/22/2020 18:40</td>\n",
       "      <td>1/23/2020 7:06</td>\n",
       "      <td>2020-01-23</td>\n",
       "      <td>0</td>\n",
       "      <td>0.0</td>\n",
       "      <td>0</td>\n",
       "    </tr>\n",
       "    <tr>\n",
       "      <th>20251</th>\n",
       "      <td>China</td>\n",
       "      <td>Italy</td>\n",
       "      <td>1/23/2020 17:45</td>\n",
       "      <td>1/24/2020 6:24</td>\n",
       "      <td>2020-01-24</td>\n",
       "      <td>0</td>\n",
       "      <td>0.0</td>\n",
       "      <td>0</td>\n",
       "    </tr>\n",
       "    <tr>\n",
       "      <th>20252</th>\n",
       "      <td>China</td>\n",
       "      <td>Italy</td>\n",
       "      <td>1/23/2020 18:18</td>\n",
       "      <td>1/24/2020 6:35</td>\n",
       "      <td>2020-01-24</td>\n",
       "      <td>0</td>\n",
       "      <td>0.0</td>\n",
       "      <td>0</td>\n",
       "    </tr>\n",
       "    <tr>\n",
       "      <th>20253</th>\n",
       "      <td>China</td>\n",
       "      <td>Italy</td>\n",
       "      <td>1/24/2020 18:14</td>\n",
       "      <td>1/25/2020 6:49</td>\n",
       "      <td>2020-01-25</td>\n",
       "      <td>0</td>\n",
       "      <td>0.0</td>\n",
       "      <td>0</td>\n",
       "    </tr>\n",
       "    <tr>\n",
       "      <th>20254</th>\n",
       "      <td>China</td>\n",
       "      <td>Italy</td>\n",
       "      <td>1/24/2020 18:49</td>\n",
       "      <td>1/25/2020 7:01</td>\n",
       "      <td>2020-01-25</td>\n",
       "      <td>0</td>\n",
       "      <td>0.0</td>\n",
       "      <td>0</td>\n",
       "    </tr>\n",
       "    <tr>\n",
       "      <th>20255</th>\n",
       "      <td>China</td>\n",
       "      <td>Italy</td>\n",
       "      <td>1/26/2020 17:30</td>\n",
       "      <td>1/27/2020 6:10</td>\n",
       "      <td>2020-01-27</td>\n",
       "      <td>0</td>\n",
       "      <td>0.0</td>\n",
       "      <td>0</td>\n",
       "    </tr>\n",
       "    <tr>\n",
       "      <th>20256</th>\n",
       "      <td>China</td>\n",
       "      <td>Italy</td>\n",
       "      <td>1/26/2020 18:14</td>\n",
       "      <td>1/27/2020 6:42</td>\n",
       "      <td>2020-01-27</td>\n",
       "      <td>0</td>\n",
       "      <td>0.0</td>\n",
       "      <td>0</td>\n",
       "    </tr>\n",
       "    <tr>\n",
       "      <th>20257</th>\n",
       "      <td>China</td>\n",
       "      <td>Italy</td>\n",
       "      <td>1/27/2020 18:15</td>\n",
       "      <td>1/28/2020 6:57</td>\n",
       "      <td>2020-01-28</td>\n",
       "      <td>0</td>\n",
       "      <td>0.0</td>\n",
       "      <td>0</td>\n",
       "    </tr>\n",
       "    <tr>\n",
       "      <th>20258</th>\n",
       "      <td>China</td>\n",
       "      <td>Italy</td>\n",
       "      <td>1/28/2020 17:32</td>\n",
       "      <td>1/29/2020 7:00</td>\n",
       "      <td>2020-01-29</td>\n",
       "      <td>0</td>\n",
       "      <td>0.0</td>\n",
       "      <td>0</td>\n",
       "    </tr>\n",
       "    <tr>\n",
       "      <th>20259</th>\n",
       "      <td>China</td>\n",
       "      <td>Italy</td>\n",
       "      <td>1/28/2020 18:11</td>\n",
       "      <td>1/29/2020 7:14</td>\n",
       "      <td>2020-01-29</td>\n",
       "      <td>0</td>\n",
       "      <td>0.0</td>\n",
       "      <td>0</td>\n",
       "    </tr>\n",
       "    <tr>\n",
       "      <th>20260</th>\n",
       "      <td>China</td>\n",
       "      <td>Italy</td>\n",
       "      <td>1/29/2020 18:22</td>\n",
       "      <td>1/30/2020 6:52</td>\n",
       "      <td>2020-01-30</td>\n",
       "      <td>0</td>\n",
       "      <td>0.0</td>\n",
       "      <td>0</td>\n",
       "    </tr>\n",
       "    <tr>\n",
       "      <th>20261</th>\n",
       "      <td>China</td>\n",
       "      <td>Italy</td>\n",
       "      <td>1/29/2020 18:52</td>\n",
       "      <td>1/30/2020 7:36</td>\n",
       "      <td>2020-01-30</td>\n",
       "      <td>0</td>\n",
       "      <td>0.0</td>\n",
       "      <td>0</td>\n",
       "    </tr>\n",
       "    <tr>\n",
       "      <th>20262</th>\n",
       "      <td>China</td>\n",
       "      <td>Italy</td>\n",
       "      <td>1/30/2020 1:35</td>\n",
       "      <td>1/30/2020 17:31</td>\n",
       "      <td>2020-01-30</td>\n",
       "      <td>0</td>\n",
       "      <td>0.0</td>\n",
       "      <td>0</td>\n",
       "    </tr>\n",
       "    <tr>\n",
       "      <th>20263</th>\n",
       "      <td>China</td>\n",
       "      <td>Italy</td>\n",
       "      <td>2/15/2020 11:35</td>\n",
       "      <td>2/16/2020 6:02</td>\n",
       "      <td>2020-02-16</td>\n",
       "      <td>3</td>\n",
       "      <td>0.0</td>\n",
       "      <td>0</td>\n",
       "    </tr>\n",
       "  </tbody>\n",
       "</table>\n",
       "</div>"
      ],
      "text/plain": [
       "      Origin Country/Region        Firstseen         Lastseen       Date  \\\n",
       "20249  China          Italy  1/22/2020 18:06   1/23/2020 6:22 2020-01-23   \n",
       "20250  China          Italy  1/22/2020 18:40   1/23/2020 7:06 2020-01-23   \n",
       "20251  China          Italy  1/23/2020 17:45   1/24/2020 6:24 2020-01-24   \n",
       "20252  China          Italy  1/23/2020 18:18   1/24/2020 6:35 2020-01-24   \n",
       "20253  China          Italy  1/24/2020 18:14   1/25/2020 6:49 2020-01-25   \n",
       "20254  China          Italy  1/24/2020 18:49   1/25/2020 7:01 2020-01-25   \n",
       "20255  China          Italy  1/26/2020 17:30   1/27/2020 6:10 2020-01-27   \n",
       "20256  China          Italy  1/26/2020 18:14   1/27/2020 6:42 2020-01-27   \n",
       "20257  China          Italy  1/27/2020 18:15   1/28/2020 6:57 2020-01-28   \n",
       "20258  China          Italy  1/28/2020 17:32   1/29/2020 7:00 2020-01-29   \n",
       "20259  China          Italy  1/28/2020 18:11   1/29/2020 7:14 2020-01-29   \n",
       "20260  China          Italy  1/29/2020 18:22   1/30/2020 6:52 2020-01-30   \n",
       "20261  China          Italy  1/29/2020 18:52   1/30/2020 7:36 2020-01-30   \n",
       "20262  China          Italy   1/30/2020 1:35  1/30/2020 17:31 2020-01-30   \n",
       "20263  China          Italy  2/15/2020 11:35   2/16/2020 6:02 2020-02-16   \n",
       "\n",
       "       Confirmed  Recovered  Deaths  \n",
       "20249          0        0.0       0  \n",
       "20250          0        0.0       0  \n",
       "20251          0        0.0       0  \n",
       "20252          0        0.0       0  \n",
       "20253          0        0.0       0  \n",
       "20254          0        0.0       0  \n",
       "20255          0        0.0       0  \n",
       "20256          0        0.0       0  \n",
       "20257          0        0.0       0  \n",
       "20258          0        0.0       0  \n",
       "20259          0        0.0       0  \n",
       "20260          0        0.0       0  \n",
       "20261          0        0.0       0  \n",
       "20262          0        0.0       0  \n",
       "20263          3        0.0       0  "
      ]
     },
     "execution_count": 56,
     "metadata": {},
     "output_type": "execute_result"
    }
   ],
   "source": [
    "covid_alpha_1_new[(covid_alpha_1_new['Country/Region'] == 'Italy') & (covid_alpha_1_new['Date'] <= '2020-03-15')]"
   ]
  },
  {
   "cell_type": "code",
   "execution_count": 46,
   "metadata": {},
   "outputs": [
    {
     "data": {
      "text/plain": [
       "(38820, 10)"
      ]
     },
     "execution_count": 46,
     "metadata": {},
     "output_type": "execute_result"
    }
   ],
   "source": [
    "covid_alpha.shape"
   ]
  },
  {
   "cell_type": "code",
   "execution_count": 37,
   "metadata": {},
   "outputs": [
    {
     "data": {
      "text/plain": [
       "(20476, 9)"
      ]
     },
     "execution_count": 37,
     "metadata": {},
     "output_type": "execute_result"
    }
   ],
   "source": [
    "covid_alpha_1_new.shape"
   ]
  },
  {
   "cell_type": "code",
   "execution_count": 38,
   "metadata": {},
   "outputs": [
    {
     "data": {
      "text/plain": [
       "Origin                  0\n",
       "Country/Region       1887\n",
       "Firstseen               0\n",
       "Lastseen                0\n",
       "Date Air_traffic        0\n",
       "Date                    0\n",
       "Confirmed           18344\n",
       "Recovered           22200\n",
       "Deaths              18344\n",
       "dtype: int64"
      ]
     },
     "execution_count": 38,
     "metadata": {},
     "output_type": "execute_result"
    }
   ],
   "source": [
    "covid_alpha.isnull().sum()"
   ]
  },
  {
   "cell_type": "code",
   "execution_count": 39,
   "metadata": {},
   "outputs": [],
   "source": [
    "covid_alpha.drop([\"Date Air_traffic\"], axis = 1, inplace = True )\n"
   ]
  },
  {
   "cell_type": "code",
   "execution_count": 42,
   "metadata": {},
   "outputs": [],
   "source": [
    "covid_alpha_1_new.drop([\"Date Air_traffic\"], axis = 1, inplace = True )"
   ]
  },
  {
   "cell_type": "code",
   "execution_count": 43,
   "metadata": {},
   "outputs": [
    {
     "data": {
      "text/html": [
       "<div>\n",
       "<style scoped>\n",
       "    .dataframe tbody tr th:only-of-type {\n",
       "        vertical-align: middle;\n",
       "    }\n",
       "\n",
       "    .dataframe tbody tr th {\n",
       "        vertical-align: top;\n",
       "    }\n",
       "\n",
       "    .dataframe thead th {\n",
       "        text-align: right;\n",
       "    }\n",
       "</style>\n",
       "<table border=\"1\" class=\"dataframe\">\n",
       "  <thead>\n",
       "    <tr style=\"text-align: right;\">\n",
       "      <th></th>\n",
       "      <th>Origin</th>\n",
       "      <th>Country/Region</th>\n",
       "      <th>Firstseen</th>\n",
       "      <th>Lastseen</th>\n",
       "      <th>Date</th>\n",
       "      <th>Confirmed</th>\n",
       "      <th>Recovered</th>\n",
       "      <th>Deaths</th>\n",
       "    </tr>\n",
       "  </thead>\n",
       "  <tbody>\n",
       "    <tr>\n",
       "      <th>0</th>\n",
       "      <td>China</td>\n",
       "      <td>Thailand</td>\n",
       "      <td>1/22/2020 1:06</td>\n",
       "      <td>1/22/2020 3:40</td>\n",
       "      <td>2020-01-22</td>\n",
       "      <td>4</td>\n",
       "      <td>2.0</td>\n",
       "      <td>0</td>\n",
       "    </tr>\n",
       "    <tr>\n",
       "      <th>1</th>\n",
       "      <td>China</td>\n",
       "      <td>Thailand</td>\n",
       "      <td>1/22/2020 1:07</td>\n",
       "      <td>1/22/2020 3:44</td>\n",
       "      <td>2020-01-22</td>\n",
       "      <td>4</td>\n",
       "      <td>2.0</td>\n",
       "      <td>0</td>\n",
       "    </tr>\n",
       "    <tr>\n",
       "      <th>2</th>\n",
       "      <td>China</td>\n",
       "      <td>Thailand</td>\n",
       "      <td>1/22/2020 1:26</td>\n",
       "      <td>1/22/2020 4:13</td>\n",
       "      <td>2020-01-22</td>\n",
       "      <td>4</td>\n",
       "      <td>2.0</td>\n",
       "      <td>0</td>\n",
       "    </tr>\n",
       "    <tr>\n",
       "      <th>3</th>\n",
       "      <td>China</td>\n",
       "      <td>Thailand</td>\n",
       "      <td>1/22/2020 2:30</td>\n",
       "      <td>1/22/2020 5:10</td>\n",
       "      <td>2020-01-22</td>\n",
       "      <td>4</td>\n",
       "      <td>2.0</td>\n",
       "      <td>0</td>\n",
       "    </tr>\n",
       "    <tr>\n",
       "      <th>4</th>\n",
       "      <td>China</td>\n",
       "      <td>Thailand</td>\n",
       "      <td>1/22/2020 2:50</td>\n",
       "      <td>1/22/2020 5:19</td>\n",
       "      <td>2020-01-22</td>\n",
       "      <td>4</td>\n",
       "      <td>2.0</td>\n",
       "      <td>0</td>\n",
       "    </tr>\n",
       "    <tr>\n",
       "      <th>...</th>\n",
       "      <td>...</td>\n",
       "      <td>...</td>\n",
       "      <td>...</td>\n",
       "      <td>...</td>\n",
       "      <td>...</td>\n",
       "      <td>...</td>\n",
       "      <td>...</td>\n",
       "      <td>...</td>\n",
       "    </tr>\n",
       "    <tr>\n",
       "      <th>20471</th>\n",
       "      <td>China</td>\n",
       "      <td>Austria</td>\n",
       "      <td>3/14/2020 2:33</td>\n",
       "      <td>3/14/2020 15:57</td>\n",
       "      <td>2020-03-14</td>\n",
       "      <td>655</td>\n",
       "      <td>6.0</td>\n",
       "      <td>1</td>\n",
       "    </tr>\n",
       "    <tr>\n",
       "      <th>20472</th>\n",
       "      <td>China</td>\n",
       "      <td>Turkey</td>\n",
       "      <td>3/14/2020 11:36</td>\n",
       "      <td>3/14/2020 22:39</td>\n",
       "      <td>2020-03-14</td>\n",
       "      <td>5</td>\n",
       "      <td>0.0</td>\n",
       "      <td>0</td>\n",
       "    </tr>\n",
       "    <tr>\n",
       "      <th>20473</th>\n",
       "      <td>China</td>\n",
       "      <td>Sri Lanka</td>\n",
       "      <td>3/14/2020 13:22</td>\n",
       "      <td>3/14/2020 18:38</td>\n",
       "      <td>2020-03-14</td>\n",
       "      <td>10</td>\n",
       "      <td>1.0</td>\n",
       "      <td>0</td>\n",
       "    </tr>\n",
       "    <tr>\n",
       "      <th>20474</th>\n",
       "      <td>China</td>\n",
       "      <td>Bahrain</td>\n",
       "      <td>3/14/2020 22:00</td>\n",
       "      <td>3/15/2020 6:49</td>\n",
       "      <td>2020-03-15</td>\n",
       "      <td>214</td>\n",
       "      <td>60.0</td>\n",
       "      <td>0</td>\n",
       "    </tr>\n",
       "    <tr>\n",
       "      <th>20475</th>\n",
       "      <td>China</td>\n",
       "      <td>Bahrain</td>\n",
       "      <td>3/14/2020 23:19</td>\n",
       "      <td>3/15/2020 8:02</td>\n",
       "      <td>2020-03-15</td>\n",
       "      <td>214</td>\n",
       "      <td>60.0</td>\n",
       "      <td>0</td>\n",
       "    </tr>\n",
       "  </tbody>\n",
       "</table>\n",
       "<p>20476 rows × 8 columns</p>\n",
       "</div>"
      ],
      "text/plain": [
       "      Origin Country/Region        Firstseen         Lastseen       Date  \\\n",
       "0      China       Thailand   1/22/2020 1:06   1/22/2020 3:40 2020-01-22   \n",
       "1      China       Thailand   1/22/2020 1:07   1/22/2020 3:44 2020-01-22   \n",
       "2      China       Thailand   1/22/2020 1:26   1/22/2020 4:13 2020-01-22   \n",
       "3      China       Thailand   1/22/2020 2:30   1/22/2020 5:10 2020-01-22   \n",
       "4      China       Thailand   1/22/2020 2:50   1/22/2020 5:19 2020-01-22   \n",
       "...      ...            ...              ...              ...        ...   \n",
       "20471  China        Austria   3/14/2020 2:33  3/14/2020 15:57 2020-03-14   \n",
       "20472  China         Turkey  3/14/2020 11:36  3/14/2020 22:39 2020-03-14   \n",
       "20473  China      Sri Lanka  3/14/2020 13:22  3/14/2020 18:38 2020-03-14   \n",
       "20474  China        Bahrain  3/14/2020 22:00   3/15/2020 6:49 2020-03-15   \n",
       "20475  China        Bahrain  3/14/2020 23:19   3/15/2020 8:02 2020-03-15   \n",
       "\n",
       "       Confirmed  Recovered  Deaths  \n",
       "0              4        2.0       0  \n",
       "1              4        2.0       0  \n",
       "2              4        2.0       0  \n",
       "3              4        2.0       0  \n",
       "4              4        2.0       0  \n",
       "...          ...        ...     ...  \n",
       "20471        655        6.0       1  \n",
       "20472          5        0.0       0  \n",
       "20473         10        1.0       0  \n",
       "20474        214       60.0       0  \n",
       "20475        214       60.0       0  \n",
       "\n",
       "[20476 rows x 8 columns]"
      ]
     },
     "execution_count": 43,
     "metadata": {},
     "output_type": "execute_result"
    }
   ],
   "source": [
    "covid_alpha_1_new"
   ]
  },
  {
   "cell_type": "code",
   "execution_count": null,
   "metadata": {},
   "outputs": [],
   "source": [
    "# find out the real number of cases in the 50 countries which have been in relation with China through Air traffic\n"
   ]
  },
  {
   "cell_type": "code",
   "execution_count": null,
   "metadata": {},
   "outputs": [],
   "source": [
    "# find out 10 countries having the highest flight rate with China. \n"
   ]
  },
  {
   "cell_type": "code",
   "execution_count": null,
   "metadata": {},
   "outputs": [],
   "source": []
  },
  {
   "cell_type": "code",
   "execution_count": null,
   "metadata": {},
   "outputs": [],
   "source": [
    "#Prophet Algo"
   ]
  },
  {
   "cell_type": "code",
   "execution_count": 39,
   "metadata": {},
   "outputs": [],
   "source": [
    "%matplotlib inline\n"
   ]
  },
  {
   "cell_type": "markdown",
   "metadata": {},
   "source": [
    "# Prophet FB"
   ]
  },
  {
   "cell_type": "code",
   "execution_count": 2,
   "metadata": {},
   "outputs": [
    {
     "name": "stdout",
     "output_type": "stream",
     "text": [
      "Collecting package metadata (current_repodata.json): done\n",
      "Solving environment: failed with initial frozen solve. Retrying with flexible solve.\n",
      "Solving environment: failed with repodata from current_repodata.json, will retry with next repodata source.\n",
      "Collecting package metadata (repodata.json): done\n",
      "Solving environment: done\n",
      "\n",
      "\n",
      "==> WARNING: A newer version of conda exists. <==\n",
      "  current version: 4.10.1\n",
      "  latest version: 4.10.3\n",
      "\n",
      "Please update conda by running\n",
      "\n",
      "    $ conda update -n base -c defaults conda\n",
      "\n",
      "\n",
      "\n",
      "## Package Plan ##\n",
      "\n",
      "  environment location: /home/jbl/anaconda3\n",
      "\n",
      "  added / updated specs:\n",
      "    - prophet\n",
      "\n",
      "\n",
      "The following packages will be downloaded:\n",
      "\n",
      "    package                    |            build\n",
      "    ---------------------------|-----------------\n",
      "    arviz-0.11.4               |     pyhd8ed1ab_0         1.4 MB  conda-forge\n",
      "    binutils_impl_linux-64-2.33.1|       he1b5a44_7         8.6 MB  conda-forge\n",
      "    binutils_linux-64-2.33.1   |      h9595d00_17          21 KB  conda-forge\n",
      "    cftime-1.3.0               |   py38h0b5ebd8_0         310 KB  conda-forge\n",
      "    conda-4.11.0               |   py38h578d9bd_0        16.9 MB  conda-forge\n",
      "    convertdate-2.3.2          |     pyhd8ed1ab_0          37 KB  conda-forge\n",
      "    ephem-3.7.7.1              |   py38h1e0a361_1         760 KB  conda-forge\n",
      "    gcc_impl_linux-64-7.3.0    |       habb00fd_1        41.9 MB\n",
      "    gcc_linux-64-7.3.0         |      h553295d_17          21 KB  conda-forge\n",
      "    gxx_impl_linux-64-7.3.0    |       hdf63c60_1        15.0 MB\n",
      "    gxx_linux-64-7.3.0         |      h553295d_17          21 KB  conda-forge\n",
      "    hdf4-4.2.13                |                0         969 KB  conda-forge\n",
      "    hijri-converter-2.2.2      |     pyhd8ed1ab_0          17 KB  conda-forge\n",
      "    holidays-0.11.3.1          |     pyhd8ed1ab_0          78 KB  conda-forge\n",
      "    korean_lunar_calendar-0.2.1|     pyh9f0ad1d_0          10 KB  conda-forge\n",
      "    libnetcdf-4.7.3            |       hb80b6cc_0         897 KB\n",
      "    lunarcalendar-0.0.9        |             py_0          20 KB  conda-forge\n",
      "    netcdf4-1.5.3              |   py38hbf33ddf_0         527 KB\n",
      "    prophet-1.0.1              |   py38hd0cf306_3         673 KB  conda-forge\n",
      "    pymeeus-0.5.10             |     pyhd8ed1ab_0         534 KB  conda-forge\n",
      "    pystan-2.19.1.1            |   py38hc5bc63f_2        17.3 MB  conda-forge\n",
      "    python_abi-3.8             |           2_cp38           4 KB  conda-forge\n",
      "    xarray-0.20.1              |     pyhd8ed1ab_0         622 KB  conda-forge\n",
      "    ------------------------------------------------------------\n",
      "                                           Total:       106.4 MB\n",
      "\n",
      "The following NEW packages will be INSTALLED:\n",
      "\n",
      "  arviz              conda-forge/noarch::arviz-0.11.4-pyhd8ed1ab_0\n",
      "  binutils_impl_lin~ conda-forge/linux-64::binutils_impl_linux-64-2.33.1-he1b5a44_7\n",
      "  binutils_linux-64  conda-forge/linux-64::binutils_linux-64-2.33.1-h9595d00_17\n",
      "  cftime             conda-forge/linux-64::cftime-1.3.0-py38h0b5ebd8_0\n",
      "  convertdate        conda-forge/noarch::convertdate-2.3.2-pyhd8ed1ab_0\n",
      "  ephem              conda-forge/linux-64::ephem-3.7.7.1-py38h1e0a361_1\n",
      "  gcc_impl_linux-64  pkgs/main/linux-64::gcc_impl_linux-64-7.3.0-habb00fd_1\n",
      "  gcc_linux-64       conda-forge/linux-64::gcc_linux-64-7.3.0-h553295d_17\n",
      "  gxx_impl_linux-64  pkgs/main/linux-64::gxx_impl_linux-64-7.3.0-hdf63c60_1\n",
      "  gxx_linux-64       conda-forge/linux-64::gxx_linux-64-7.3.0-h553295d_17\n",
      "  hdf4               conda-forge/linux-64::hdf4-4.2.13-0\n",
      "  hijri-converter    conda-forge/noarch::hijri-converter-2.2.2-pyhd8ed1ab_0\n",
      "  holidays           conda-forge/noarch::holidays-0.11.3.1-pyhd8ed1ab_0\n",
      "  korean_lunar_cale~ conda-forge/noarch::korean_lunar_calendar-0.2.1-pyh9f0ad1d_0\n",
      "  libnetcdf          pkgs/main/linux-64::libnetcdf-4.7.3-hb80b6cc_0\n",
      "  lunarcalendar      conda-forge/noarch::lunarcalendar-0.0.9-py_0\n",
      "  netcdf4            pkgs/main/linux-64::netcdf4-1.5.3-py38hbf33ddf_0\n",
      "  prophet            conda-forge/linux-64::prophet-1.0.1-py38hd0cf306_3\n",
      "  pymeeus            conda-forge/noarch::pymeeus-0.5.10-pyhd8ed1ab_0\n",
      "  pystan             conda-forge/linux-64::pystan-2.19.1.1-py38hc5bc63f_2\n",
      "  python_abi         conda-forge/linux-64::python_abi-3.8-2_cp38\n",
      "  xarray             conda-forge/noarch::xarray-0.20.1-pyhd8ed1ab_0\n",
      "\n",
      "The following packages will be UPDATED:\n",
      "\n",
      "  conda              pkgs/main::conda-4.10.1-py38h06a4308_1 --> conda-forge::conda-4.11.0-py38h578d9bd_0\n",
      "\n",
      "\n",
      "\n",
      "Downloading and Extracting Packages\n",
      "conda-4.11.0         | 16.9 MB   | ##################################### | 100% \n",
      "korean_lunar_calenda | 10 KB     | ##################################### | 100% \n",
      "convertdate-2.3.2    | 37 KB     | ##################################### | 100% \n",
      "gcc_linux-64-7.3.0   | 21 KB     | ##################################### | 100% \n",
      "arviz-0.11.4         | 1.4 MB    | ##################################### | 100% \n",
      "gcc_impl_linux-64-7. | 41.9 MB   | ##################################### | 100% \n",
      "ephem-3.7.7.1        | 760 KB    | ##################################### | 100% \n",
      "netcdf4-1.5.3        | 527 KB    | ##################################### | 100% \n",
      "hdf4-4.2.13          | 969 KB    | ##################################### | 100% \n",
      "gxx_impl_linux-64-7. | 15.0 MB   | ##################################### | 100% \n",
      "pymeeus-0.5.10       | 534 KB    | ##################################### | 100% \n",
      "prophet-1.0.1        | 673 KB    | ##################################### | 100% \n",
      "cftime-1.3.0         | 310 KB    | ##################################### | 100% \n",
      "python_abi-3.8       | 4 KB      | ##################################### | 100% \n",
      "lunarcalendar-0.0.9  | 20 KB     | ##################################### | 100% \n",
      "holidays-0.11.3.1    | 78 KB     | ##################################### | 100% \n",
      "binutils_linux-64-2. | 21 KB     | ##################################### | 100% \n",
      "gxx_linux-64-7.3.0   | 21 KB     | ##################################### | 100% \n",
      "hijri-converter-2.2. | 17 KB     | ##################################### | 100% \n",
      "pystan-2.19.1.1      | 17.3 MB   | ##################################### | 100% \n",
      "libnetcdf-4.7.3      | 897 KB    | ##################################### | 100% \n",
      "binutils_impl_linux- | 8.6 MB    | ##################################### | 100% \n",
      "xarray-0.20.1        | 622 KB    | ##################################### | 100% \n",
      "Preparing transaction: done\n",
      "Verifying transaction: done\n",
      "Executing transaction: done\n",
      "\n",
      "Note: you may need to restart the kernel to use updated packages.\n"
     ]
    }
   ],
   "source": [
    "conda install -c conda-forge prophet"
   ]
  },
  {
   "cell_type": "code",
   "execution_count": 40,
   "metadata": {},
   "outputs": [],
   "source": [
    "from prophet import Prophet"
   ]
  },
  {
   "cell_type": "code",
   "execution_count": 41,
   "metadata": {},
   "outputs": [],
   "source": [
    "from prophet.plot import add_changepoints_to_plot"
   ]
  },
  {
   "cell_type": "code",
   "execution_count": 4,
   "metadata": {},
   "outputs": [
    {
     "name": "stdout",
     "output_type": "stream",
     "text": [
      "\u001b[33mWARNING: Keyring is skipped due to an exception: Failed to unlock the collection!\u001b[0m\n",
      "Collecting plotly\n",
      "  Downloading plotly-5.4.0-py2.py3-none-any.whl (25.3 MB)\n",
      "\u001b[K     |████████████████████████████████| 25.3 MB 4.2 MB/s eta 0:00:01    |▉                               | 665 kB 1.9 MB/s eta 0:00:13     |█████████▌                      | 7.5 MB 3.9 MB/s eta 0:00:05     |███████████████████████▎        | 18.4 MB 3.4 MB/s eta 0:00:03\n",
      "\u001b[?25hRequirement already satisfied: six in /home/jbl/anaconda3/lib/python3.8/site-packages (from plotly) (1.15.0)\n",
      "Collecting tenacity>=6.2.0\n",
      "  Downloading tenacity-8.0.1-py3-none-any.whl (24 kB)\n",
      "Installing collected packages: tenacity, plotly\n",
      "Successfully installed plotly-5.4.0 tenacity-8.0.1\n"
     ]
    }
   ],
   "source": [
    "!pip install --upgrade plotly"
   ]
  },
  {
   "cell_type": "code",
   "execution_count": 9,
   "metadata": {},
   "outputs": [
    {
     "name": "stdout",
     "output_type": "stream",
     "text": [
      "Prophet <class 'prophet.forecaster.Prophet'>\n"
     ]
    }
   ],
   "source": [
    "print('Prophet %s' % Prophet) "
   ]
  },
  {
   "cell_type": "code",
   "execution_count": 41,
   "metadata": {},
   "outputs": [
    {
     "data": {
      "text/plain": [
       "Index(['Origin', 'Country/Region', 'Firstseen', 'Lastseen', 'Date',\n",
       "       'Confirmed', 'Recovered', 'Deaths'],\n",
       "      dtype='object')"
      ]
     },
     "execution_count": 41,
     "metadata": {},
     "output_type": "execute_result"
    }
   ],
   "source": [
    "covid_alpha.columns"
   ]
  },
  {
   "cell_type": "code",
   "execution_count": 4,
   "metadata": {},
   "outputs": [],
   "source": [
    "covid_alpha_cleaned = pd.read_csv(\"/home/jbl/Documents/livre unil/Project SOAR/cvd_1.csv\")"
   ]
  },
  {
   "cell_type": "code",
   "execution_count": 8,
   "metadata": {},
   "outputs": [
    {
     "data": {
      "text/plain": [
       "Origin            object\n",
       "Country/Region    object\n",
       "Firstseen         object\n",
       "Lastseen          object\n",
       "Date              object\n",
       "Confirmed          int64\n",
       "Recovered          int64\n",
       "Deaths             int64\n",
       "dtype: object"
      ]
     },
     "execution_count": 8,
     "metadata": {},
     "output_type": "execute_result"
    }
   ],
   "source": [
    "covid_alpha_cleaned.dtypes"
   ]
  },
  {
   "cell_type": "code",
   "execution_count": null,
   "metadata": {},
   "outputs": [],
   "source": []
  },
  {
   "cell_type": "code",
   "execution_count": 10,
   "metadata": {},
   "outputs": [
    {
     "data": {
      "text/html": [
       "<div>\n",
       "<style scoped>\n",
       "    .dataframe tbody tr th:only-of-type {\n",
       "        vertical-align: middle;\n",
       "    }\n",
       "\n",
       "    .dataframe tbody tr th {\n",
       "        vertical-align: top;\n",
       "    }\n",
       "\n",
       "    .dataframe thead th {\n",
       "        text-align: right;\n",
       "    }\n",
       "</style>\n",
       "<table border=\"1\" class=\"dataframe\">\n",
       "  <thead>\n",
       "    <tr style=\"text-align: right;\">\n",
       "      <th></th>\n",
       "      <th>ds</th>\n",
       "      <th>y</th>\n",
       "    </tr>\n",
       "  </thead>\n",
       "  <tbody>\n",
       "    <tr>\n",
       "      <th>36928</th>\n",
       "      <td>2020-02-24</td>\n",
       "      <td>160</td>\n",
       "    </tr>\n",
       "    <tr>\n",
       "      <th>36929</th>\n",
       "      <td>2020-02-24</td>\n",
       "      <td>160</td>\n",
       "    </tr>\n",
       "    <tr>\n",
       "      <th>36930</th>\n",
       "      <td>2020-02-24</td>\n",
       "      <td>160</td>\n",
       "    </tr>\n",
       "    <tr>\n",
       "      <th>36931</th>\n",
       "      <td>2020-02-24</td>\n",
       "      <td>160</td>\n",
       "    </tr>\n",
       "    <tr>\n",
       "      <th>36932</th>\n",
       "      <td>2020-02-24</td>\n",
       "      <td>160</td>\n",
       "    </tr>\n",
       "  </tbody>\n",
       "</table>\n",
       "</div>"
      ],
      "text/plain": [
       "              ds    y\n",
       "36928 2020-02-24  160\n",
       "36929 2020-02-24  160\n",
       "36930 2020-02-24  160\n",
       "36931 2020-02-24  160\n",
       "36932 2020-02-24  160"
      ]
     },
     "execution_count": 10,
     "metadata": {},
     "output_type": "execute_result"
    }
   ],
   "source": [
    "df = pd.DataFrame()\n",
    "df['ds'] = pd.to_datetime(covid_alpha_cleaned['Date'])\n",
    "df['y'] = covid_alpha_cleaned['Confirmed']\n",
    "\n",
    "df.tail()"
   ]
  },
  {
   "cell_type": "code",
   "execution_count": 43,
   "metadata": {},
   "outputs": [
    {
     "data": {
      "text/html": [
       "<div>\n",
       "<style scoped>\n",
       "    .dataframe tbody tr th:only-of-type {\n",
       "        vertical-align: middle;\n",
       "    }\n",
       "\n",
       "    .dataframe tbody tr th {\n",
       "        vertical-align: top;\n",
       "    }\n",
       "\n",
       "    .dataframe thead th {\n",
       "        text-align: right;\n",
       "    }\n",
       "</style>\n",
       "<table border=\"1\" class=\"dataframe\">\n",
       "  <thead>\n",
       "    <tr style=\"text-align: right;\">\n",
       "      <th></th>\n",
       "      <th>ds</th>\n",
       "      <th>y</th>\n",
       "    </tr>\n",
       "  </thead>\n",
       "  <tbody>\n",
       "    <tr>\n",
       "      <th>38815</th>\n",
       "      <td>2020-03-14</td>\n",
       "      <td>655.0</td>\n",
       "    </tr>\n",
       "    <tr>\n",
       "      <th>38816</th>\n",
       "      <td>2020-03-14</td>\n",
       "      <td>5.0</td>\n",
       "    </tr>\n",
       "    <tr>\n",
       "      <th>38817</th>\n",
       "      <td>2020-03-14</td>\n",
       "      <td>10.0</td>\n",
       "    </tr>\n",
       "    <tr>\n",
       "      <th>38818</th>\n",
       "      <td>2020-03-15</td>\n",
       "      <td>214.0</td>\n",
       "    </tr>\n",
       "    <tr>\n",
       "      <th>38819</th>\n",
       "      <td>2020-03-15</td>\n",
       "      <td>214.0</td>\n",
       "    </tr>\n",
       "  </tbody>\n",
       "</table>\n",
       "</div>"
      ],
      "text/plain": [
       "              ds      y\n",
       "38815 2020-03-14  655.0\n",
       "38816 2020-03-14    5.0\n",
       "38817 2020-03-14   10.0\n",
       "38818 2020-03-15  214.0\n",
       "38819 2020-03-15  214.0"
      ]
     },
     "execution_count": 43,
     "metadata": {},
     "output_type": "execute_result"
    }
   ],
   "source": [
    "df = pd.DataFrame()\n",
    "df['ds'] = pd.to_datetime(covid_alpha['Date'])\n",
    "df['y'] = covid_alpha['Confirmed']\n",
    "\n",
    "df.tail()"
   ]
  },
  {
   "cell_type": "code",
   "execution_count": 45,
   "metadata": {},
   "outputs": [],
   "source": [
    "import matplotlib.pyplot as plt"
   ]
  },
  {
   "cell_type": "code",
   "execution_count": 47,
   "metadata": {},
   "outputs": [
    {
     "data": {
      "text/plain": [
       "Text(0.5, 0, 'Date')"
      ]
     },
     "execution_count": 47,
     "metadata": {},
     "output_type": "execute_result"
    },
    {
     "data": {
      "image/png": "[encoded data removed]",
      "text/plain": [
       "<Figure size 864x576 with 1 Axes>"
      ]
     },
     "metadata": {},
     "output_type": "display_data"
    }
   ],
   "source": [
    "plt.style.use('fivethirtyeight')\n",
    "ax = df.set_index('ds').plot(figsize=(12, 8))\n",
    "ax.set_ylabel('Number of cases')#('Monthly Number of Airline Passengers')\n",
    "ax.set_xlabel('Date')\n"
   ]
  },
  {
   "cell_type": "code",
   "execution_count": null,
   "metadata": {},
   "outputs": [],
   "source": [
    "# we need to ask the dataset questions like what are the countries which have more number of flights with China\n",
    "# then to predict that they will have more cases. finally, to verify that claim"
   ]
  },
  {
   "cell_type": "code",
   "execution_count": 58,
   "metadata": {},
   "outputs": [
    {
     "data": {
      "text/html": [
       "<div>\n",
       "<style scoped>\n",
       "    .dataframe tbody tr th:only-of-type {\n",
       "        vertical-align: middle;\n",
       "    }\n",
       "\n",
       "    .dataframe tbody tr th {\n",
       "        vertical-align: top;\n",
       "    }\n",
       "\n",
       "    .dataframe thead th {\n",
       "        text-align: right;\n",
       "    }\n",
       "</style>\n",
       "<table border=\"1\" class=\"dataframe\">\n",
       "  <thead>\n",
       "    <tr style=\"text-align: right;\">\n",
       "      <th></th>\n",
       "      <th>ds</th>\n",
       "    </tr>\n",
       "  </thead>\n",
       "  <tbody>\n",
       "    <tr>\n",
       "      <th>151</th>\n",
       "      <td>2020-05-25</td>\n",
       "    </tr>\n",
       "    <tr>\n",
       "      <th>152</th>\n",
       "      <td>2020-05-26</td>\n",
       "    </tr>\n",
       "    <tr>\n",
       "      <th>153</th>\n",
       "      <td>2020-05-27</td>\n",
       "    </tr>\n",
       "    <tr>\n",
       "      <th>154</th>\n",
       "      <td>2020-05-28</td>\n",
       "    </tr>\n",
       "    <tr>\n",
       "      <th>155</th>\n",
       "      <td>2020-05-29</td>\n",
       "    </tr>\n",
       "  </tbody>\n",
       "</table>\n",
       "</div>"
      ],
      "text/plain": [
       "            ds\n",
       "151 2020-05-25\n",
       "152 2020-05-26\n",
       "153 2020-05-27\n",
       "154 2020-05-28\n",
       "155 2020-05-29"
      ]
     },
     "execution_count": 58,
     "metadata": {},
     "output_type": "execute_result"
    }
   ],
   "source": [
    "#Step 3 — Time Series Forecasting with Prophet\n",
    "# set the uncertainty interval to 95% (the Prophet default is 80%)\n",
    "prophet = Prophet(seasonality_mode = 'multiplicative', yearly_seasonality=False, daily_seasonality=True, weekly_seasonality=True, interval_width=0.95)\n",
    "prophet.fit(df)\n",
    "future_dates = prophet.make_future_dataframe(periods=75, freq='d')\n",
    "future_dates.tail()"
   ]
  },
  {
   "cell_type": "code",
   "execution_count": 59,
   "metadata": {},
   "outputs": [
    {
     "data": {
      "text/html": [
       "<div>\n",
       "<style scoped>\n",
       "    .dataframe tbody tr th:only-of-type {\n",
       "        vertical-align: middle;\n",
       "    }\n",
       "\n",
       "    .dataframe tbody tr th {\n",
       "        vertical-align: top;\n",
       "    }\n",
       "\n",
       "    .dataframe thead th {\n",
       "        text-align: right;\n",
       "    }\n",
       "</style>\n",
       "<table border=\"1\" class=\"dataframe\">\n",
       "  <thead>\n",
       "    <tr style=\"text-align: right;\">\n",
       "      <th></th>\n",
       "      <th>ds</th>\n",
       "      <th>yhat</th>\n",
       "      <th>yhat_lower</th>\n",
       "      <th>yhat_upper</th>\n",
       "    </tr>\n",
       "  </thead>\n",
       "  <tbody>\n",
       "    <tr>\n",
       "      <th>151</th>\n",
       "      <td>2020-05-25</td>\n",
       "      <td>835.794658</td>\n",
       "      <td>136.981393</td>\n",
       "      <td>1493.303717</td>\n",
       "    </tr>\n",
       "    <tr>\n",
       "      <th>152</th>\n",
       "      <td>2020-05-26</td>\n",
       "      <td>616.864752</td>\n",
       "      <td>50.821198</td>\n",
       "      <td>1161.377388</td>\n",
       "    </tr>\n",
       "    <tr>\n",
       "      <th>153</th>\n",
       "      <td>2020-05-27</td>\n",
       "      <td>871.290851</td>\n",
       "      <td>126.685919</td>\n",
       "      <td>1583.524109</td>\n",
       "    </tr>\n",
       "    <tr>\n",
       "      <th>154</th>\n",
       "      <td>2020-05-28</td>\n",
       "      <td>671.074957</td>\n",
       "      <td>90.520125</td>\n",
       "      <td>1280.361966</td>\n",
       "    </tr>\n",
       "    <tr>\n",
       "      <th>155</th>\n",
       "      <td>2020-05-29</td>\n",
       "      <td>884.328040</td>\n",
       "      <td>137.034952</td>\n",
       "      <td>1624.453177</td>\n",
       "    </tr>\n",
       "  </tbody>\n",
       "</table>\n",
       "</div>"
      ],
      "text/plain": [
       "            ds        yhat  yhat_lower   yhat_upper\n",
       "151 2020-05-25  835.794658  136.981393  1493.303717\n",
       "152 2020-05-26  616.864752   50.821198  1161.377388\n",
       "153 2020-05-27  871.290851  126.685919  1583.524109\n",
       "154 2020-05-28  671.074957   90.520125  1280.361966\n",
       "155 2020-05-29  884.328040  137.034952  1624.453177"
      ]
     },
     "execution_count": 59,
     "metadata": {},
     "output_type": "execute_result"
    }
   ],
   "source": [
    "forecast = prophet.predict(future_dates)\n",
    "forecast[['ds', 'yhat', 'yhat_lower', 'yhat_upper']].tail()"
   ]
  },
  {
   "cell_type": "code",
   "execution_count": 62,
   "metadata": {
    "scrolled": false
   },
   "outputs": [
    {
     "data": {
      "image/png": "[encoded data removed]",
      "text/plain": [
       "<Figure size 720x432 with 1 Axes>"
      ]
     },
     "metadata": {},
     "output_type": "display_data"
    }
   ],
   "source": [
    "#future = prophet.make_future_dataframe(periods=12 * 6, freq='M')\n",
    "#forecast = prophet.predict(future)\n",
    "fig = prophet.plot(forecast)\n",
    "a = add_changepoints_to_plot(fig.gca(), prophet, forecast)\n",
    "plt.show()"
   ]
  },
  {
   "cell_type": "markdown",
   "metadata": {},
   "source": [
    "Prophet has included the original data as the black dots and the blue line is the forecast model. The light blue area is the confidence interval. Using the add_changepoints_to_plot function added the red lines; the vertical dashed lines are changepoints Prophet identified where the trend changed, and the solid red line is the trend with all seasonality removed. "
   ]
  },
  {
   "cell_type": "code",
   "execution_count": null,
   "metadata": {},
   "outputs": [],
   "source": [
    "fig = prophet.plot(forecast)\n",
    "a = add_changepoints_to_plot(fig.gca(), prophet, forecast)\n"
   ]
  },
  {
   "cell_type": "code",
   "execution_count": 63,
   "metadata": {},
   "outputs": [
    {
     "data": {
      "image/png": "[encoded data removed]",
      "text/plain": [
       "<Figure size 648x648 with 3 Axes>"
      ]
     },
     "metadata": {},
     "output_type": "display_data"
    }
   ],
   "source": [
    "#a = add_changepoints_to_plot(fig.gca(), prophet, forecast)\n",
    "#plt.show()\n",
    "fig2 = prophet.plot_components(forecast)\n",
    "plt.show()"
   ]
  },
  {
   "cell_type": "code",
   "execution_count": null,
   "metadata": {},
   "outputs": [],
   "source": []
  },
  {
   "cell_type": "code",
   "execution_count": null,
   "metadata": {},
   "outputs": [],
   "source": [
    "# 1. premierement:\n",
    "# la visualisation en amont nous permet de voir: Transmission of coronavirus from China to other countries mainly occurred during the month of February-March of 2020 \n",
    "# we need to show that month wise progress of covid 19 cases through a choropleth graph (or another)\n",
    "# so as to visualise how everything started from China\n",
    "\n",
    "# 2. apres le claim est que Air traffic is the main factor \n",
    "\n",
    "# 3. pour faire cette analyse, on a besoin premierement de comprendre comment covid se comporte (se propage) \n",
    "# grace au regressor principal qu'est la date et au nombre des cas qui lui a ete renseignE, \n",
    "# Prophet arrive A comprendre la propagation de covid\n",
    "# et en meme temps, on peut analyser cmnt Air traffic a ete le facteur dans cette propagation \n",
    "# en se servant des dates de flights entre China et ces pays\n",
    "# that's why on a merge les datasets: covid et air traffic autour des colonnes \"date\"\n",
    "\n",
    "# try all countries air traffic with Prophet without forcing China/India as origin. let the origin be anywhere **\n",
    "# With Prophet, let's not put origin. We'll filter the air traffic dataset from 19/12/19 to 15/12/20 \n",
    "# and sample it in order to fit the covid dataset, then we'll clean it and finally run prophet    \n",
    "\n",
    "# on compare enfin avec les figures reels:  **\n",
    "# to achieve the above we need to get unique countries (from country column)\n",
    "# that is those countries which had transaction with China in that period\n",
    "# and to compare the predicted number of cases agaisnt the real ones which those countries had between April and May\n",
    "\n",
    "# find out the real number of cases in the 50 countries which have been in relation with China through Air traffic\n",
    "# and compare them with the number of cases which Prophet has predicted approx 2 M **\n",
    "\n",
    "# find out 10 countries having the highest flight rate with China. ***\n",
    "# pour chacun de ces pays, il faudra run Prophet et ensuite comparer avec leurs reels data\n",
    "\n",
    "# check the 10 or 20 last countries with the least flights with China… and see/compare whether the number of cases is really low. \n",
    "\n"
   ]
  },
  {
   "cell_type": "code",
   "execution_count": null,
   "metadata": {},
   "outputs": [],
   "source": []
  },
  {
   "cell_type": "code",
   "execution_count": null,
   "metadata": {},
   "outputs": [],
   "source": []
  },
  {
   "cell_type": "code",
   "execution_count": null,
   "metadata": {},
   "outputs": [],
   "source": [
    "my_model.plot(forecast,\n",
    "my_model.plot_components(forec\n",
    "Adding Multiple Regressors\n",
    "train_dataset[‘type’] = X[‘type’]\n",
    "#Additional Regressor\n",
    "pro_regressor= Prophet()\n",
    "pro_regressor.add_regressor('type')\n",
    "pro_regressor.add_regressor('Total Volume')\n",
    "pro_regressor.add_regressor('4046')\n",
    "pro_regressor.add_regressor('4225')\n",
    "pro_regressor.add_regressor('4770')\n",
    "pro_regressor.add_regressor('Small Bags')\n",
    "#Fitting the data\n",
    "pro_regressor.fit(train_X)\n",
    "future_data = pro_regressor.make_future_dataframe(periods=249)\n",
    "#forecast the data for Test  data\n",
    "forecast_data = pro_regressor.predict(test_X)\n",
    "pro_regressor.plot(forecast_data);\n"
   ]
  },
  {
   "cell_type": "code",
   "execution_count": null,
   "metadata": {},
   "outputs": [],
   "source": []
  },
  {
   "cell_type": "code",
   "execution_count": null,
   "metadata": {},
   "outputs": [],
   "source": []
  },
  {
   "cell_type": "code",
   "execution_count": null,
   "metadata": {},
   "outputs": [],
   "source": []
  },
  {
   "cell_type": "code",
   "execution_count": null,
   "metadata": {},
   "outputs": [],
   "source": []
  },
  {
   "cell_type": "code",
   "execution_count": null,
   "metadata": {},
   "outputs": [],
   "source": []
  },
  {
   "cell_type": "code",
   "execution_count": null,
   "metadata": {},
   "outputs": [],
   "source": []
  },
  {
   "cell_type": "code",
   "execution_count": null,
   "metadata": {},
   "outputs": [],
   "source": [
    "# NN is for air traffic investigation over all  \n",
    "# which are directly connected to China that doesn’t capture the full picture … Since NN uses weightage, \n",
    "# it might be able to really show how Air traffic was a factor without needing to hard code the originated country.  With Prophet, we actually study how China/india through air traffic have affected other places \n"
   ]
  },
  {
   "cell_type": "code",
   "execution_count": null,
   "metadata": {},
   "outputs": [],
   "source": []
  },
  {
   "cell_type": "code",
   "execution_count": null,
   "metadata": {},
   "outputs": [],
   "source": []
  },
  {
   "cell_type": "code",
   "execution_count": null,
   "metadata": {},
   "outputs": [],
   "source": []
  },
  {
   "cell_type": "code",
   "execution_count": null,
   "metadata": {},
   "outputs": [],
   "source": []
  },
  {
   "cell_type": "code",
   "execution_count": null,
   "metadata": {},
   "outputs": [],
   "source": []
  },
  {
   "cell_type": "code",
   "execution_count": null,
   "metadata": {},
   "outputs": [],
   "source": []
  },
  {
   "cell_type": "code",
   "execution_count": null,
   "metadata": {},
   "outputs": [],
   "source": []
  },
  {
   "cell_type": "code",
   "execution_count": null,
   "metadata": {},
   "outputs": [],
   "source": []
  },
  {
   "cell_type": "code",
   "execution_count": null,
   "metadata": {},
   "outputs": [],
   "source": []
  },
  {
   "cell_type": "code",
   "execution_count": null,
   "metadata": {},
   "outputs": [],
   "source": []
  },
  {
   "cell_type": "code",
   "execution_count": null,
   "metadata": {},
   "outputs": [],
   "source": []
  },
  {
   "cell_type": "code",
   "execution_count": null,
   "metadata": {},
   "outputs": [],
   "source": []
  },
  {
   "cell_type": "code",
   "execution_count": null,
   "metadata": {},
   "outputs": [],
   "source": []
  },
  {
   "cell_type": "code",
   "execution_count": null,
   "metadata": {},
   "outputs": [],
   "source": []
  },
  {
   "cell_type": "code",
   "execution_count": null,
   "metadata": {},
   "outputs": [],
   "source": []
  },
  {
   "cell_type": "code",
   "execution_count": null,
   "metadata": {},
   "outputs": [],
   "source": []
  },
  {
   "cell_type": "code",
   "execution_count": null,
   "metadata": {},
   "outputs": [],
   "source": []
  },
  {
   "cell_type": "code",
   "execution_count": null,
   "metadata": {},
   "outputs": [],
   "source": []
  },
  {
   "cell_type": "code",
   "execution_count": null,
   "metadata": {},
   "outputs": [],
   "source": []
  },
  {
   "cell_type": "code",
   "execution_count": null,
   "metadata": {},
   "outputs": [],
   "source": []
  },
  {
   "cell_type": "code",
   "execution_count": null,
   "metadata": {},
   "outputs": [],
   "source": []
  },
  {
   "cell_type": "code",
   "execution_count": null,
   "metadata": {},
   "outputs": [],
   "source": []
  },
  {
   "cell_type": "code",
   "execution_count": null,
   "metadata": {},
   "outputs": [],
   "source": []
  },
  {
   "cell_type": "code",
   "execution_count": null,
   "metadata": {},
   "outputs": [],
   "source": []
  },
  {
   "cell_type": "code",
   "execution_count": null,
   "metadata": {},
   "outputs": [],
   "source": []
  },
  {
   "cell_type": "code",
   "execution_count": null,
   "metadata": {},
   "outputs": [],
   "source": []
  },
  {
   "cell_type": "code",
   "execution_count": null,
   "metadata": {},
   "outputs": [],
   "source": []
  },
  {
   "cell_type": "code",
   "execution_count": null,
   "metadata": {},
   "outputs": [],
   "source": []
  },
  {
   "cell_type": "code",
   "execution_count": null,
   "metadata": {},
   "outputs": [],
   "source": []
  },
  {
   "cell_type": "code",
   "execution_count": null,
   "metadata": {},
   "outputs": [],
   "source": []
  },
  {
   "cell_type": "code",
   "execution_count": null,
   "metadata": {},
   "outputs": [],
   "source": []
  },
  {
   "cell_type": "code",
   "execution_count": null,
   "metadata": {},
   "outputs": [],
   "source": []
  },
  {
   "cell_type": "code",
   "execution_count": null,
   "metadata": {},
   "outputs": [],
   "source": []
  },
  {
   "cell_type": "code",
   "execution_count": null,
   "metadata": {},
   "outputs": [],
   "source": []
  },
  {
   "cell_type": "code",
   "execution_count": null,
   "metadata": {},
   "outputs": [],
   "source": []
  },
  {
   "cell_type": "code",
   "execution_count": null,
   "metadata": {},
   "outputs": [],
   "source": []
  },
  {
   "cell_type": "code",
   "execution_count": null,
   "metadata": {},
   "outputs": [],
   "source": []
  },
  {
   "cell_type": "code",
   "execution_count": null,
   "metadata": {},
   "outputs": [],
   "source": []
  },
  {
   "cell_type": "code",
   "execution_count": null,
   "metadata": {},
   "outputs": [],
   "source": []
  },
  {
   "cell_type": "code",
   "execution_count": null,
   "metadata": {},
   "outputs": [],
   "source": []
  },
  {
   "cell_type": "code",
   "execution_count": null,
   "metadata": {},
   "outputs": [],
   "source": []
  },
  {
   "cell_type": "code",
   "execution_count": null,
   "metadata": {},
   "outputs": [],
   "source": []
  },
  {
   "cell_type": "code",
   "execution_count": null,
   "metadata": {},
   "outputs": [],
   "source": []
  },
  {
   "cell_type": "code",
   "execution_count": null,
   "metadata": {},
   "outputs": [],
   "source": []
  },
  {
   "cell_type": "code",
   "execution_count": null,
   "metadata": {},
   "outputs": [],
   "source": []
  },
  {
   "cell_type": "code",
   "execution_count": null,
   "metadata": {},
   "outputs": [],
   "source": []
  },
  {
   "cell_type": "code",
   "execution_count": null,
   "metadata": {},
   "outputs": [],
   "source": []
  },
  {
   "cell_type": "code",
   "execution_count": null,
   "metadata": {},
   "outputs": [],
   "source": []
  },
  {
   "cell_type": "code",
   "execution_count": null,
   "metadata": {},
   "outputs": [],
   "source": []
  },
  {
   "cell_type": "code",
   "execution_count": null,
   "metadata": {},
   "outputs": [],
   "source": []
  },
  {
   "cell_type": "code",
   "execution_count": null,
   "metadata": {},
   "outputs": [],
   "source": []
  },
  {
   "cell_type": "code",
   "execution_count": null,
   "metadata": {},
   "outputs": [],
   "source": []
  },
  {
   "cell_type": "code",
   "execution_count": null,
   "metadata": {},
   "outputs": [],
   "source": []
  },
  {
   "cell_type": "code",
   "execution_count": null,
   "metadata": {},
   "outputs": [],
   "source": []
  },
  {
   "cell_type": "code",
   "execution_count": null,
   "metadata": {},
   "outputs": [],
   "source": []
  },
  {
   "cell_type": "code",
   "execution_count": null,
   "metadata": {},
   "outputs": [],
   "source": []
  },
  {
   "cell_type": "code",
   "execution_count": null,
   "metadata": {},
   "outputs": [],
   "source": []
  },
  {
   "cell_type": "code",
   "execution_count": null,
   "metadata": {},
   "outputs": [],
   "source": []
  },
  {
   "cell_type": "code",
   "execution_count": null,
   "metadata": {},
   "outputs": [],
   "source": []
  },
  {
   "cell_type": "code",
   "execution_count": null,
   "metadata": {},
   "outputs": [],
   "source": []
  },
  {
   "cell_type": "code",
   "execution_count": null,
   "metadata": {},
   "outputs": [],
   "source": []
  },
  {
   "cell_type": "code",
   "execution_count": null,
   "metadata": {},
   "outputs": [],
   "source": []
  },
  {
   "cell_type": "code",
   "execution_count": null,
   "metadata": {},
   "outputs": [],
   "source": []
  },
  {
   "cell_type": "code",
   "execution_count": null,
   "metadata": {},
   "outputs": [],
   "source": []
  }
 ],
 "metadata": {
  "kernelspec": {
   "display_name": "Python 3",
   "language": "python",
   "name": "python3"
  },
  "language_info": {
   "codemirror_mode": {
    "name": "ipython",
    "version": 3
   },
   "file_extension": ".py",
   "mimetype": "text/x-python",
   "name": "python",
   "nbconvert_exporter": "python",
   "pygments_lexer": "ipython3",
   "version": "3.8.8"
  }
 },
 "nbformat": 4,
 "nbformat_minor": 4
}
