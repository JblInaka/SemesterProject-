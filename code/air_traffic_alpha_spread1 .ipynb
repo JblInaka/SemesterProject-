{
 "cells": [
  {
   "cell_type": "code",
   "execution_count": 3,
   "metadata": {},
   "outputs": [],
   "source": [
    "import pandas as pd\n",
    "import numpy as np"
   ]
  },
  {
   "cell_type": "code",
   "execution_count": 13,
   "metadata": {},
   "outputs": [],
   "source": [
    "premier =(df1[\"day\"] > \"2019-12-18\")"
   ]
  },
  {
   "cell_type": "code",
   "execution_count": 11,
   "metadata": {},
   "outputs": [
    {
     "data": {
      "text/plain": [
       "callsign         object\n",
       "number           object\n",
       "icao24           object\n",
       "registration     object\n",
       "typecode         object\n",
       "origin           object\n",
       "destination      object\n",
       "firstseen        object\n",
       "lastseen         object\n",
       "day              object\n",
       "latitude_1      float64\n",
       "longitude_1     float64\n",
       "altitude_1      float64\n",
       "latitude_2      float64\n",
       "longitude_2     float64\n",
       "altitude_2      float64\n",
       "dtype: object"
      ]
     },
     "execution_count": 11,
     "metadata": {},
     "output_type": "execute_result"
    }
   ],
   "source": [
    "df1.dtypes"
   ]
  },
  {
   "cell_type": "code",
   "execution_count": 16,
   "metadata": {},
   "outputs": [],
   "source": [
    "covid_new = df1_new.append(df2, ignore_index=True)"
   ]
  },
  {
   "cell_type": "code",
   "execution_count": 20,
   "metadata": {},
   "outputs": [],
   "source": [
    "covid_new.drop([\"callsign\",\"number\", \"icao24\" ,\"registration\", \"typecode\"], axis = 1, inplace = True )"
   ]
  },
  {
   "cell_type": "code",
   "execution_count": 22,
   "metadata": {},
   "outputs": [],
   "source": [
    "# Origin par China  et filtrer ( ZUCK, ZGSZ)\n",
    "# destination, find china and remove / \n",
    "# drop china na destination "
   ]
  },
  {
   "cell_type": "code",
   "execution_count": 23,
   "metadata": {},
   "outputs": [],
   "source": [
    "covid_new.replace(to_replace =[\"VHHH\", \"ZGGG\", \"VMMC\", \"ZGOW\", \"ZGSD\", \"ZGSZ\", \"ZSAM\", \"ZSWZ\", \"ZUCK\", \"ZYHE\"], \n",
    "                            value =\"CHINA\", inplace = True)"
   ]
  },
  {
   "cell_type": "code",
   "execution_count": 25,
   "metadata": {},
   "outputs": [],
   "source": [
    "covid_new.to_csv(r'C:\\Users\\UTILISATEUR\\Desktop\\Borel\\C2.csv', index = False)"
   ]
  },
  {
   "cell_type": "code",
   "execution_count": 26,
   "metadata": {},
   "outputs": [],
   "source": [
    "# drop les valeurs qui ne sont pas chine dans la colonnes origin\n",
    "cond = covid_new[\"origin\"] != 'CHINA'\n",
    "covid_new.drop(covid_new[cond].index, inplace = True)"
   ]
  },
  {
   "cell_type": "code",
   "execution_count": 27,
   "metadata": {},
   "outputs": [
    {
     "data": {
      "text/plain": [
       "(68915, 5)"
      ]
     },
     "execution_count": 27,
     "metadata": {},
     "output_type": "execute_result"
    }
   ],
   "source": [
    "covid_new.shape #a ce stade nous avons 68915 partant de la chine vers d'autre pays "
   ]
  },
  {
   "cell_type": "code",
   "execution_count": 28,
   "metadata": {},
   "outputs": [],
   "source": [
    "# drop china dans destination"
   ]
  },
  {
   "cell_type": "code",
   "execution_count": 29,
   "metadata": {},
   "outputs": [],
   "source": [
    "cond2 = covid_new[\"destination\"] == 'CHINA'\n",
    "covid_new.drop(covid_new[cond2].index, inplace = True)"
   ]
  },
  {
   "cell_type": "code",
   "execution_count": 31,
   "metadata": {},
   "outputs": [],
   "source": [
    "# clean missing and NAN values \n",
    "# change Day type \n",
    "# destination par kombo\n",
    "# Merge Covid ( confirm case) file a partir ya country na date \n"
   ]
  },
  {
   "cell_type": "code",
   "execution_count": 32,
   "metadata": {},
   "outputs": [],
   "source": [
    "# clean missing and NAN values \n",
    "covid_new.dropna(axis=0, inplace=True)\n",
    "# change Day type "
   ]
  },
  {
   "cell_type": "code",
   "execution_count": 36,
   "metadata": {},
   "outputs": [],
   "source": [
    "# after cleaning the remaining rows is 29021"
   ]
  },
  {
   "cell_type": "code",
   "execution_count": 37,
   "metadata": {},
   "outputs": [],
   "source": [
    "# creation des valeurs uniques pour tirer les origines et destinations\n",
    "df_ac = pd.DataFrame(list(set().union(covid_new.origin.unique(), covid_new.destination.unique())))"
   ]
  },
  {
   "cell_type": "code",
   "execution_count": 38,
   "metadata": {},
   "outputs": [],
   "source": [
    "# Creation des valeurs uniques des destinations\n",
    "df_ab = pd.DataFrame(list(covid_new.destination.unique()))"
   ]
  },
  {
   "cell_type": "code",
   "execution_count": 4,
   "metadata": {},
   "outputs": [
    {
     "data": {
      "text/html": [
       "<div>\n",
       "<style scoped>\n",
       "    .dataframe tbody tr th:only-of-type {\n",
       "        vertical-align: middle;\n",
       "    }\n",
       "\n",
       "    .dataframe tbody tr th {\n",
       "        vertical-align: top;\n",
       "    }\n",
       "\n",
       "    .dataframe thead th {\n",
       "        text-align: right;\n",
       "    }\n",
       "</style>\n",
       "<table border=\"1\" class=\"dataframe\">\n",
       "  <thead>\n",
       "    <tr style=\"text-align: right;\">\n",
       "      <th></th>\n",
       "      <th>Date</th>\n",
       "      <th>Country/Region</th>\n",
       "      <th>Province/State</th>\n",
       "      <th>Confirmed</th>\n",
       "      <th>Recovered</th>\n",
       "      <th>Deaths</th>\n",
       "    </tr>\n",
       "  </thead>\n",
       "  <tbody>\n",
       "    <tr>\n",
       "      <th>181995</th>\n",
       "      <td>2021-10-28</td>\n",
       "      <td>Zimbabwe</td>\n",
       "      <td>NaN</td>\n",
       "      <td>132880</td>\n",
       "      <td>0.0</td>\n",
       "      <td>4675</td>\n",
       "    </tr>\n",
       "    <tr>\n",
       "      <th>181996</th>\n",
       "      <td>2021-10-29</td>\n",
       "      <td>Zimbabwe</td>\n",
       "      <td>NaN</td>\n",
       "      <td>132926</td>\n",
       "      <td>0.0</td>\n",
       "      <td>4675</td>\n",
       "    </tr>\n",
       "    <tr>\n",
       "      <th>181997</th>\n",
       "      <td>2021-10-30</td>\n",
       "      <td>Zimbabwe</td>\n",
       "      <td>NaN</td>\n",
       "      <td>132926</td>\n",
       "      <td>0.0</td>\n",
       "      <td>4675</td>\n",
       "    </tr>\n",
       "    <tr>\n",
       "      <th>181998</th>\n",
       "      <td>2021-10-31</td>\n",
       "      <td>Zimbabwe</td>\n",
       "      <td>NaN</td>\n",
       "      <td>132977</td>\n",
       "      <td>0.0</td>\n",
       "      <td>4678</td>\n",
       "    </tr>\n",
       "    <tr>\n",
       "      <th>181999</th>\n",
       "      <td>2021-11-01</td>\n",
       "      <td>Zimbabwe</td>\n",
       "      <td>NaN</td>\n",
       "      <td>133007</td>\n",
       "      <td>0.0</td>\n",
       "      <td>4679</td>\n",
       "    </tr>\n",
       "  </tbody>\n",
       "</table>\n",
       "</div>"
      ],
      "text/plain": [
       "              Date Country/Region Province/State  Confirmed  Recovered  Deaths\n",
       "181995  2021-10-28       Zimbabwe            NaN     132880        0.0    4675\n",
       "181996  2021-10-29       Zimbabwe            NaN     132926        0.0    4675\n",
       "181997  2021-10-30       Zimbabwe            NaN     132926        0.0    4675\n",
       "181998  2021-10-31       Zimbabwe            NaN     132977        0.0    4678\n",
       "181999  2021-11-01       Zimbabwe            NaN     133007        0.0    4679"
      ]
     },
     "execution_count": 4,
     "metadata": {},
     "output_type": "execute_result"
    }
   ],
   "source": [
    "# tout commence ici\n",
    "covid_19 =  pd.read_csv(r\"C:\\Users\\UTILISATEUR\\Desktop\\Borel\\COVID-19.csv\")\n",
    "covid_19.tail() #covid record start from 22 Janv 2020"
   ]
  },
  {
   "cell_type": "code",
   "execution_count": 5,
   "metadata": {},
   "outputs": [
    {
     "data": {
      "text/plain": [
       "(182000, 6)"
      ]
     },
     "execution_count": 5,
     "metadata": {},
     "output_type": "execute_result"
    }
   ],
   "source": [
    "covid_19.shape"
   ]
  },
  {
   "cell_type": "code",
   "execution_count": 32,
   "metadata": {},
   "outputs": [],
   "source": [
    "# we need to limit the date to 15th March 2020\n",
    "# let's make a condition for that \n",
    "# and then remove all the records whose dates are beyond "
   ]
  },
  {
   "cell_type": "code",
   "execution_count": 6,
   "metadata": {},
   "outputs": [
    {
     "data": {
      "text/html": [
       "<div>\n",
       "<style scoped>\n",
       "    .dataframe tbody tr th:only-of-type {\n",
       "        vertical-align: middle;\n",
       "    }\n",
       "\n",
       "    .dataframe tbody tr th {\n",
       "        vertical-align: top;\n",
       "    }\n",
       "\n",
       "    .dataframe thead th {\n",
       "        text-align: right;\n",
       "    }\n",
       "</style>\n",
       "<table border=\"1\" class=\"dataframe\">\n",
       "  <thead>\n",
       "    <tr style=\"text-align: right;\">\n",
       "      <th></th>\n",
       "      <th>Date</th>\n",
       "      <th>Country/Region</th>\n",
       "      <th>Province/State</th>\n",
       "      <th>Confirmed</th>\n",
       "      <th>Recovered</th>\n",
       "      <th>Deaths</th>\n",
       "    </tr>\n",
       "  </thead>\n",
       "  <tbody>\n",
       "    <tr>\n",
       "      <th>181399</th>\n",
       "      <td>2020-03-11</td>\n",
       "      <td>Zimbabwe</td>\n",
       "      <td>NaN</td>\n",
       "      <td>0</td>\n",
       "      <td>0.0</td>\n",
       "      <td>0</td>\n",
       "    </tr>\n",
       "    <tr>\n",
       "      <th>181400</th>\n",
       "      <td>2020-03-12</td>\n",
       "      <td>Zimbabwe</td>\n",
       "      <td>NaN</td>\n",
       "      <td>0</td>\n",
       "      <td>0.0</td>\n",
       "      <td>0</td>\n",
       "    </tr>\n",
       "    <tr>\n",
       "      <th>181401</th>\n",
       "      <td>2020-03-13</td>\n",
       "      <td>Zimbabwe</td>\n",
       "      <td>NaN</td>\n",
       "      <td>0</td>\n",
       "      <td>0.0</td>\n",
       "      <td>0</td>\n",
       "    </tr>\n",
       "    <tr>\n",
       "      <th>181402</th>\n",
       "      <td>2020-03-14</td>\n",
       "      <td>Zimbabwe</td>\n",
       "      <td>NaN</td>\n",
       "      <td>0</td>\n",
       "      <td>0.0</td>\n",
       "      <td>0</td>\n",
       "    </tr>\n",
       "    <tr>\n",
       "      <th>181403</th>\n",
       "      <td>2020-03-15</td>\n",
       "      <td>Zimbabwe</td>\n",
       "      <td>NaN</td>\n",
       "      <td>0</td>\n",
       "      <td>0.0</td>\n",
       "      <td>0</td>\n",
       "    </tr>\n",
       "  </tbody>\n",
       "</table>\n",
       "</div>"
      ],
      "text/plain": [
       "              Date Country/Region Province/State  Confirmed  Recovered  Deaths\n",
       "181399  2020-03-11       Zimbabwe            NaN          0        0.0       0\n",
       "181400  2020-03-12       Zimbabwe            NaN          0        0.0       0\n",
       "181401  2020-03-13       Zimbabwe            NaN          0        0.0       0\n",
       "181402  2020-03-14       Zimbabwe            NaN          0        0.0       0\n",
       "181403  2020-03-15       Zimbabwe            NaN          0        0.0       0"
      ]
     },
     "execution_count": 6,
     "metadata": {},
     "output_type": "execute_result"
    }
   ],
   "source": [
    "noLockdown = covid_19['Date'] < \"2020-03-16\"\n",
    "covid_19_noLockdown = covid_19[noLockdown]\n",
    "covid_19_noLockdown.tail()"
   ]
  },
  {
   "cell_type": "code",
   "execution_count": 7,
   "metadata": {},
   "outputs": [
    {
     "data": {
      "text/plain": [
       "(15120, 6)"
      ]
     },
     "execution_count": 7,
     "metadata": {},
     "output_type": "execute_result"
    }
   ],
   "source": [
    "covid_19_noLockdown.shape #15 K records upto 15 March 20"
   ]
  },
  {
   "cell_type": "code",
   "execution_count": 8,
   "metadata": {},
   "outputs": [
    {
     "data": {
      "text/plain": [
       "Date               object\n",
       "Country/Region     object\n",
       "Province/State     object\n",
       "Confirmed           int64\n",
       "Recovered         float64\n",
       "Deaths              int64\n",
       "dtype: object"
      ]
     },
     "execution_count": 8,
     "metadata": {},
     "output_type": "execute_result"
    }
   ],
   "source": [
    "covid_19_noLockdown.dtypes #date format a changer et uniformiser les deux dataframes  / province à drop / "
   ]
  },
  {
   "cell_type": "code",
   "execution_count": 9,
   "metadata": {},
   "outputs": [
    {
     "data": {
      "text/plain": [
       "0   2020-01-22\n",
       "1   2020-01-23\n",
       "2   2020-01-24\n",
       "3   2020-01-25\n",
       "4   2020-01-26\n",
       "Name: Date, dtype: datetime64[ns]"
      ]
     },
     "execution_count": 9,
     "metadata": {},
     "output_type": "execute_result"
    }
   ],
   "source": [
    "covid_19['Date'] = pd.to_datetime(covid_19['Date'], infer_datetime_format=True)\n",
    "covid_19['Date'].head() #Date formatted "
   ]
  },
  {
   "cell_type": "code",
   "execution_count": 10,
   "metadata": {},
   "outputs": [],
   "source": [
    "air_traffic = pd.read_csv(r\"C:\\Users\\UTILISATEUR\\Desktop\\Borel\\Air.csv\")"
   ]
  },
  {
   "cell_type": "code",
   "execution_count": 11,
   "metadata": {},
   "outputs": [
    {
     "data": {
      "text/html": [
       "<div>\n",
       "<style scoped>\n",
       "    .dataframe tbody tr th:only-of-type {\n",
       "        vertical-align: middle;\n",
       "    }\n",
       "\n",
       "    .dataframe tbody tr th {\n",
       "        vertical-align: top;\n",
       "    }\n",
       "\n",
       "    .dataframe thead th {\n",
       "        text-align: right;\n",
       "    }\n",
       "</style>\n",
       "<table border=\"1\" class=\"dataframe\">\n",
       "  <thead>\n",
       "    <tr style=\"text-align: right;\">\n",
       "      <th></th>\n",
       "      <th>Origin</th>\n",
       "      <th>Country/Region</th>\n",
       "      <th>Firstseen</th>\n",
       "      <th>Lastseen</th>\n",
       "      <th>Date Air_traffic</th>\n",
       "    </tr>\n",
       "  </thead>\n",
       "  <tbody>\n",
       "    <tr>\n",
       "      <th>29017</th>\n",
       "      <td>China</td>\n",
       "      <td>Hungary</td>\n",
       "      <td>3/29/2020 16:07</td>\n",
       "      <td>3/30/2020 5:51</td>\n",
       "      <td>3/30/2020 2:00</td>\n",
       "    </tr>\n",
       "    <tr>\n",
       "      <th>29018</th>\n",
       "      <td>China</td>\n",
       "      <td>Sri Lanka</td>\n",
       "      <td>3/30/2020 3:30</td>\n",
       "      <td>3/30/2020 8:17</td>\n",
       "      <td>3/30/2020 2:00</td>\n",
       "    </tr>\n",
       "    <tr>\n",
       "      <th>29019</th>\n",
       "      <td>China</td>\n",
       "      <td>Turkey</td>\n",
       "      <td>3/30/2020 6:33</td>\n",
       "      <td>3/30/2020 16:58</td>\n",
       "      <td>3/30/2020 2:00</td>\n",
       "    </tr>\n",
       "    <tr>\n",
       "      <th>29020</th>\n",
       "      <td>China</td>\n",
       "      <td>Bahrain</td>\n",
       "      <td>3/30/2020 23:53</td>\n",
       "      <td>3/31/2020 8:29</td>\n",
       "      <td>3/31/2020 2:00</td>\n",
       "    </tr>\n",
       "    <tr>\n",
       "      <th>29021</th>\n",
       "      <td>China</td>\n",
       "      <td>Czech Republic</td>\n",
       "      <td>3/31/2020 0:13</td>\n",
       "      <td>3/31/2020 18:34</td>\n",
       "      <td>3/31/2020 2:00</td>\n",
       "    </tr>\n",
       "  </tbody>\n",
       "</table>\n",
       "</div>"
      ],
      "text/plain": [
       "      Origin  Country/Region        Firstseen         Lastseen  \\\n",
       "29017  China         Hungary  3/29/2020 16:07   3/30/2020 5:51   \n",
       "29018  China       Sri Lanka   3/30/2020 3:30   3/30/2020 8:17   \n",
       "29019  China          Turkey   3/30/2020 6:33  3/30/2020 16:58   \n",
       "29020  China         Bahrain  3/30/2020 23:53   3/31/2020 8:29   \n",
       "29021  China  Czech Republic   3/31/2020 0:13  3/31/2020 18:34   \n",
       "\n",
       "      Date Air_traffic  \n",
       "29017   3/30/2020 2:00  \n",
       "29018   3/30/2020 2:00  \n",
       "29019   3/30/2020 2:00  \n",
       "29020   3/31/2020 2:00  \n",
       "29021   3/31/2020 2:00  "
      ]
     },
     "execution_count": 11,
     "metadata": {},
     "output_type": "execute_result"
    }
   ],
   "source": [
    "air_traffic.tail() #let's limit to 15 March"
   ]
  },
  {
   "cell_type": "code",
   "execution_count": 12,
   "metadata": {},
   "outputs": [
    {
     "data": {
      "text/plain": [
       "(29022, 5)"
      ]
     },
     "execution_count": 12,
     "metadata": {},
     "output_type": "execute_result"
    }
   ],
   "source": [
    "air_traffic.shape"
   ]
  },
  {
   "cell_type": "code",
   "execution_count": 13,
   "metadata": {},
   "outputs": [
    {
     "data": {
      "text/html": [
       "<div>\n",
       "<style scoped>\n",
       "    .dataframe tbody tr th:only-of-type {\n",
       "        vertical-align: middle;\n",
       "    }\n",
       "\n",
       "    .dataframe tbody tr th {\n",
       "        vertical-align: top;\n",
       "    }\n",
       "\n",
       "    .dataframe thead th {\n",
       "        text-align: right;\n",
       "    }\n",
       "</style>\n",
       "<table border=\"1\" class=\"dataframe\">\n",
       "  <thead>\n",
       "    <tr style=\"text-align: right;\">\n",
       "      <th></th>\n",
       "      <th>Origin</th>\n",
       "      <th>Country/Region</th>\n",
       "      <th>Firstseen</th>\n",
       "      <th>Lastseen</th>\n",
       "      <th>Date Air_traffic</th>\n",
       "    </tr>\n",
       "  </thead>\n",
       "  <tbody>\n",
       "    <tr>\n",
       "      <th>28978</th>\n",
       "      <td>China</td>\n",
       "      <td>Austria</td>\n",
       "      <td>3/14/2020 2:33</td>\n",
       "      <td>3/14/2020 15:57</td>\n",
       "      <td>3/14/2020 1:00</td>\n",
       "    </tr>\n",
       "    <tr>\n",
       "      <th>28979</th>\n",
       "      <td>China</td>\n",
       "      <td>Turkey</td>\n",
       "      <td>3/14/2020 11:36</td>\n",
       "      <td>3/14/2020 22:39</td>\n",
       "      <td>3/14/2020 1:00</td>\n",
       "    </tr>\n",
       "    <tr>\n",
       "      <th>28980</th>\n",
       "      <td>China</td>\n",
       "      <td>Sri Lanka</td>\n",
       "      <td>3/14/2020 13:22</td>\n",
       "      <td>3/14/2020 18:38</td>\n",
       "      <td>3/14/2020 1:00</td>\n",
       "    </tr>\n",
       "    <tr>\n",
       "      <th>28981</th>\n",
       "      <td>China</td>\n",
       "      <td>Bahrain</td>\n",
       "      <td>3/14/2020 22:00</td>\n",
       "      <td>3/15/2020 6:49</td>\n",
       "      <td>3/15/2020 1:00</td>\n",
       "    </tr>\n",
       "    <tr>\n",
       "      <th>28982</th>\n",
       "      <td>China</td>\n",
       "      <td>Bahrain</td>\n",
       "      <td>3/14/2020 23:19</td>\n",
       "      <td>3/15/2020 8:02</td>\n",
       "      <td>3/15/2020 1:00</td>\n",
       "    </tr>\n",
       "  </tbody>\n",
       "</table>\n",
       "</div>"
      ],
      "text/plain": [
       "      Origin Country/Region        Firstseen         Lastseen Date Air_traffic\n",
       "28978  China        Austria   3/14/2020 2:33  3/14/2020 15:57   3/14/2020 1:00\n",
       "28979  China         Turkey  3/14/2020 11:36  3/14/2020 22:39   3/14/2020 1:00\n",
       "28980  China      Sri Lanka  3/14/2020 13:22  3/14/2020 18:38   3/14/2020 1:00\n",
       "28981  China        Bahrain  3/14/2020 22:00   3/15/2020 6:49   3/15/2020 1:00\n",
       "28982  China        Bahrain  3/14/2020 23:19   3/15/2020 8:02   3/15/2020 1:00"
      ]
     },
     "execution_count": 13,
     "metadata": {},
     "output_type": "execute_result"
    }
   ],
   "source": [
    "noLockdown = air_traffic['Date Air_traffic'] < \"3/16/2020\"\n",
    "air_traffic_noLockdown = air_traffic[noLockdown]\n",
    "air_traffic_noLockdown.tail()"
   ]
  },
  {
   "cell_type": "code",
   "execution_count": 14,
   "metadata": {},
   "outputs": [
    {
     "data": {
      "text/plain": [
       "(25459, 5)"
      ]
     },
     "execution_count": 14,
     "metadata": {},
     "output_type": "execute_result"
    }
   ],
   "source": [
    "air_traffic_noLockdown.shape #24 k flights"
   ]
  },
  {
   "cell_type": "code",
   "execution_count": 15,
   "metadata": {},
   "outputs": [
    {
     "data": {
      "text/plain": [
       "Origin              object\n",
       "Country/Region      object\n",
       "Firstseen           object\n",
       "Lastseen            object\n",
       "Date Air_traffic    object\n",
       "dtype: object"
      ]
     },
     "execution_count": 15,
     "metadata": {},
     "output_type": "execute_result"
    }
   ],
   "source": [
    "air_traffic_noLockdown.dtypes"
   ]
  },
  {
   "cell_type": "code",
   "execution_count": 16,
   "metadata": {},
   "outputs": [
    {
     "name": "stderr",
     "output_type": "stream",
     "text": [
      "<ipython-input-16-821f615b5315>:1: SettingWithCopyWarning: \n",
      "A value is trying to be set on a copy of a slice from a DataFrame.\n",
      "Try using .loc[row_indexer,col_indexer] = value instead\n",
      "\n",
      "See the caveats in the documentation: https://pandas.pydata.org/pandas-docs/stable/user_guide/indexing.html#returning-a-view-versus-a-copy\n",
      "  air_traffic_noLockdown['Date Air_traffic'] = pd.to_datetime(air_traffic_noLockdown['Date Air_traffic'], infer_datetime_format=True)\n"
     ]
    }
   ],
   "source": [
    "air_traffic_noLockdown['Date Air_traffic'] = pd.to_datetime(air_traffic_noLockdown['Date Air_traffic'], infer_datetime_format=True)"
   ]
  },
  {
   "cell_type": "code",
   "execution_count": 17,
   "metadata": {},
   "outputs": [
    {
     "name": "stderr",
     "output_type": "stream",
     "text": [
      "<ipython-input-17-86932f970f8a>:1: SettingWithCopyWarning: \n",
      "A value is trying to be set on a copy of a slice from a DataFrame.\n",
      "Try using .loc[row_indexer,col_indexer] = value instead\n",
      "\n",
      "See the caveats in the documentation: https://pandas.pydata.org/pandas-docs/stable/user_guide/indexing.html#returning-a-view-versus-a-copy\n",
      "  air_traffic_noLockdown['Date'] = air_traffic_noLockdown['Date Air_traffic'].dt.date\n"
     ]
    },
    {
     "data": {
      "text/plain": [
       "28978    2020-03-14\n",
       "28979    2020-03-14\n",
       "28980    2020-03-14\n",
       "28981    2020-03-15\n",
       "28982    2020-03-15\n",
       "Name: Date, dtype: object"
      ]
     },
     "execution_count": 17,
     "metadata": {},
     "output_type": "execute_result"
    }
   ],
   "source": [
    "air_traffic_noLockdown['Date'] = air_traffic_noLockdown['Date Air_traffic'].dt.date\n",
    "air_traffic_noLockdown['Date'].tail()"
   ]
  },
  {
   "cell_type": "code",
   "execution_count": 18,
   "metadata": {},
   "outputs": [
    {
     "data": {
      "text/html": [
       "<div>\n",
       "<style scoped>\n",
       "    .dataframe tbody tr th:only-of-type {\n",
       "        vertical-align: middle;\n",
       "    }\n",
       "\n",
       "    .dataframe tbody tr th {\n",
       "        vertical-align: top;\n",
       "    }\n",
       "\n",
       "    .dataframe thead th {\n",
       "        text-align: right;\n",
       "    }\n",
       "</style>\n",
       "<table border=\"1\" class=\"dataframe\">\n",
       "  <thead>\n",
       "    <tr style=\"text-align: right;\">\n",
       "      <th></th>\n",
       "      <th>Date</th>\n",
       "      <th>Date Air_traffic</th>\n",
       "    </tr>\n",
       "  </thead>\n",
       "  <tbody>\n",
       "    <tr>\n",
       "      <th>0</th>\n",
       "      <td>2019-12-20</td>\n",
       "      <td>2019-12-20 01:00:00</td>\n",
       "    </tr>\n",
       "    <tr>\n",
       "      <th>1</th>\n",
       "      <td>2019-12-20</td>\n",
       "      <td>2019-12-20 01:00:00</td>\n",
       "    </tr>\n",
       "    <tr>\n",
       "      <th>2</th>\n",
       "      <td>2019-12-20</td>\n",
       "      <td>2019-12-20 01:00:00</td>\n",
       "    </tr>\n",
       "    <tr>\n",
       "      <th>3</th>\n",
       "      <td>2019-12-20</td>\n",
       "      <td>2019-12-20 01:00:00</td>\n",
       "    </tr>\n",
       "    <tr>\n",
       "      <th>4</th>\n",
       "      <td>2019-12-20</td>\n",
       "      <td>2019-12-20 01:00:00</td>\n",
       "    </tr>\n",
       "  </tbody>\n",
       "</table>\n",
       "</div>"
      ],
      "text/plain": [
       "         Date    Date Air_traffic\n",
       "0  2019-12-20 2019-12-20 01:00:00\n",
       "1  2019-12-20 2019-12-20 01:00:00\n",
       "2  2019-12-20 2019-12-20 01:00:00\n",
       "3  2019-12-20 2019-12-20 01:00:00\n",
       "4  2019-12-20 2019-12-20 01:00:00"
      ]
     },
     "execution_count": 18,
     "metadata": {},
     "output_type": "execute_result"
    }
   ],
   "source": [
    "air_traffic_noLockdown[['Date','Date Air_traffic']].head()"
   ]
  },
  {
   "cell_type": "code",
   "execution_count": 19,
   "metadata": {},
   "outputs": [],
   "source": [
    "air_copy = air_traffic_noLockdown.copy()"
   ]
  },
  {
   "cell_type": "code",
   "execution_count": 20,
   "metadata": {},
   "outputs": [
    {
     "name": "stderr",
     "output_type": "stream",
     "text": [
      "<ipython-input-20-97322caae21a>:1: SettingWithCopyWarning: \n",
      "A value is trying to be set on a copy of a slice from a DataFrame.\n",
      "Try using .loc[row_indexer,col_indexer] = value instead\n",
      "\n",
      "See the caveats in the documentation: https://pandas.pydata.org/pandas-docs/stable/user_guide/indexing.html#returning-a-view-versus-a-copy\n",
      "  air_traffic_noLockdown['Date'] = pd.to_datetime(air_traffic_noLockdown['Date'], infer_datetime_format=True)\n"
     ]
    },
    {
     "data": {
      "text/plain": [
       "28978   2020-03-14\n",
       "28979   2020-03-14\n",
       "28980   2020-03-14\n",
       "28981   2020-03-15\n",
       "28982   2020-03-15\n",
       "Name: Date, dtype: datetime64[ns]"
      ]
     },
     "execution_count": 20,
     "metadata": {},
     "output_type": "execute_result"
    }
   ],
   "source": [
    "air_traffic_noLockdown['Date'] = pd.to_datetime(air_traffic_noLockdown['Date'], infer_datetime_format=True)\n",
    "air_traffic_noLockdown['Date'].tail()"
   ]
  },
  {
   "cell_type": "code",
   "execution_count": 21,
   "metadata": {},
   "outputs": [
    {
     "data": {
      "text/html": [
       "<div>\n",
       "<style scoped>\n",
       "    .dataframe tbody tr th:only-of-type {\n",
       "        vertical-align: middle;\n",
       "    }\n",
       "\n",
       "    .dataframe tbody tr th {\n",
       "        vertical-align: top;\n",
       "    }\n",
       "\n",
       "    .dataframe thead th {\n",
       "        text-align: right;\n",
       "    }\n",
       "</style>\n",
       "<table border=\"1\" class=\"dataframe\">\n",
       "  <thead>\n",
       "    <tr style=\"text-align: right;\">\n",
       "      <th></th>\n",
       "      <th>Date</th>\n",
       "      <th>Country/Region</th>\n",
       "      <th>Confirmed</th>\n",
       "      <th>Recovered</th>\n",
       "      <th>Deaths</th>\n",
       "    </tr>\n",
       "  </thead>\n",
       "  <tbody>\n",
       "    <tr>\n",
       "      <th>0</th>\n",
       "      <td>2020-01-22</td>\n",
       "      <td>Afghanistan</td>\n",
       "      <td>0</td>\n",
       "      <td>0.0</td>\n",
       "      <td>0</td>\n",
       "    </tr>\n",
       "    <tr>\n",
       "      <th>1</th>\n",
       "      <td>2020-01-23</td>\n",
       "      <td>Afghanistan</td>\n",
       "      <td>0</td>\n",
       "      <td>0.0</td>\n",
       "      <td>0</td>\n",
       "    </tr>\n",
       "    <tr>\n",
       "      <th>2</th>\n",
       "      <td>2020-01-24</td>\n",
       "      <td>Afghanistan</td>\n",
       "      <td>0</td>\n",
       "      <td>0.0</td>\n",
       "      <td>0</td>\n",
       "    </tr>\n",
       "    <tr>\n",
       "      <th>3</th>\n",
       "      <td>2020-01-25</td>\n",
       "      <td>Afghanistan</td>\n",
       "      <td>0</td>\n",
       "      <td>0.0</td>\n",
       "      <td>0</td>\n",
       "    </tr>\n",
       "    <tr>\n",
       "      <th>4</th>\n",
       "      <td>2020-01-26</td>\n",
       "      <td>Afghanistan</td>\n",
       "      <td>0</td>\n",
       "      <td>0.0</td>\n",
       "      <td>0</td>\n",
       "    </tr>\n",
       "  </tbody>\n",
       "</table>\n",
       "</div>"
      ],
      "text/plain": [
       "         Date Country/Region  Confirmed  Recovered  Deaths\n",
       "0  2020-01-22    Afghanistan          0        0.0       0\n",
       "1  2020-01-23    Afghanistan          0        0.0       0\n",
       "2  2020-01-24    Afghanistan          0        0.0       0\n",
       "3  2020-01-25    Afghanistan          0        0.0       0\n",
       "4  2020-01-26    Afghanistan          0        0.0       0"
      ]
     },
     "execution_count": 21,
     "metadata": {},
     "output_type": "execute_result"
    }
   ],
   "source": [
    "# let's drop province\n",
    "covid_19_noLockdown = covid_19_noLockdown.drop(['Province/State'], inplace = False, axis=1)\n",
    "covid_19_noLockdown.head()"
   ]
  },
  {
   "cell_type": "code",
   "execution_count": 22,
   "metadata": {},
   "outputs": [
    {
     "data": {
      "text/html": [
       "<div>\n",
       "<style scoped>\n",
       "    .dataframe tbody tr th:only-of-type {\n",
       "        vertical-align: middle;\n",
       "    }\n",
       "\n",
       "    .dataframe tbody tr th {\n",
       "        vertical-align: top;\n",
       "    }\n",
       "\n",
       "    .dataframe thead th {\n",
       "        text-align: right;\n",
       "    }\n",
       "</style>\n",
       "<table border=\"1\" class=\"dataframe\">\n",
       "  <thead>\n",
       "    <tr style=\"text-align: right;\">\n",
       "      <th></th>\n",
       "      <th>Date</th>\n",
       "      <th>Country/Region</th>\n",
       "      <th>Confirmed</th>\n",
       "      <th>Recovered</th>\n",
       "      <th>Deaths</th>\n",
       "    </tr>\n",
       "  </thead>\n",
       "  <tbody>\n",
       "    <tr>\n",
       "      <th>181399</th>\n",
       "      <td>2020-03-11</td>\n",
       "      <td>Zimbabwe</td>\n",
       "      <td>0</td>\n",
       "      <td>0.0</td>\n",
       "      <td>0</td>\n",
       "    </tr>\n",
       "    <tr>\n",
       "      <th>181400</th>\n",
       "      <td>2020-03-12</td>\n",
       "      <td>Zimbabwe</td>\n",
       "      <td>0</td>\n",
       "      <td>0.0</td>\n",
       "      <td>0</td>\n",
       "    </tr>\n",
       "    <tr>\n",
       "      <th>181401</th>\n",
       "      <td>2020-03-13</td>\n",
       "      <td>Zimbabwe</td>\n",
       "      <td>0</td>\n",
       "      <td>0.0</td>\n",
       "      <td>0</td>\n",
       "    </tr>\n",
       "    <tr>\n",
       "      <th>181402</th>\n",
       "      <td>2020-03-14</td>\n",
       "      <td>Zimbabwe</td>\n",
       "      <td>0</td>\n",
       "      <td>0.0</td>\n",
       "      <td>0</td>\n",
       "    </tr>\n",
       "    <tr>\n",
       "      <th>181403</th>\n",
       "      <td>2020-03-15</td>\n",
       "      <td>Zimbabwe</td>\n",
       "      <td>0</td>\n",
       "      <td>0.0</td>\n",
       "      <td>0</td>\n",
       "    </tr>\n",
       "  </tbody>\n",
       "</table>\n",
       "</div>"
      ],
      "text/plain": [
       "              Date Country/Region  Confirmed  Recovered  Deaths\n",
       "181399  2020-03-11       Zimbabwe          0        0.0       0\n",
       "181400  2020-03-12       Zimbabwe          0        0.0       0\n",
       "181401  2020-03-13       Zimbabwe          0        0.0       0\n",
       "181402  2020-03-14       Zimbabwe          0        0.0       0\n",
       "181403  2020-03-15       Zimbabwe          0        0.0       0"
      ]
     },
     "execution_count": 22,
     "metadata": {},
     "output_type": "execute_result"
    }
   ],
   "source": [
    "covid_19_noLockdown.tail()"
   ]
  },
  {
   "cell_type": "code",
   "execution_count": 23,
   "metadata": {},
   "outputs": [
    {
     "data": {
      "text/plain": [
       "(15120, 5)"
      ]
     },
     "execution_count": 23,
     "metadata": {},
     "output_type": "execute_result"
    }
   ],
   "source": [
    "covid_19_noLockdown.shape"
   ]
  },
  {
   "cell_type": "code",
   "execution_count": 27,
   "metadata": {},
   "outputs": [
    {
     "data": {
      "text/html": [
       "<div>\n",
       "<style scoped>\n",
       "    .dataframe tbody tr th:only-of-type {\n",
       "        vertical-align: middle;\n",
       "    }\n",
       "\n",
       "    .dataframe tbody tr th {\n",
       "        vertical-align: top;\n",
       "    }\n",
       "\n",
       "    .dataframe thead th {\n",
       "        text-align: right;\n",
       "    }\n",
       "</style>\n",
       "<table border=\"1\" class=\"dataframe\">\n",
       "  <thead>\n",
       "    <tr style=\"text-align: right;\">\n",
       "      <th></th>\n",
       "      <th>Date</th>\n",
       "      <th>Country/Region</th>\n",
       "      <th>Confirmed</th>\n",
       "      <th>Recovered</th>\n",
       "      <th>Deaths</th>\n",
       "    </tr>\n",
       "  </thead>\n",
       "  <tbody>\n",
       "    <tr>\n",
       "      <th>44228</th>\n",
       "      <td>2020-02-19</td>\n",
       "      <td>China</td>\n",
       "      <td>470</td>\n",
       "      <td>120.0</td>\n",
       "      <td>12</td>\n",
       "    </tr>\n",
       "    <tr>\n",
       "      <th>44229</th>\n",
       "      <td>2020-02-20</td>\n",
       "      <td>China</td>\n",
       "      <td>476</td>\n",
       "      <td>136.0</td>\n",
       "      <td>12</td>\n",
       "    </tr>\n",
       "    <tr>\n",
       "      <th>44230</th>\n",
       "      <td>2020-02-21</td>\n",
       "      <td>China</td>\n",
       "      <td>479</td>\n",
       "      <td>175.0</td>\n",
       "      <td>12</td>\n",
       "    </tr>\n",
       "    <tr>\n",
       "      <th>44231</th>\n",
       "      <td>2020-02-22</td>\n",
       "      <td>China</td>\n",
       "      <td>479</td>\n",
       "      <td>204.0</td>\n",
       "      <td>12</td>\n",
       "    </tr>\n",
       "    <tr>\n",
       "      <th>44232</th>\n",
       "      <td>2020-02-23</td>\n",
       "      <td>China</td>\n",
       "      <td>480</td>\n",
       "      <td>222.0</td>\n",
       "      <td>12</td>\n",
       "    </tr>\n",
       "    <tr>\n",
       "      <th>...</th>\n",
       "      <td>...</td>\n",
       "      <td>...</td>\n",
       "      <td>...</td>\n",
       "      <td>...</td>\n",
       "      <td>...</td>\n",
       "    </tr>\n",
       "    <tr>\n",
       "      <th>165801</th>\n",
       "      <td>2020-03-13</td>\n",
       "      <td>US</td>\n",
       "      <td>2219</td>\n",
       "      <td>12.0</td>\n",
       "      <td>51</td>\n",
       "    </tr>\n",
       "    <tr>\n",
       "      <th>165802</th>\n",
       "      <td>2020-03-14</td>\n",
       "      <td>US</td>\n",
       "      <td>2978</td>\n",
       "      <td>12.0</td>\n",
       "      <td>58</td>\n",
       "    </tr>\n",
       "    <tr>\n",
       "      <th>165803</th>\n",
       "      <td>2020-03-15</td>\n",
       "      <td>US</td>\n",
       "      <td>3212</td>\n",
       "      <td>12.0</td>\n",
       "      <td>70</td>\n",
       "    </tr>\n",
       "    <tr>\n",
       "      <th>175552</th>\n",
       "      <td>2020-03-14</td>\n",
       "      <td>United Kingdom</td>\n",
       "      <td>2630</td>\n",
       "      <td>18.0</td>\n",
       "      <td>29</td>\n",
       "    </tr>\n",
       "    <tr>\n",
       "      <th>175553</th>\n",
       "      <td>2020-03-15</td>\n",
       "      <td>United Kingdom</td>\n",
       "      <td>3072</td>\n",
       "      <td>18.0</td>\n",
       "      <td>43</td>\n",
       "    </tr>\n",
       "  </tbody>\n",
       "</table>\n",
       "<p>209 rows × 5 columns</p>\n",
       "</div>"
      ],
      "text/plain": [
       "              Date  Country/Region  Confirmed  Recovered  Deaths\n",
       "44228   2020-02-19           China        470      120.0      12\n",
       "44229   2020-02-20           China        476      136.0      12\n",
       "44230   2020-02-21           China        479      175.0      12\n",
       "44231   2020-02-22           China        479      204.0      12\n",
       "44232   2020-02-23           China        480      222.0      12\n",
       "...            ...             ...        ...        ...     ...\n",
       "165801  2020-03-13              US       2219       12.0      51\n",
       "165802  2020-03-14              US       2978       12.0      58\n",
       "165803  2020-03-15              US       3212       12.0      70\n",
       "175552  2020-03-14  United Kingdom       2630       18.0      29\n",
       "175553  2020-03-15  United Kingdom       3072       18.0      43\n",
       "\n",
       "[209 rows x 5 columns]"
      ]
     },
     "execution_count": 27,
     "metadata": {},
     "output_type": "execute_result"
    }
   ],
   "source": [
    "covid_19_noLockdown[covid_19_noLockdown[\"Deaths\"] >= 12]"
   ]
  },
  {
   "cell_type": "code",
   "execution_count": 28,
   "metadata": {},
   "outputs": [
    {
     "data": {
      "text/plain": [
       "Date               object\n",
       "Country/Region     object\n",
       "Confirmed           int64\n",
       "Recovered         float64\n",
       "Deaths              int64\n",
       "dtype: object"
      ]
     },
     "execution_count": 28,
     "metadata": {},
     "output_type": "execute_result"
    }
   ],
   "source": [
    "covid_19_noLockdown.dtypes"
   ]
  },
  {
   "cell_type": "code",
   "execution_count": 32,
   "metadata": {},
   "outputs": [
    {
     "data": {
      "text/plain": [
       "0    2020-01-22\n",
       "Name: Date, dtype: object"
      ]
     },
     "execution_count": 32,
     "metadata": {},
     "output_type": "execute_result"
    }
   ],
   "source": [
    "covid_19_noLockdown['Date'].head(1)"
   ]
  },
  {
   "cell_type": "code",
   "execution_count": 29,
   "metadata": {},
   "outputs": [
    {
     "data": {
      "text/plain": [
       "0   2019-12-20\n",
       "Name: Date, dtype: datetime64[ns]"
      ]
     },
     "execution_count": 29,
     "metadata": {},
     "output_type": "execute_result"
    }
   ],
   "source": [
    "air_traffic_noLockdown['Date'].head(1)"
   ]
  },
  {
   "cell_type": "code",
   "execution_count": 30,
   "metadata": {},
   "outputs": [
    {
     "data": {
      "text/plain": [
       "181403   2020-03-15\n",
       "Name: Date, dtype: datetime64[ns]"
      ]
     },
     "execution_count": 30,
     "metadata": {},
     "output_type": "execute_result"
    }
   ],
   "source": [
    "covid_19_noLockdown['Date'] = pd.to_datetime(covid_19_noLockdown['Date'], infer_datetime_format=True)\n",
    "covid_19_noLockdown['Date'].tail(1)"
   ]
  },
  {
   "cell_type": "code",
   "execution_count": 31,
   "metadata": {},
   "outputs": [],
   "source": [
    "covid_19 = covid_19_noLockdown.copy()"
   ]
  },
  {
   "cell_type": "code",
   "execution_count": 32,
   "metadata": {},
   "outputs": [
    {
     "data": {
      "text/plain": [
       "Origin                      object\n",
       "Country/Region              object\n",
       "Firstseen                   object\n",
       "Lastseen                    object\n",
       "Date Air_traffic    datetime64[ns]\n",
       "Date                datetime64[ns]\n",
       "dtype: object"
      ]
     },
     "execution_count": 32,
     "metadata": {},
     "output_type": "execute_result"
    }
   ],
   "source": [
    "air_traffic_noLockdown.dtypes #datetime64[ns]"
   ]
  },
  {
   "cell_type": "code",
   "execution_count": 33,
   "metadata": {},
   "outputs": [
    {
     "data": {
      "text/html": [
       "<div>\n",
       "<style scoped>\n",
       "    .dataframe tbody tr th:only-of-type {\n",
       "        vertical-align: middle;\n",
       "    }\n",
       "\n",
       "    .dataframe tbody tr th {\n",
       "        vertical-align: top;\n",
       "    }\n",
       "\n",
       "    .dataframe thead th {\n",
       "        text-align: right;\n",
       "    }\n",
       "</style>\n",
       "<table border=\"1\" class=\"dataframe\">\n",
       "  <thead>\n",
       "    <tr style=\"text-align: right;\">\n",
       "      <th></th>\n",
       "      <th>Origin</th>\n",
       "      <th>Country/Region</th>\n",
       "      <th>Firstseen</th>\n",
       "      <th>Lastseen</th>\n",
       "      <th>Date Air_traffic</th>\n",
       "      <th>Date</th>\n",
       "      <th>Confirmed</th>\n",
       "      <th>Recovered</th>\n",
       "      <th>Deaths</th>\n",
       "    </tr>\n",
       "  </thead>\n",
       "  <tbody>\n",
       "    <tr>\n",
       "      <th>0</th>\n",
       "      <td>China</td>\n",
       "      <td>Taiwan</td>\n",
       "      <td>12/20/2019 0:43</td>\n",
       "      <td>12/20/2019 1:50</td>\n",
       "      <td>2019-12-20 01:00:00</td>\n",
       "      <td>2019-12-20</td>\n",
       "      <td>NaN</td>\n",
       "      <td>NaN</td>\n",
       "      <td>NaN</td>\n",
       "    </tr>\n",
       "    <tr>\n",
       "      <th>1</th>\n",
       "      <td>China</td>\n",
       "      <td>Taiwan</td>\n",
       "      <td>12/20/2019 1:02</td>\n",
       "      <td>12/20/2019 2:29</td>\n",
       "      <td>2019-12-20 01:00:00</td>\n",
       "      <td>2019-12-20</td>\n",
       "      <td>NaN</td>\n",
       "      <td>NaN</td>\n",
       "      <td>NaN</td>\n",
       "    </tr>\n",
       "    <tr>\n",
       "      <th>2</th>\n",
       "      <td>China</td>\n",
       "      <td>Taiwan</td>\n",
       "      <td>12/20/2019 1:26</td>\n",
       "      <td>12/20/2019 2:33</td>\n",
       "      <td>2019-12-20 01:00:00</td>\n",
       "      <td>2019-12-20</td>\n",
       "      <td>NaN</td>\n",
       "      <td>NaN</td>\n",
       "      <td>NaN</td>\n",
       "    </tr>\n",
       "    <tr>\n",
       "      <th>3</th>\n",
       "      <td>China</td>\n",
       "      <td>Taiwan</td>\n",
       "      <td>12/20/2019 1:46</td>\n",
       "      <td>12/20/2019 2:55</td>\n",
       "      <td>2019-12-20 01:00:00</td>\n",
       "      <td>2019-12-20</td>\n",
       "      <td>NaN</td>\n",
       "      <td>NaN</td>\n",
       "      <td>NaN</td>\n",
       "    </tr>\n",
       "    <tr>\n",
       "      <th>4</th>\n",
       "      <td>China</td>\n",
       "      <td>Taiwan</td>\n",
       "      <td>12/20/2019 2:05</td>\n",
       "      <td>12/20/2019 3:11</td>\n",
       "      <td>2019-12-20 01:00:00</td>\n",
       "      <td>2019-12-20</td>\n",
       "      <td>NaN</td>\n",
       "      <td>NaN</td>\n",
       "      <td>NaN</td>\n",
       "    </tr>\n",
       "  </tbody>\n",
       "</table>\n",
       "</div>"
      ],
      "text/plain": [
       "  Origin Country/Region        Firstseen         Lastseen    Date Air_traffic  \\\n",
       "0  China         Taiwan  12/20/2019 0:43  12/20/2019 1:50 2019-12-20 01:00:00   \n",
       "1  China         Taiwan  12/20/2019 1:02  12/20/2019 2:29 2019-12-20 01:00:00   \n",
       "2  China         Taiwan  12/20/2019 1:26  12/20/2019 2:33 2019-12-20 01:00:00   \n",
       "3  China         Taiwan  12/20/2019 1:46  12/20/2019 2:55 2019-12-20 01:00:00   \n",
       "4  China         Taiwan  12/20/2019 2:05  12/20/2019 3:11 2019-12-20 01:00:00   \n",
       "\n",
       "        Date  Confirmed  Recovered  Deaths  \n",
       "0 2019-12-20        NaN        NaN     NaN  \n",
       "1 2019-12-20        NaN        NaN     NaN  \n",
       "2 2019-12-20        NaN        NaN     NaN  \n",
       "3 2019-12-20        NaN        NaN     NaN  \n",
       "4 2019-12-20        NaN        NaN     NaN  "
      ]
     },
     "execution_count": 33,
     "metadata": {},
     "output_type": "execute_result"
    }
   ],
   "source": [
    "#merged_df = left_df.merge(right_df, \n",
    "\n",
    "covid_alpha = air_traffic_noLockdown.merge(covid_19_noLockdown, how = 'left', left_on=['Country/Region','Date'], right_on=['Country/Region','Date'])\n",
    "covid_alpha.head()"
   ]
  },
  {
   "cell_type": "code",
   "execution_count": 34,
   "metadata": {},
   "outputs": [
    {
     "data": {
      "text/html": [
       "<div>\n",
       "<style scoped>\n",
       "    .dataframe tbody tr th:only-of-type {\n",
       "        vertical-align: middle;\n",
       "    }\n",
       "\n",
       "    .dataframe tbody tr th {\n",
       "        vertical-align: top;\n",
       "    }\n",
       "\n",
       "    .dataframe thead th {\n",
       "        text-align: right;\n",
       "    }\n",
       "</style>\n",
       "<table border=\"1\" class=\"dataframe\">\n",
       "  <thead>\n",
       "    <tr style=\"text-align: right;\">\n",
       "      <th></th>\n",
       "      <th>Origin</th>\n",
       "      <th>Country/Region</th>\n",
       "      <th>Firstseen</th>\n",
       "      <th>Lastseen</th>\n",
       "      <th>Date Air_traffic</th>\n",
       "      <th>Date</th>\n",
       "      <th>Confirmed</th>\n",
       "      <th>Recovered</th>\n",
       "      <th>Deaths</th>\n",
       "    </tr>\n",
       "  </thead>\n",
       "  <tbody>\n",
       "    <tr>\n",
       "      <th>38815</th>\n",
       "      <td>China</td>\n",
       "      <td>Austria</td>\n",
       "      <td>3/14/2020 2:33</td>\n",
       "      <td>3/14/2020 15:57</td>\n",
       "      <td>2020-03-14 01:00:00</td>\n",
       "      <td>2020-03-14</td>\n",
       "      <td>655.0</td>\n",
       "      <td>6.0</td>\n",
       "      <td>1.0</td>\n",
       "    </tr>\n",
       "    <tr>\n",
       "      <th>38816</th>\n",
       "      <td>China</td>\n",
       "      <td>Turkey</td>\n",
       "      <td>3/14/2020 11:36</td>\n",
       "      <td>3/14/2020 22:39</td>\n",
       "      <td>2020-03-14 01:00:00</td>\n",
       "      <td>2020-03-14</td>\n",
       "      <td>5.0</td>\n",
       "      <td>0.0</td>\n",
       "      <td>0.0</td>\n",
       "    </tr>\n",
       "    <tr>\n",
       "      <th>38817</th>\n",
       "      <td>China</td>\n",
       "      <td>Sri Lanka</td>\n",
       "      <td>3/14/2020 13:22</td>\n",
       "      <td>3/14/2020 18:38</td>\n",
       "      <td>2020-03-14 01:00:00</td>\n",
       "      <td>2020-03-14</td>\n",
       "      <td>10.0</td>\n",
       "      <td>1.0</td>\n",
       "      <td>0.0</td>\n",
       "    </tr>\n",
       "    <tr>\n",
       "      <th>38818</th>\n",
       "      <td>China</td>\n",
       "      <td>Bahrain</td>\n",
       "      <td>3/14/2020 22:00</td>\n",
       "      <td>3/15/2020 6:49</td>\n",
       "      <td>2020-03-15 01:00:00</td>\n",
       "      <td>2020-03-15</td>\n",
       "      <td>214.0</td>\n",
       "      <td>60.0</td>\n",
       "      <td>0.0</td>\n",
       "    </tr>\n",
       "    <tr>\n",
       "      <th>38819</th>\n",
       "      <td>China</td>\n",
       "      <td>Bahrain</td>\n",
       "      <td>3/14/2020 23:19</td>\n",
       "      <td>3/15/2020 8:02</td>\n",
       "      <td>2020-03-15 01:00:00</td>\n",
       "      <td>2020-03-15</td>\n",
       "      <td>214.0</td>\n",
       "      <td>60.0</td>\n",
       "      <td>0.0</td>\n",
       "    </tr>\n",
       "  </tbody>\n",
       "</table>\n",
       "</div>"
      ],
      "text/plain": [
       "      Origin Country/Region        Firstseen         Lastseen  \\\n",
       "38815  China        Austria   3/14/2020 2:33  3/14/2020 15:57   \n",
       "38816  China         Turkey  3/14/2020 11:36  3/14/2020 22:39   \n",
       "38817  China      Sri Lanka  3/14/2020 13:22  3/14/2020 18:38   \n",
       "38818  China        Bahrain  3/14/2020 22:00   3/15/2020 6:49   \n",
       "38819  China        Bahrain  3/14/2020 23:19   3/15/2020 8:02   \n",
       "\n",
       "         Date Air_traffic       Date  Confirmed  Recovered  Deaths  \n",
       "38815 2020-03-14 01:00:00 2020-03-14      655.0        6.0     1.0  \n",
       "38816 2020-03-14 01:00:00 2020-03-14        5.0        0.0     0.0  \n",
       "38817 2020-03-14 01:00:00 2020-03-14       10.0        1.0     0.0  \n",
       "38818 2020-03-15 01:00:00 2020-03-15      214.0       60.0     0.0  \n",
       "38819 2020-03-15 01:00:00 2020-03-15      214.0       60.0     0.0  "
      ]
     },
     "execution_count": 34,
     "metadata": {},
     "output_type": "execute_result"
    }
   ],
   "source": [
    "covid_alpha.tail()"
   ]
  },
  {
   "cell_type": "code",
   "execution_count": 35,
   "metadata": {},
   "outputs": [
    {
     "data": {
      "text/plain": [
       "(38820, 9)"
      ]
     },
     "execution_count": 35,
     "metadata": {},
     "output_type": "execute_result"
    }
   ],
   "source": [
    "covid_alpha.shape # 38K"
   ]
  },
  {
   "cell_type": "code",
   "execution_count": 36,
   "metadata": {},
   "outputs": [
    {
     "data": {
      "text/plain": [
       "Origin                  0\n",
       "Country/Region       1887\n",
       "Firstseen               0\n",
       "Lastseen                0\n",
       "Date Air_traffic        0\n",
       "Date                    0\n",
       "Confirmed           18344\n",
       "Recovered           22200\n",
       "Deaths              18344\n",
       "dtype: int64"
      ]
     },
     "execution_count": 36,
     "metadata": {},
     "output_type": "execute_result"
    }
   ],
   "source": [
    "covid_alpha.isnull().sum()"
   ]
  },
  {
   "cell_type": "code",
   "execution_count": 37,
   "metadata": {},
   "outputs": [],
   "source": [
    "covid_alpha.drop([\"Date Air_traffic\"], axis = 1, inplace = True )\n"
   ]
  },
  {
   "cell_type": "code",
   "execution_count": 38,
   "metadata": {},
   "outputs": [
    {
     "data": {
      "text/html": [
       "<div>\n",
       "<style scoped>\n",
       "    .dataframe tbody tr th:only-of-type {\n",
       "        vertical-align: middle;\n",
       "    }\n",
       "\n",
       "    .dataframe tbody tr th {\n",
       "        vertical-align: top;\n",
       "    }\n",
       "\n",
       "    .dataframe thead th {\n",
       "        text-align: right;\n",
       "    }\n",
       "</style>\n",
       "<table border=\"1\" class=\"dataframe\">\n",
       "  <thead>\n",
       "    <tr style=\"text-align: right;\">\n",
       "      <th></th>\n",
       "      <th>Origin</th>\n",
       "      <th>Country/Region</th>\n",
       "      <th>Firstseen</th>\n",
       "      <th>Lastseen</th>\n",
       "      <th>Date</th>\n",
       "      <th>Confirmed</th>\n",
       "      <th>Recovered</th>\n",
       "      <th>Deaths</th>\n",
       "    </tr>\n",
       "  </thead>\n",
       "  <tbody>\n",
       "    <tr>\n",
       "      <th>0</th>\n",
       "      <td>China</td>\n",
       "      <td>Taiwan</td>\n",
       "      <td>12/20/2019 0:43</td>\n",
       "      <td>12/20/2019 1:50</td>\n",
       "      <td>2019-12-20</td>\n",
       "      <td>NaN</td>\n",
       "      <td>NaN</td>\n",
       "      <td>NaN</td>\n",
       "    </tr>\n",
       "    <tr>\n",
       "      <th>1</th>\n",
       "      <td>China</td>\n",
       "      <td>Taiwan</td>\n",
       "      <td>12/20/2019 1:02</td>\n",
       "      <td>12/20/2019 2:29</td>\n",
       "      <td>2019-12-20</td>\n",
       "      <td>NaN</td>\n",
       "      <td>NaN</td>\n",
       "      <td>NaN</td>\n",
       "    </tr>\n",
       "    <tr>\n",
       "      <th>2</th>\n",
       "      <td>China</td>\n",
       "      <td>Taiwan</td>\n",
       "      <td>12/20/2019 1:26</td>\n",
       "      <td>12/20/2019 2:33</td>\n",
       "      <td>2019-12-20</td>\n",
       "      <td>NaN</td>\n",
       "      <td>NaN</td>\n",
       "      <td>NaN</td>\n",
       "    </tr>\n",
       "    <tr>\n",
       "      <th>3</th>\n",
       "      <td>China</td>\n",
       "      <td>Taiwan</td>\n",
       "      <td>12/20/2019 1:46</td>\n",
       "      <td>12/20/2019 2:55</td>\n",
       "      <td>2019-12-20</td>\n",
       "      <td>NaN</td>\n",
       "      <td>NaN</td>\n",
       "      <td>NaN</td>\n",
       "    </tr>\n",
       "    <tr>\n",
       "      <th>4</th>\n",
       "      <td>China</td>\n",
       "      <td>Taiwan</td>\n",
       "      <td>12/20/2019 2:05</td>\n",
       "      <td>12/20/2019 3:11</td>\n",
       "      <td>2019-12-20</td>\n",
       "      <td>NaN</td>\n",
       "      <td>NaN</td>\n",
       "      <td>NaN</td>\n",
       "    </tr>\n",
       "    <tr>\n",
       "      <th>...</th>\n",
       "      <td>...</td>\n",
       "      <td>...</td>\n",
       "      <td>...</td>\n",
       "      <td>...</td>\n",
       "      <td>...</td>\n",
       "      <td>...</td>\n",
       "      <td>...</td>\n",
       "      <td>...</td>\n",
       "    </tr>\n",
       "    <tr>\n",
       "      <th>38815</th>\n",
       "      <td>China</td>\n",
       "      <td>Austria</td>\n",
       "      <td>3/14/2020 2:33</td>\n",
       "      <td>3/14/2020 15:57</td>\n",
       "      <td>2020-03-14</td>\n",
       "      <td>655.0</td>\n",
       "      <td>6.0</td>\n",
       "      <td>1.0</td>\n",
       "    </tr>\n",
       "    <tr>\n",
       "      <th>38816</th>\n",
       "      <td>China</td>\n",
       "      <td>Turkey</td>\n",
       "      <td>3/14/2020 11:36</td>\n",
       "      <td>3/14/2020 22:39</td>\n",
       "      <td>2020-03-14</td>\n",
       "      <td>5.0</td>\n",
       "      <td>0.0</td>\n",
       "      <td>0.0</td>\n",
       "    </tr>\n",
       "    <tr>\n",
       "      <th>38817</th>\n",
       "      <td>China</td>\n",
       "      <td>Sri Lanka</td>\n",
       "      <td>3/14/2020 13:22</td>\n",
       "      <td>3/14/2020 18:38</td>\n",
       "      <td>2020-03-14</td>\n",
       "      <td>10.0</td>\n",
       "      <td>1.0</td>\n",
       "      <td>0.0</td>\n",
       "    </tr>\n",
       "    <tr>\n",
       "      <th>38818</th>\n",
       "      <td>China</td>\n",
       "      <td>Bahrain</td>\n",
       "      <td>3/14/2020 22:00</td>\n",
       "      <td>3/15/2020 6:49</td>\n",
       "      <td>2020-03-15</td>\n",
       "      <td>214.0</td>\n",
       "      <td>60.0</td>\n",
       "      <td>0.0</td>\n",
       "    </tr>\n",
       "    <tr>\n",
       "      <th>38819</th>\n",
       "      <td>China</td>\n",
       "      <td>Bahrain</td>\n",
       "      <td>3/14/2020 23:19</td>\n",
       "      <td>3/15/2020 8:02</td>\n",
       "      <td>2020-03-15</td>\n",
       "      <td>214.0</td>\n",
       "      <td>60.0</td>\n",
       "      <td>0.0</td>\n",
       "    </tr>\n",
       "  </tbody>\n",
       "</table>\n",
       "<p>38820 rows × 8 columns</p>\n",
       "</div>"
      ],
      "text/plain": [
       "      Origin Country/Region        Firstseen         Lastseen       Date  \\\n",
       "0      China         Taiwan  12/20/2019 0:43  12/20/2019 1:50 2019-12-20   \n",
       "1      China         Taiwan  12/20/2019 1:02  12/20/2019 2:29 2019-12-20   \n",
       "2      China         Taiwan  12/20/2019 1:26  12/20/2019 2:33 2019-12-20   \n",
       "3      China         Taiwan  12/20/2019 1:46  12/20/2019 2:55 2019-12-20   \n",
       "4      China         Taiwan  12/20/2019 2:05  12/20/2019 3:11 2019-12-20   \n",
       "...      ...            ...              ...              ...        ...   \n",
       "38815  China        Austria   3/14/2020 2:33  3/14/2020 15:57 2020-03-14   \n",
       "38816  China         Turkey  3/14/2020 11:36  3/14/2020 22:39 2020-03-14   \n",
       "38817  China      Sri Lanka  3/14/2020 13:22  3/14/2020 18:38 2020-03-14   \n",
       "38818  China        Bahrain  3/14/2020 22:00   3/15/2020 6:49 2020-03-15   \n",
       "38819  China        Bahrain  3/14/2020 23:19   3/15/2020 8:02 2020-03-15   \n",
       "\n",
       "       Confirmed  Recovered  Deaths  \n",
       "0            NaN        NaN     NaN  \n",
       "1            NaN        NaN     NaN  \n",
       "2            NaN        NaN     NaN  \n",
       "3            NaN        NaN     NaN  \n",
       "4            NaN        NaN     NaN  \n",
       "...          ...        ...     ...  \n",
       "38815      655.0        6.0     1.0  \n",
       "38816        5.0        0.0     0.0  \n",
       "38817       10.0        1.0     0.0  \n",
       "38818      214.0       60.0     0.0  \n",
       "38819      214.0       60.0     0.0  \n",
       "\n",
       "[38820 rows x 8 columns]"
      ]
     },
     "execution_count": 38,
     "metadata": {},
     "output_type": "execute_result"
    }
   ],
   "source": [
    "covid_alpha # replace NAN by 0 although prophet algo works well with NAN"
   ]
  },
  {
   "cell_type": "code",
   "execution_count": 39,
   "metadata": {},
   "outputs": [],
   "source": [
    "#Prophet Algo"
   ]
  },
  {
   "cell_type": "code",
   "execution_count": 40,
   "metadata": {},
   "outputs": [],
   "source": [
    "%matplotlib inline\n"
   ]
  },
  {
   "cell_type": "code",
   "execution_count": 42,
   "metadata": {},
   "outputs": [
    {
     "name": "stdout",
     "output_type": "stream",
     "text": [
      "^C\n",
      "\n",
      "Note: you may need to restart the kernel to use updated packages.\n"
     ]
    }
   ],
   "source": [
    "conda install -c conda-forge prophet"
   ]
  },
  {
   "cell_type": "code",
   "execution_count": 44,
   "metadata": {},
   "outputs": [],
   "source": [
    "from fbprophet import Prophet"
   ]
  },
  {
   "cell_type": "code",
   "execution_count": 46,
   "metadata": {},
   "outputs": [],
   "source": [
    "from fbprophet.plot import add_changepoints_to_plot"
   ]
  },
  {
   "cell_type": "code",
   "execution_count": 4,
   "metadata": {},
   "outputs": [
    {
     "name": "stdout",
     "output_type": "stream",
     "text": [
      "\u001b[33mWARNING: Keyring is skipped due to an exception: Failed to unlock the collection!\u001b[0m\n",
      "Collecting plotly\n",
      "  Downloading plotly-5.4.0-py2.py3-none-any.whl (25.3 MB)\n",
      "\u001b[K     |████████████████████████████████| 25.3 MB 4.2 MB/s eta 0:00:01    |▉                               | 665 kB 1.9 MB/s eta 0:00:13     |█████████▌                      | 7.5 MB 3.9 MB/s eta 0:00:05     |███████████████████████▎        | 18.4 MB 3.4 MB/s eta 0:00:03\n",
      "\u001b[?25hRequirement already satisfied: six in /home/jbl/anaconda3/lib/python3.8/site-packages (from plotly) (1.15.0)\n",
      "Collecting tenacity>=6.2.0\n",
      "  Downloading tenacity-8.0.1-py3-none-any.whl (24 kB)\n",
      "Installing collected packages: tenacity, plotly\n",
      "Successfully installed plotly-5.4.0 tenacity-8.0.1\n"
     ]
    }
   ],
   "source": [
    "!pip install --upgrade plotly"
   ]
  },
  {
   "cell_type": "code",
   "execution_count": 47,
   "metadata": {},
   "outputs": [
    {
     "name": "stdout",
     "output_type": "stream",
     "text": [
      "Prophet <class 'fbprophet.forecaster.Prophet'>\n"
     ]
    }
   ],
   "source": [
    "print('Prophet %s' % Prophet) "
   ]
  },
  {
   "cell_type": "code",
   "execution_count": null,
   "metadata": {},
   "outputs": [],
   "source": [
    "# - feed the model upto 15 th March 2020 since it was when flight bans were imposed mostly;\n",
    "#   set the prediction for two months (May and June 2020) while tuning some hyperparameters.\n",
    "\n",
    "# - do mostly visualisation in order to compare these results agaisnt the real figures, to check the accuracy, \n",
    "# - run the model for 10 countries having the most number of flights with China, change months to predict, \n",
    "# - tune hyperparameters differently,\n",
    "# - add more regressors...\n",
    "\n",
    "# - I have used PowerBI to convert/match the airport codes to countries name, it made it a lot more easier and faster. I can send you the list and the procedure if you want.\n"
   ]
  },
  {
   "cell_type": "code",
   "execution_count": 48,
   "metadata": {},
   "outputs": [
    {
     "data": {
      "text/plain": [
       "Index(['Origin', 'Country/Region', 'Firstseen', 'Lastseen', 'Date',\n",
       "       'Confirmed', 'Recovered', 'Deaths'],\n",
       "      dtype='object')"
      ]
     },
     "execution_count": 48,
     "metadata": {},
     "output_type": "execute_result"
    }
   ],
   "source": [
    "covid_alpha.columns"
   ]
  },
  {
   "cell_type": "code",
   "execution_count": 49,
   "metadata": {},
   "outputs": [
    {
     "data": {
      "text/html": [
       "<div>\n",
       "<style scoped>\n",
       "    .dataframe tbody tr th:only-of-type {\n",
       "        vertical-align: middle;\n",
       "    }\n",
       "\n",
       "    .dataframe tbody tr th {\n",
       "        vertical-align: top;\n",
       "    }\n",
       "\n",
       "    .dataframe thead th {\n",
       "        text-align: right;\n",
       "    }\n",
       "</style>\n",
       "<table border=\"1\" class=\"dataframe\">\n",
       "  <thead>\n",
       "    <tr style=\"text-align: right;\">\n",
       "      <th></th>\n",
       "      <th>ds</th>\n",
       "      <th>y</th>\n",
       "    </tr>\n",
       "  </thead>\n",
       "  <tbody>\n",
       "    <tr>\n",
       "      <th>38815</th>\n",
       "      <td>2020-03-14</td>\n",
       "      <td>655.0</td>\n",
       "    </tr>\n",
       "    <tr>\n",
       "      <th>38816</th>\n",
       "      <td>2020-03-14</td>\n",
       "      <td>5.0</td>\n",
       "    </tr>\n",
       "    <tr>\n",
       "      <th>38817</th>\n",
       "      <td>2020-03-14</td>\n",
       "      <td>10.0</td>\n",
       "    </tr>\n",
       "    <tr>\n",
       "      <th>38818</th>\n",
       "      <td>2020-03-15</td>\n",
       "      <td>214.0</td>\n",
       "    </tr>\n",
       "    <tr>\n",
       "      <th>38819</th>\n",
       "      <td>2020-03-15</td>\n",
       "      <td>214.0</td>\n",
       "    </tr>\n",
       "  </tbody>\n",
       "</table>\n",
       "</div>"
      ],
      "text/plain": [
       "              ds      y\n",
       "38815 2020-03-14  655.0\n",
       "38816 2020-03-14    5.0\n",
       "38817 2020-03-14   10.0\n",
       "38818 2020-03-15  214.0\n",
       "38819 2020-03-15  214.0"
      ]
     },
     "execution_count": 49,
     "metadata": {},
     "output_type": "execute_result"
    }
   ],
   "source": [
    "df = pd.DataFrame()\n",
    "df['ds'] = pd.to_datetime(covid_alpha['Date'])\n",
    "df['y'] = covid_alpha['Confirmed']\n",
    "\n",
    "df.tail()"
   ]
  },
  {
   "cell_type": "code",
   "execution_count": 61,
   "metadata": {},
   "outputs": [
    {
     "data": {
      "text/plain": [
       "ds    datetime64[ns]\n",
       "y            float64\n",
       "dtype: object"
      ]
     },
     "execution_count": 61,
     "metadata": {},
     "output_type": "execute_result"
    }
   ],
   "source": [
    "df.dtypes"
   ]
  },
  {
   "cell_type": "code",
   "execution_count": 53,
   "metadata": {},
   "outputs": [],
   "source": [
    "import matplotlib.pyplot as plt"
   ]
  },
  {
   "cell_type": "code",
   "execution_count": 54,
   "metadata": {},
   "outputs": [
    {
     "data": {
      "text/plain": [
       "Text(0.5, 0, 'Date')"
      ]
     },
     "execution_count": 54,
     "metadata": {},
     "output_type": "execute_result"
    },
    {
     "data": {
      "image/png": "[encoded data removed]",
      "text/plain": [
       "<Figure size 864x576 with 1 Axes>"
      ]
     },
     "metadata": {},
     "output_type": "display_data"
    }
   ],
   "source": [
    "plt.style.use('fivethirtyeight')\n",
    "ax = df.set_index('ds').plot(figsize=(12, 8))\n",
    "ax.set_ylabel('Number of cases')#('Monthly Number of Airline Passengers')\n",
    "ax.set_xlabel('Date')\n"
   ]
  },
  {
   "cell_type": "code",
   "execution_count": null,
   "metadata": {},
   "outputs": [],
   "source": [
    "# we need to ask the dataset questions like what are the countries which have more number of flights with China\n",
    "# then to predict that they will have more cases. finally, to verify that claim"
   ]
  },
  {
   "cell_type": "code",
   "execution_count": null,
   "metadata": {},
   "outputs": [],
   "source": [
    "# we have invastigate why there is a gap btw 2020-03-01 and 2020-03-08"
   ]
  },
  {
   "cell_type": "code",
   "execution_count": 55,
   "metadata": {},
   "outputs": [
    {
     "data": {
      "text/html": [
       "<div>\n",
       "<style scoped>\n",
       "    .dataframe tbody tr th:only-of-type {\n",
       "        vertical-align: middle;\n",
       "    }\n",
       "\n",
       "    .dataframe tbody tr th {\n",
       "        vertical-align: top;\n",
       "    }\n",
       "\n",
       "    .dataframe thead th {\n",
       "        text-align: right;\n",
       "    }\n",
       "</style>\n",
       "<table border=\"1\" class=\"dataframe\">\n",
       "  <thead>\n",
       "    <tr style=\"text-align: right;\">\n",
       "      <th></th>\n",
       "      <th>ds</th>\n",
       "    </tr>\n",
       "  </thead>\n",
       "  <tbody>\n",
       "    <tr>\n",
       "      <th>151</th>\n",
       "      <td>2020-05-25</td>\n",
       "    </tr>\n",
       "    <tr>\n",
       "      <th>152</th>\n",
       "      <td>2020-05-26</td>\n",
       "    </tr>\n",
       "    <tr>\n",
       "      <th>153</th>\n",
       "      <td>2020-05-27</td>\n",
       "    </tr>\n",
       "    <tr>\n",
       "      <th>154</th>\n",
       "      <td>2020-05-28</td>\n",
       "    </tr>\n",
       "    <tr>\n",
       "      <th>155</th>\n",
       "      <td>2020-05-29</td>\n",
       "    </tr>\n",
       "  </tbody>\n",
       "</table>\n",
       "</div>"
      ],
      "text/plain": [
       "            ds\n",
       "151 2020-05-25\n",
       "152 2020-05-26\n",
       "153 2020-05-27\n",
       "154 2020-05-28\n",
       "155 2020-05-29"
      ]
     },
     "execution_count": 55,
     "metadata": {},
     "output_type": "execute_result"
    }
   ],
   "source": [
    "#Step 3 — Time Series Forecasting with Prophet\n",
    "# set the uncertainty interval to 95% (the Prophet default is 80%)\n",
    "prophet = Prophet(seasonality_mode = 'multiplicative', yearly_seasonality=False, daily_seasonality=True, weekly_seasonality=True, interval_width=0.95)\n",
    "prophet.fit(df)\n",
    "future_dates = prophet.make_future_dataframe(periods=75, freq='d')\n",
    "future_dates.tail()"
   ]
  },
  {
   "cell_type": "code",
   "execution_count": null,
   "metadata": {},
   "outputs": [],
   "source": [
    "# yhat column is the mean value of the prediction of the total\n",
    "# number of covid cases. And the columns yhat_lower and yhat_upper is the lowermost and uppermost \n",
    "# value of the prediction of total number of covid cases. We will be primarily using the column yhat_lower \n",
    "# because it close to our actual value of total number of covid cases. In Figure(20), we plot predicted (yhat_lower)\n",
    "#  and actual value values of total number of covid cases.\n"
   ]
  },
  {
   "cell_type": "code",
   "execution_count": 57,
   "metadata": {},
   "outputs": [
    {
     "data": {
      "text/html": [
       "<div>\n",
       "<style scoped>\n",
       "    .dataframe tbody tr th:only-of-type {\n",
       "        vertical-align: middle;\n",
       "    }\n",
       "\n",
       "    .dataframe tbody tr th {\n",
       "        vertical-align: top;\n",
       "    }\n",
       "\n",
       "    .dataframe thead th {\n",
       "        text-align: right;\n",
       "    }\n",
       "</style>\n",
       "<table border=\"1\" class=\"dataframe\">\n",
       "  <thead>\n",
       "    <tr style=\"text-align: right;\">\n",
       "      <th></th>\n",
       "      <th>ds</th>\n",
       "      <th>yhat</th>\n",
       "      <th>yhat_lower</th>\n",
       "      <th>yhat_upper</th>\n",
       "    </tr>\n",
       "  </thead>\n",
       "  <tbody>\n",
       "    <tr>\n",
       "      <th>151</th>\n",
       "      <td>2020-05-25</td>\n",
       "      <td>835.444752</td>\n",
       "      <td>114.508710</td>\n",
       "      <td>1463.095261</td>\n",
       "    </tr>\n",
       "    <tr>\n",
       "      <th>152</th>\n",
       "      <td>2020-05-26</td>\n",
       "      <td>610.308351</td>\n",
       "      <td>95.048364</td>\n",
       "      <td>1142.637649</td>\n",
       "    </tr>\n",
       "    <tr>\n",
       "      <th>153</th>\n",
       "      <td>2020-05-27</td>\n",
       "      <td>865.993842</td>\n",
       "      <td>218.353019</td>\n",
       "      <td>1560.319041</td>\n",
       "    </tr>\n",
       "    <tr>\n",
       "      <th>154</th>\n",
       "      <td>2020-05-28</td>\n",
       "      <td>663.129950</td>\n",
       "      <td>107.422099</td>\n",
       "      <td>1233.090981</td>\n",
       "    </tr>\n",
       "    <tr>\n",
       "      <th>155</th>\n",
       "      <td>2020-05-29</td>\n",
       "      <td>879.882763</td>\n",
       "      <td>167.765083</td>\n",
       "      <td>1572.514316</td>\n",
       "    </tr>\n",
       "  </tbody>\n",
       "</table>\n",
       "</div>"
      ],
      "text/plain": [
       "            ds        yhat  yhat_lower   yhat_upper\n",
       "151 2020-05-25  835.444752  114.508710  1463.095261\n",
       "152 2020-05-26  610.308351   95.048364  1142.637649\n",
       "153 2020-05-27  865.993842  218.353019  1560.319041\n",
       "154 2020-05-28  663.129950  107.422099  1233.090981\n",
       "155 2020-05-29  879.882763  167.765083  1572.514316"
      ]
     },
     "execution_count": 57,
     "metadata": {},
     "output_type": "execute_result"
    }
   ],
   "source": [
    "# comparer prediction na ba figures reel il faudrait to salela dataset oyo avec les autres pays / Dataset chine + pays\n",
    "forecast = prophet.predict(future_dates)\n",
    "forecast[['ds', 'yhat', 'yhat_lower', 'yhat_upper']].tail()"
   ]
  },
  {
   "cell_type": "code",
   "execution_count": 58,
   "metadata": {
    "scrolled": false
   },
   "outputs": [
    {
     "data": {
      "image/png": "[encoded data removed]",
      "text/plain": [
       "<Figure size 720x432 with 1 Axes>"
      ]
     },
     "metadata": {},
     "output_type": "display_data"
    }
   ],
   "source": [
    "# on 29th may we had 5M cases worlwide. according to our findings (predicted values) on 29th may show that 2M are directly connect to China\n",
    "#future = prophet.make_future_dataframe(periods=12 * 6, freq='M')\n",
    "#forecast = prophet.predict(future)\n",
    "fig = prophet.plot(forecast)\n",
    "a = add_changepoints_to_plot(fig.gca(), prophet, forecast)\n",
    "plt.show()"
   ]
  },
  {
   "cell_type": "code",
   "execution_count": 60,
   "metadata": {},
   "outputs": [
    {
     "data": {
      "image/png": "[encoded data removed]",
      "text/plain": [
       "<Figure size 648x648 with 3 Axes>"
      ]
     },
     "metadata": {},
     "output_type": "display_data"
    }
   ],
   "source": [
    "#a = add_changepoints_to_plot(fig.gca(), prophet, forecast)\n",
    "#plt.show()\n",
    "fig2 = prophet.plot_components(forecast)\n",
    "plt.show()"
   ]
  },
  {
   "cell_type": "code",
   "execution_count": null,
   "metadata": {},
   "outputs": [],
   "source": []
  },
  {
   "cell_type": "code",
   "execution_count": 46,
   "metadata": {},
   "outputs": [
    {
     "ename": "SyntaxError",
     "evalue": "invalid syntax (<ipython-input-46-d9a1c76acec7>, line 3)",
     "output_type": "error",
     "traceback": [
      "\u001b[1;36m  File \u001b[1;32m\"<ipython-input-46-d9a1c76acec7>\"\u001b[1;36m, line \u001b[1;32m3\u001b[0m\n\u001b[1;33m    Adding Multiple Regressors\u001b[0m\n\u001b[1;37m    ^\u001b[0m\n\u001b[1;31mSyntaxError\u001b[0m\u001b[1;31m:\u001b[0m invalid syntax\n"
     ]
    }
   ],
   "source": []
  },
  {
   "cell_type": "code",
   "execution_count": null,
   "metadata": {},
   "outputs": [],
   "source": []
  },
  {
   "cell_type": "code",
   "execution_count": null,
   "metadata": {},
   "outputs": [],
   "source": []
  },
  {
   "cell_type": "code",
   "execution_count": null,
   "metadata": {},
   "outputs": [],
   "source": []
  },
  {
   "cell_type": "code",
   "execution_count": null,
   "metadata": {},
   "outputs": [],
   "source": [
    "my_model.plot(forecast,\n",
    "my_model.plot_components(forec\n",
    "Adding Multiple Regressors\n",
    "train_dataset[‘type’] = X[‘type’]\n",
    "#Additional Regressor\n",
    "pro_regressor= Prophet()\n",
    "pro_regressor.add_regressor('type')\n",
    "pro_regressor.add_regressor('Total Volume')\n",
    "pro_regressor.add_regressor('4046')\n",
    "pro_regressor.add_regressor('4225')\n",
    "pro_regressor.add_regressor('4770')\n",
    "pro_regressor.add_regressor('Small Bags')\n",
    "#Fitting the data\n",
    "pro_regressor.fit(train_X)\n",
    "future_data = pro_regressor.make_future_dataframe(periods=249)\n",
    "#forecast the data for Test  data\n",
    "forecast_data = pro_regressor.predict(test_X)\n",
    "pro_regressor.plot(forecast_data);\n"
   ]
  },
  {
   "cell_type": "code",
   "execution_count": 64,
   "metadata": {},
   "outputs": [],
   "source": [
    "covid_alpha.to_csv(r\"C:\\Users\\UTILISATEUR\\Desktop\\Borel\\cvd.csv\")"
   ]
  },
  {
   "cell_type": "code",
   "execution_count": null,
   "metadata": {},
   "outputs": [],
   "source": [
    "# de"
   ]
  },
  {
   "cell_type": "code",
   "execution_count": null,
   "metadata": {},
   "outputs": [],
   "source": []
  },
  {
   "cell_type": "code",
   "execution_count": null,
   "metadata": {},
   "outputs": [],
   "source": []
  },
  {
   "cell_type": "code",
   "execution_count": null,
   "metadata": {},
   "outputs": [],
   "source": []
  },
  {
   "cell_type": "code",
   "execution_count": null,
   "metadata": {},
   "outputs": [],
   "source": []
  },
  {
   "cell_type": "code",
   "execution_count": null,
   "metadata": {},
   "outputs": [],
   "source": []
  },
  {
   "cell_type": "code",
   "execution_count": null,
   "metadata": {},
   "outputs": [],
   "source": []
  },
  {
   "cell_type": "code",
   "execution_count": null,
   "metadata": {},
   "outputs": [],
   "source": []
  },
  {
   "cell_type": "code",
   "execution_count": null,
   "metadata": {},
   "outputs": [],
   "source": []
  },
  {
   "cell_type": "code",
   "execution_count": null,
   "metadata": {},
   "outputs": [],
   "source": []
  },
  {
   "cell_type": "code",
   "execution_count": null,
   "metadata": {},
   "outputs": [],
   "source": []
  },
  {
   "cell_type": "code",
   "execution_count": null,
   "metadata": {},
   "outputs": [],
   "source": []
  },
  {
   "cell_type": "code",
   "execution_count": null,
   "metadata": {},
   "outputs": [],
   "source": []
  },
  {
   "cell_type": "code",
   "execution_count": null,
   "metadata": {},
   "outputs": [],
   "source": []
  },
  {
   "cell_type": "code",
   "execution_count": null,
   "metadata": {},
   "outputs": [],
   "source": []
  },
  {
   "cell_type": "code",
   "execution_count": null,
   "metadata": {},
   "outputs": [],
   "source": []
  },
  {
   "cell_type": "code",
   "execution_count": null,
   "metadata": {},
   "outputs": [],
   "source": []
  },
  {
   "cell_type": "code",
   "execution_count": null,
   "metadata": {},
   "outputs": [],
   "source": []
  },
  {
   "cell_type": "code",
   "execution_count": null,
   "metadata": {},
   "outputs": [],
   "source": []
  },
  {
   "cell_type": "code",
   "execution_count": null,
   "metadata": {},
   "outputs": [],
   "source": []
  },
  {
   "cell_type": "code",
   "execution_count": null,
   "metadata": {},
   "outputs": [],
   "source": []
  },
  {
   "cell_type": "code",
   "execution_count": null,
   "metadata": {},
   "outputs": [],
   "source": []
  },
  {
   "cell_type": "code",
   "execution_count": null,
   "metadata": {},
   "outputs": [],
   "source": []
  },
  {
   "cell_type": "code",
   "execution_count": null,
   "metadata": {},
   "outputs": [],
   "source": []
  },
  {
   "cell_type": "code",
   "execution_count": null,
   "metadata": {},
   "outputs": [],
   "source": []
  },
  {
   "cell_type": "code",
   "execution_count": null,
   "metadata": {},
   "outputs": [],
   "source": []
  },
  {
   "cell_type": "code",
   "execution_count": null,
   "metadata": {},
   "outputs": [],
   "source": []
  },
  {
   "cell_type": "code",
   "execution_count": null,
   "metadata": {},
   "outputs": [],
   "source": []
  },
  {
   "cell_type": "code",
   "execution_count": null,
   "metadata": {},
   "outputs": [],
   "source": []
  },
  {
   "cell_type": "code",
   "execution_count": null,
   "metadata": {},
   "outputs": [],
   "source": []
  },
  {
   "cell_type": "code",
   "execution_count": null,
   "metadata": {},
   "outputs": [],
   "source": []
  },
  {
   "cell_type": "code",
   "execution_count": null,
   "metadata": {},
   "outputs": [],
   "source": []
  },
  {
   "cell_type": "code",
   "execution_count": null,
   "metadata": {},
   "outputs": [],
   "source": []
  },
  {
   "cell_type": "code",
   "execution_count": null,
   "metadata": {},
   "outputs": [],
   "source": []
  },
  {
   "cell_type": "code",
   "execution_count": null,
   "metadata": {},
   "outputs": [],
   "source": []
  },
  {
   "cell_type": "code",
   "execution_count": null,
   "metadata": {},
   "outputs": [],
   "source": []
  },
  {
   "cell_type": "code",
   "execution_count": null,
   "metadata": {},
   "outputs": [],
   "source": []
  },
  {
   "cell_type": "code",
   "execution_count": null,
   "metadata": {},
   "outputs": [],
   "source": []
  },
  {
   "cell_type": "code",
   "execution_count": null,
   "metadata": {},
   "outputs": [],
   "source": []
  },
  {
   "cell_type": "code",
   "execution_count": null,
   "metadata": {},
   "outputs": [],
   "source": []
  },
  {
   "cell_type": "code",
   "execution_count": null,
   "metadata": {},
   "outputs": [],
   "source": []
  },
  {
   "cell_type": "code",
   "execution_count": null,
   "metadata": {},
   "outputs": [],
   "source": []
  },
  {
   "cell_type": "code",
   "execution_count": null,
   "metadata": {},
   "outputs": [],
   "source": []
  },
  {
   "cell_type": "code",
   "execution_count": null,
   "metadata": {},
   "outputs": [],
   "source": []
  },
  {
   "cell_type": "code",
   "execution_count": null,
   "metadata": {},
   "outputs": [],
   "source": []
  },
  {
   "cell_type": "code",
   "execution_count": null,
   "metadata": {},
   "outputs": [],
   "source": []
  },
  {
   "cell_type": "code",
   "execution_count": null,
   "metadata": {},
   "outputs": [],
   "source": []
  },
  {
   "cell_type": "code",
   "execution_count": null,
   "metadata": {},
   "outputs": [],
   "source": []
  },
  {
   "cell_type": "code",
   "execution_count": null,
   "metadata": {},
   "outputs": [],
   "source": []
  },
  {
   "cell_type": "code",
   "execution_count": null,
   "metadata": {},
   "outputs": [],
   "source": []
  },
  {
   "cell_type": "code",
   "execution_count": null,
   "metadata": {},
   "outputs": [],
   "source": []
  },
  {
   "cell_type": "code",
   "execution_count": null,
   "metadata": {},
   "outputs": [],
   "source": []
  },
  {
   "cell_type": "code",
   "execution_count": null,
   "metadata": {},
   "outputs": [],
   "source": []
  },
  {
   "cell_type": "code",
   "execution_count": null,
   "metadata": {},
   "outputs": [],
   "source": []
  },
  {
   "cell_type": "code",
   "execution_count": null,
   "metadata": {},
   "outputs": [],
   "source": []
  },
  {
   "cell_type": "code",
   "execution_count": null,
   "metadata": {},
   "outputs": [],
   "source": []
  },
  {
   "cell_type": "code",
   "execution_count": null,
   "metadata": {},
   "outputs": [],
   "source": []
  },
  {
   "cell_type": "code",
   "execution_count": null,
   "metadata": {},
   "outputs": [],
   "source": []
  },
  {
   "cell_type": "code",
   "execution_count": null,
   "metadata": {},
   "outputs": [],
   "source": []
  },
  {
   "cell_type": "code",
   "execution_count": null,
   "metadata": {},
   "outputs": [],
   "source": []
  },
  {
   "cell_type": "code",
   "execution_count": null,
   "metadata": {},
   "outputs": [],
   "source": []
  },
  {
   "cell_type": "code",
   "execution_count": null,
   "metadata": {},
   "outputs": [],
   "source": []
  },
  {
   "cell_type": "code",
   "execution_count": null,
   "metadata": {},
   "outputs": [],
   "source": []
  },
  {
   "cell_type": "code",
   "execution_count": null,
   "metadata": {},
   "outputs": [],
   "source": []
  },
  {
   "cell_type": "code",
   "execution_count": null,
   "metadata": {},
   "outputs": [],
   "source": []
  },
  {
   "cell_type": "code",
   "execution_count": null,
   "metadata": {},
   "outputs": [],
   "source": []
  },
  {
   "cell_type": "code",
   "execution_count": null,
   "metadata": {},
   "outputs": [],
   "source": []
  },
  {
   "cell_type": "code",
   "execution_count": null,
   "metadata": {},
   "outputs": [],
   "source": []
  },
  {
   "cell_type": "code",
   "execution_count": null,
   "metadata": {},
   "outputs": [],
   "source": []
  },
  {
   "cell_type": "code",
   "execution_count": null,
   "metadata": {},
   "outputs": [],
   "source": []
  }
 ],
 "metadata": {
  "kernelspec": {
   "display_name": "Python 3",
   "language": "python",
   "name": "python3"
  },
  "language_info": {
   "codemirror_mode": {
    "name": "ipython",
    "version": 3
   },
   "file_extension": ".py",
   "mimetype": "text/x-python",
   "name": "python",
   "nbconvert_exporter": "python",
   "pygments_lexer": "ipython3",
   "version": "3.8.3"
  }
 },
 "nbformat": 4,
 "nbformat_minor": 4
}
